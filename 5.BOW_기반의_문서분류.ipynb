{
  "nbformat": 4,
  "nbformat_minor": 0,
  "metadata": {
    "colab": {
      "provenance": [],
      "collapsed_sections": [],
      "authorship_tag": "ABX9TyOY/jVCgesbvCraFX1Efbfz",
      "include_colab_link": true
    },
    "kernelspec": {
      "name": "python3",
      "display_name": "Python 3"
    },
    "language_info": {
      "name": "python"
    }
  },
  "cells": [
    {
      "cell_type": "markdown",
      "metadata": {
        "id": "view-in-github",
        "colab_type": "text"
      },
      "source": [
        "<a href=\"https://colab.research.google.com/github/kmalicekim/NLP_practice_mine/blob/master/5.BOW_%EA%B8%B0%EB%B0%98%EC%9D%98_%EB%AC%B8%EC%84%9C%EB%B6%84%EB%A5%98.ipynb\" target=\"_parent\"><img src=\"https://colab.research.google.com/assets/colab-badge.svg\" alt=\"Open In Colab\"/></a>"
      ]
    },
    {
      "cell_type": "markdown",
      "source": [
        "## BOW 기반의 문서 분류\n",
        "\n",
        "## 1. 20뉴스그룹 데이터 준비 및 특성 추출"
      ],
      "metadata": {
        "id": "fjIkL73UqYrJ"
      }
    },
    {
      "cell_type": "code",
      "source": [
        "from sklearn.datasets import fetch_20newsgroups\n",
        "\n",
        "# 20개의 토픽 중 선택하고자 하는 토픽을 리스트로 생성\n",
        "categories = ['alt.atheism', 'talk.religion.misc', 'comp.graphics', 'sci.space']\n",
        "\n",
        "# 학습 데이터셋 가져옴\n",
        "newsgroups_train = fetch_20newsgroups(subset = 'train', \n",
        "                                      remove = ('headers', 'footers', 'quotes'), #메일 내용에서 hint가 되는 부분 삭제 (순수하게 내용만으로 분류하기위해)\n",
        "                                      categories = categories)\n",
        "\n",
        "# 검증 데이터셋 가져옴\n",
        "newsgroups_test = fetch_20newsgroups(subset = 'test', \n",
        "                                     remove = ('headers', 'footers', 'quotes'),\n",
        "                                     categories = categories)\n",
        "\n",
        "print('#Train set size:', len(newsgroups_train.data))\n",
        "print('#Test set size:', len(newsgroups_test.data))\n",
        "print('#Selected categories:', newsgroups_train.target_names)\n",
        "print('#Train labels:', set(newsgroups_train.target))\n"
      ],
      "metadata": {
        "colab": {
          "base_uri": "https://localhost:8080/"
        },
        "id": "jrdjZ5qqqe27",
        "outputId": "a79dc6cf-cc21-4d15-a02f-1fd124e3bb91"
      },
      "execution_count": 1,
      "outputs": [
        {
          "output_type": "stream",
          "name": "stdout",
          "text": [
            "#Train set size: 2034\n",
            "#Test set size: 1353\n",
            "#Selected categories: ['alt.atheism', 'comp.graphics', 'sci.space', 'talk.religion.misc']\n",
            "#Train labels: {0, 1, 2, 3}\n"
          ]
        }
      ]
    },
    {
      "cell_type": "code",
      "source": [
        "print('#Train set text samples:', newsgroups_train.data[0])\n",
        "print('#Train set label samples:', newsgroups_train.target[0])\n",
        "print('#Test set text samples:', newsgroups_test.data[0])\n",
        "print('#Test set label samples:', newsgroups_test.target[0])"
      ],
      "metadata": {
        "colab": {
          "base_uri": "https://localhost:8080/"
        },
        "id": "HDD87ovar4B3",
        "outputId": "b0e4b7c2-84a2-4d26-be5a-0d9690c457c4"
      },
      "execution_count": 2,
      "outputs": [
        {
          "output_type": "stream",
          "name": "stdout",
          "text": [
            "#Train set text samples: Hi,\n",
            "\n",
            "I've noticed that if you only save a model (with all your mapping planes\n",
            "positioned carefully) to a .3DS file that when you reload it after restarting\n",
            "3DS, they are given a default position and orientation.  But if you save\n",
            "to a .PRJ file their positions/orientation are preserved.  Does anyone\n",
            "know why this information is not stored in the .3DS file?  Nothing is\n",
            "explicitly said in the manual about saving texture rules in the .PRJ file. \n",
            "I'd like to be able to read the texture rule information, does anyone have \n",
            "the format for the .PRJ file?\n",
            "\n",
            "Is the .CEL file format available from somewhere?\n",
            "\n",
            "Rych\n",
            "#Train set label samples: 1\n",
            "#Test set text samples: TRry the SKywatch project in  Arizona.\n",
            "#Test set label samples: 2\n"
          ]
        }
      ]
    },
    {
      "cell_type": "code",
      "source": [
        "X_train = newsgroups_train.data #학습 데이터셋 문서\n",
        "y_train = newsgroups_train.target #학습 데이터셋 라벨\n",
        "\n",
        "X_test = newsgroups_test.data #검증 데이터셋 문서\n",
        "y_test = newsgroups_test.target #검증 데이터셋 라벨\n",
        "\n",
        "\n",
        "from sklearn.feature_extraction.text import CountVectorizer\n",
        "\n",
        "cv = CountVectorizer(max_features=2000, min_df=5, max_df=0.5) #5이상 & 전체의 50% 안넘어가는 것만\n",
        "\n",
        "X_train_cv = cv.fit_transform(X_train) #train set을 변환\n",
        "print('Train set dimension:', X_train_cv.shape)\n",
        "\n",
        "X_test_cv = cv.fit_transform(X_test) #test set을 변환\n",
        "print('Test set dimension:', X_test_cv.shape)"
      ],
      "metadata": {
        "colab": {
          "base_uri": "https://localhost:8080/"
        },
        "id": "vSXYlQERshJm",
        "outputId": "2d0fdbca-ea12-4e72-97e2-47eabdcdf10f"
      },
      "execution_count": 3,
      "outputs": [
        {
          "output_type": "stream",
          "name": "stdout",
          "text": [
            "Train set dimension: (2034, 2000)\n",
            "Test set dimension: (1353, 2000)\n"
          ]
        }
      ]
    },
    {
      "cell_type": "code",
      "source": [
        "print(len(cv.get_feature_names()))\n",
        "\n",
        "for word, count in zip(cv.get_feature_names_out()[:100], X_train_cv[0].toarray()[0,:100]):\n",
        "  print(word, ':', count, end=', ')"
      ],
      "metadata": {
        "colab": {
          "base_uri": "https://localhost:8080/"
        },
        "id": "Sj6lepJTt8F_",
        "outputId": "4d6ef8b8-5fc6-4ada-d7a9-ec70d4920412"
      },
      "execution_count": 4,
      "outputs": [
        {
          "output_type": "stream",
          "name": "stdout",
          "text": [
            "2000\n",
            "00 : 0, 000 : 0, 10 : 0, 100 : 0, 11 : 0, 12 : 0, 128 : 0, 129 : 0, 13 : 0, 130 : 0, 14 : 0, 15 : 0, 150 : 0, 16 : 0, 17 : 0, 18 : 0, 19 : 0, 192 : 0, 1987 : 0, 1988 : 0, 1989 : 0, 1990 : 0, 1991 : 0, 1992 : 0, 1993 : 0, 20 : 0, 200 : 0, 21 : 0, 22 : 0, 23 : 0, 24 : 0, 24bit : 0, 25 : 0, 256 : 0, 26 : 0, 27 : 0, 275 : 0, 28 : 0, 286 : 0, 29 : 0, 2d : 0, 30 : 0, 300 : 0, 31 : 0, 32 : 0, 33 : 0, 34 : 0, 35 : 0, 36 : 0, 386 : 0, 3d : 0, 40 : 0, 41 : 0, 42 : 0, 44 : 0, 45 : 0, 48 : 0, 50 : 0, 500 : 0, 60 : 0, 61 : 0, 64 : 0, 65 : 0, 70 : 0, 75 : 0, 80 : 0, 800 : 0, 90 : 0, 91 : 0, 92 : 0, 93 : 1, 95 : 0, ability : 1, able : 0, abortion : 0, about : 0, above : 0, absolute : 0, absolutely : 0, ac : 0, accept : 0, accepted : 0, access : 0, according : 0, account : 0, across : 0, act : 0, action : 0, actions : 0, active : 0, activity : 0, actual : 0, actually : 0, ad : 0, add : 0, added : 0, addition : 0, additional : 0, address : 0, addresses : 0, "
          ]
        },
        {
          "output_type": "stream",
          "name": "stderr",
          "text": [
            "/usr/local/lib/python3.7/dist-packages/sklearn/utils/deprecation.py:87: FutureWarning: Function get_feature_names is deprecated; get_feature_names is deprecated in 1.0 and will be removed in 1.2. Please use get_feature_names_out instead.\n",
            "  warnings.warn(msg, category=FutureWarning)\n"
          ]
        }
      ]
    },
    {
      "cell_type": "markdown",
      "source": [
        "## 2. 머신러닝과 문서 분류 과정에 대한 이해\n",
        "\n",
        "## 3. 나이브 베이즈 분류기 (Naive Bayse Classifier)를 이용한 문서 분류"
      ],
      "metadata": {
        "id": "cs17e666w1Qn"
      }
    },
    {
      "cell_type": "code",
      "source": [
        "from sklearn.naive_bayes import MultinomialNB #sklearn이 제공하는 MultinomialNB 사용\n",
        "NB_clf = MultinomialNB() # 분류기 선언\n",
        "\n",
        "NB_clf.fit(X_train_cv, y_train) #train set을 이용하여 분류기(classifier)를 학습\n",
        "\n",
        "print('Train set score: {:.3f}'.format(NB_clf.score(X_train_cv, y_train))) #train set에 대한 예측정확도 확인\n",
        "print('Test set score: {:.3f}'.format(NB_clf.score(X_test_cv, y_test))) #test set에 대한 예측정확도 확인"
      ],
      "metadata": {
        "colab": {
          "base_uri": "https://localhost:8080/"
        },
        "id": "BVx8Clomt_ea",
        "outputId": "4ac10241-41a7-41c3-de43-ae0cee208f10"
      },
      "execution_count": 5,
      "outputs": [
        {
          "output_type": "stream",
          "name": "stdout",
          "text": [
            "Train set score: 0.824\n",
            "Test set score: 0.368\n"
          ]
        }
      ]
    },
    {
      "cell_type": "code",
      "source": [
        "print('#First document and label in test data:', X_test[0], y_test[0])\n",
        "print('#Second document and label in test data:', X_test[1], y_test[1])\n",
        "\n",
        "pred = NB_clf.predict(X_test_cv[:2]) \n",
        "\n",
        "print('#Predicted labels:', pred)\n",
        "print('#Predicted categories:', newsgroups_train.target_names[pred[0]], newsgroups_train.target_names[pred[1]])"
      ],
      "metadata": {
        "colab": {
          "base_uri": "https://localhost:8080/"
        },
        "id": "9Riyv0JvyYzG",
        "outputId": "f4149fe0-f74f-4db4-9423-43791d3d4a6d"
      },
      "execution_count": 6,
      "outputs": [
        {
          "output_type": "stream",
          "name": "stdout",
          "text": [
            "#First document and label in test data: TRry the SKywatch project in  Arizona. 2\n",
            "#Second document and label in test data: The Vatican library recently made a tour of the US.\n",
            " Can anyone help me in finding a FTP site where this collection is \n",
            " available. 1\n",
            "#Predicted labels: [1 2]\n",
            "#Predicted categories: comp.graphics sci.space\n"
          ]
        }
      ]
    },
    {
      "cell_type": "code",
      "source": [
        "from sklearn.feature_extraction.text import TfidfVectorizer\n",
        "\n",
        "#CountVectorizer와 동일한 인수 사용\n",
        "tfidf = TfidfVectorizer(max_features=2000, min_df=5, max_df=0.5)\n",
        "X_train_tfidf = tfidf.fit_transform(X_train) #train set을 변환\n",
        "X_test_tfidf = tfidf.transform(X_test) #test set을 변환\n",
        "\n",
        "NB_clf.fit(X_train_tfidf, y_train)\n",
        "print('Train set score: {:.3f}'.format(NB_clf.score(X_train_tfidf, y_train)))\n",
        "print('Test set score: {:.3f}'.format(NB_clf.score(X_test_tfidf, y_test)))"
      ],
      "metadata": {
        "colab": {
          "base_uri": "https://localhost:8080/"
        },
        "id": "ZsbZDaax_-Pb",
        "outputId": "328c7d25-3083-4141-b7b7-4ade6429e407"
      },
      "execution_count": 7,
      "outputs": [
        {
          "output_type": "stream",
          "name": "stdout",
          "text": [
            "Train set score: 0.862\n",
            "Test set score: 0.741\n"
          ]
        }
      ]
    },
    {
      "cell_type": "code",
      "source": [
        "import numpy as np\n",
        "\n",
        "def top10_features(classifier, vectorizer, categories):\n",
        "  feature_names = np.asarray(vectorizer.get_feature_names_out())  # asarray() : convert an given input to an array\n",
        "  for i, category in enumerate(categories):\n",
        "    # 역순으로 정렬하기 위해 계수에 음수를 취해서 정렬 후 앞에서부터 10개의 값을 반환\n",
        "    top10 = np.argsort(-classifier.coef_[i])[:10]\n",
        "\n",
        "    # 카테고리와 영향이 큰 특성 10개 출력\n",
        "    print(\"{}:{}\".format(category, \", \".join(feature_names[top10])))\n",
        "\n",
        "top10_features(NB_clf, tfidf, newsgroups_train.target_names)    "
      ],
      "metadata": {
        "colab": {
          "base_uri": "https://localhost:8080/"
        },
        "id": "gf5pX4HqBU69",
        "outputId": "2106ff43-c4ed-4cfb-91c1-b5b3de86033d"
      },
      "execution_count": 8,
      "outputs": [
        {
          "output_type": "stream",
          "name": "stdout",
          "text": [
            "alt.atheism:you, not, are, be, this, have, as, what, they, if\n",
            "comp.graphics:you, on, graphics, this, have, any, can, or, with, thanks\n",
            "sci.space:space, on, you, be, was, this, as, they, have, are\n",
            "talk.religion.misc:you, not, he, are, as, this, be, god, was, they\n"
          ]
        },
        {
          "output_type": "stream",
          "name": "stderr",
          "text": [
            "/usr/local/lib/python3.7/dist-packages/sklearn/utils/deprecation.py:103: FutureWarning: Attribute `coef_` was deprecated in version 0.24 and will be removed in 1.1 (renaming of 0.26).\n",
            "  warnings.warn(msg, category=FutureWarning)\n"
          ]
        }
      ]
    },
    {
      "cell_type": "markdown",
      "source": [
        "## 4. 로지스틱 회귀분석을 이용한 문서 분류"
      ],
      "metadata": {
        "id": "Mn2Pc6JeI10_"
      }
    },
    {
      "cell_type": "code",
      "source": [
        "from sklearn.linear_model import LogisticRegression \n",
        "\n",
        "# count vector에 대해 regression을 해서 NB와 비교\n",
        "LR_clf = LogisticRegression() # 분류기 선언\n",
        "LR_clf.fit(X_train_tfidf, y_train)\n",
        "print('Train set score: {:.3f}'.format(LR_clf.score(X_train_tfidf, y_train)))\n",
        "print('Test set score: {:.3f}'.format(LR_clf.score(X_test_tfidf, y_test)))"
      ],
      "metadata": {
        "colab": {
          "base_uri": "https://localhost:8080/"
        },
        "id": "h9Mxw_ChEINE",
        "outputId": "f831ec70-5d99-4f1d-c53c-9fae6c6cbb87"
      },
      "execution_count": 9,
      "outputs": [
        {
          "output_type": "stream",
          "name": "stdout",
          "text": [
            "Train set score: 0.930\n",
            "Test set score: 0.734\n"
          ]
        }
      ]
    },
    {
      "cell_type": "markdown",
      "source": [
        "## 릿지 회귀 (ridge regression)"
      ],
      "metadata": {
        "id": "nKGsU2clJkHY"
      }
    },
    {
      "cell_type": "code",
      "source": [
        "from sklearn.linear_model import RidgeClassifier\n",
        "\n",
        "ridge_clf = RidgeClassifier()\n",
        "ridge_clf.fit(X_train_tfidf, y_train)\n",
        "print('Train set score: {:.3f}'.format(ridge_clf.score(X_train_tfidf, y_train)))\n",
        "print('Test set score: {:.3f}'.format(ridge_clf.score(X_test_tfidf, y_test)))"
      ],
      "metadata": {
        "colab": {
          "base_uri": "https://localhost:8080/"
        },
        "id": "OmsT_AeiJW2i",
        "outputId": "6345e707-43b1-4c42-b6ae-8781c6aaca95"
      },
      "execution_count": 10,
      "outputs": [
        {
          "output_type": "stream",
          "name": "stdout",
          "text": [
            "Train set score: 0.960\n",
            "Test set score: 0.735\n"
          ]
        }
      ]
    },
    {
      "cell_type": "code",
      "source": [
        "import numpy as np\n",
        "from sklearn.model_selection import train_test_split \n",
        "\n",
        "X_train_ridge, X_val_ridge, y_train_ridge, y_val_ridge = train_test_split(\n",
        "    X_train_tfidf, y_train, test_size=0.2, random_state=42)\n",
        "\n",
        "max_score = 0\n",
        "max_alpha = 0\n",
        "\n",
        "# ridge에서 가중치(w)의 절댓값을 가능한 한 작게 만드려고 함. 과대적합이 되지 않도록 모델을 강제로 제한(L2규제)\n",
        "# alpha 매개변수로 훈련 세트의 성능 대비 모델을 얼마나 단순화할지를 지정 가능 (기본값 alpha = 1.0)\n",
        "# alpha 값을 높이면 계수를 0에 더 가깝게 만들어 훈련세트의 성능은 나빠지지만 일반화에는 쉬워짐\n",
        "\n",
        "for alpha in np.arange(0.1, 10, 0.1): #alpha를 0.1부터 10까지 0.1씩 증가 \n",
        "  ridge_clf = RidgeClassifier(alpha=alpha)\n",
        "  ridge_clf.fit(X_train_ridge, y_train_ridge) \n",
        "  score = ridge_clf.score(X_val_ridge, y_val_ridge)\n",
        "  if score > max_score:\n",
        "    max_score = score\n",
        "    max_alpha = alpha\n",
        "\n",
        "print('Max alpha {:.3f} at max validation score {:.3f}'.format(max_alpha, max_score))    \n"
      ],
      "metadata": {
        "id": "cBD6MMQGKEJA",
        "colab": {
          "base_uri": "https://localhost:8080/"
        },
        "outputId": "6ec74869-ba3c-4cee-bb93-53eff6898751"
      },
      "execution_count": 11,
      "outputs": [
        {
          "output_type": "stream",
          "name": "stdout",
          "text": [
            "Max alpha 1.600 at max validation score 0.826\n"
          ]
        }
      ]
    },
    {
      "cell_type": "code",
      "source": [
        "ridge_clf = RidgeClassifier(alpha=1.6)\n",
        "ridge_clf.fit(X_train_tfidf, y_train)\n",
        "\n",
        "print('Train set score: {:.3f}'.format(ridge_clf.score(X_train_tfidf, y_train)))\n",
        "print('Test set score: {:.3f}'.format(ridge_clf.score(X_test_tfidf, y_test)))"
      ],
      "metadata": {
        "colab": {
          "base_uri": "https://localhost:8080/"
        },
        "id": "wjgeRG5tPKKy",
        "outputId": "623ed1d1-ce1e-4c20-bf1c-c29c95b1d88b"
      },
      "execution_count": 12,
      "outputs": [
        {
          "output_type": "stream",
          "name": "stdout",
          "text": [
            "Train set score: 0.948\n",
            "Test set score: 0.739\n"
          ]
        }
      ]
    },
    {
      "cell_type": "code",
      "source": [
        "top10_features(ridge_clf, tfidf, newsgroups_train.target_names) #ridge 분류기가 훨씬 좋은 결과물 보여줌"
      ],
      "metadata": {
        "colab": {
          "base_uri": "https://localhost:8080/"
        },
        "id": "_WLSPybPPhtq",
        "outputId": "aa30b15d-8a49-4acd-90a3-4f0acca09cc5"
      },
      "execution_count": 13,
      "outputs": [
        {
          "output_type": "stream",
          "name": "stdout",
          "text": [
            "alt.atheism:bobby, religion, atheism, atheists, motto, punishment, islam, deletion, islamic, satan\n",
            "comp.graphics:graphics, computer, 3d, file, image, hi, 42, using, screen, looking\n",
            "sci.space:space, orbit, nasa, spacecraft, moon, sci, launch, flight, funding, idea\n",
            "talk.religion.misc:christian, christians, fbi, blood, order, jesus, objective, children, christ, hudson\n"
          ]
        }
      ]
    },
    {
      "cell_type": "markdown",
      "source": [
        "---"
      ],
      "metadata": {
        "id": "ACWOtOICP7no"
      }
    },
    {
      "cell_type": "markdown",
      "source": [
        "## 라쏘 회귀분석(Lasso regression)을 이용한 특성 선택 (feature selection)"
      ],
      "metadata": {
        "id": "9ejhi9wZPzWu"
      }
    },
    {
      "cell_type": "code",
      "source": [
        "lasso_clf = LogisticRegression(penalty='l1', solver='liblinear', C=1) #Lasso는 동일한 LogisticRegression을 사용하면서 매개변수로 지정. penalty='l1'으로 해주어야 함\n",
        "lasso_clf.fit(X_train_tfidf, y_train)\n",
        "\n",
        "print('#Train set score: {:.3f}'.format(lasso_clf.score(X_train_tfidf, y_train)))\n",
        "print('#Test set score: {:.3f}'.format(lasso_clf.score(X_test_tfidf, y_test)))\n",
        "\n",
        "\n",
        "# 계수(coefficient)중에서 0이 아닌 것들의 개수 출력\n",
        "print('#Used features count: {}'.format(np.sum(lasso_clf.coef_ !=0)), 'out of', X_train_tfidf.shape[1])\n"
      ],
      "metadata": {
        "colab": {
          "base_uri": "https://localhost:8080/"
        },
        "id": "3XClNOR8P5Lp",
        "outputId": "958bb31e-90ec-4e11-e822-f825c35e137d"
      },
      "execution_count": 14,
      "outputs": [
        {
          "output_type": "stream",
          "name": "stdout",
          "text": [
            "#Train set score: 0.819\n",
            "#Test set score: 0.724\n",
            "#Used features count: 437 out of 2000\n"
          ]
        }
      ]
    },
    {
      "cell_type": "code",
      "source": [
        "top10_features(lasso_clf, tfidf, newsgroups_train.target_names)"
      ],
      "metadata": {
        "colab": {
          "base_uri": "https://localhost:8080/"
        },
        "id": "3iEJDUfSZI4O",
        "outputId": "b68a9701-48d8-48e1-9262-8bdf0ed3019d"
      },
      "execution_count": 15,
      "outputs": [
        {
          "output_type": "stream",
          "name": "stdout",
          "text": [
            "alt.atheism:bobby, atheism, atheists, islam, religion, islamic, motto, atheist, satan, vice\n",
            "comp.graphics:graphics, image, 3d, file, computer, hi, video, files, looking, sphere\n",
            "sci.space:space, orbit, launch, nasa, spacecraft, flight, moon, dc, shuttle, solar\n",
            "talk.religion.misc:fbi, christian, christians, christ, order, jesus, children, objective, context, blood\n"
          ]
        }
      ]
    },
    {
      "cell_type": "markdown",
      "source": [
        "---"
      ],
      "metadata": {
        "id": "x91oFbYWeZ2R"
      }
    },
    {
      "cell_type": "markdown",
      "source": [
        "## 5. 결정트리 등을 이용한 기타 문서 분류 방법"
      ],
      "metadata": {
        "id": "J1lMrrXIeWwB"
      }
    },
    {
      "cell_type": "code",
      "source": [
        "from sklearn.tree import DecisionTreeClassifier\n",
        "from sklearn.ensemble import RandomForestClassifier\n",
        "from sklearn.ensemble import GradientBoostingClassifier\n",
        "\n",
        "tree = DecisionTreeClassifier(random_state = 7)\n",
        "tree.fit(X_train_tfidf, y_train)\n",
        "print('#Decision Tree train set score: {:.3f}'.format(tree.score(X_train_tfidf, y_train)))\n",
        "print('#Decision Tree test set score: {:.3f}'.format(tree.score(X_test_tfidf, y_test)))\n",
        "\n",
        "forest = RandomForestClassifier(random_state = 7)\n",
        "forest.fit(X_train_tfidf, y_train)\n",
        "print('#Decision Tree train set score: {:.3f}'.format(forest.score(X_train_tfidf, y_train)))\n",
        "print('#Decision Tree test set score: {:.3f}'.format(forest.score(X_test_tfidf, y_test)))\n",
        "\n",
        "gb = GradientBoostingClassifier(random_state = 7)\n",
        "gb.fit(X_train_tfidf, y_train)\n",
        "print('#Decision Tree train set score: {:.3f}'.format(gb.score(X_train_tfidf, y_train)))\n",
        "print('#Decision Tree test set score: {:.3f}'.format(gb.score(X_test_tfidf, y_test)))\n"
      ],
      "metadata": {
        "colab": {
          "base_uri": "https://localhost:8080/"
        },
        "id": "8O-arKzzeZQi",
        "outputId": "c7d33a4e-f125-429c-d6e3-36989d59cf71"
      },
      "execution_count": 16,
      "outputs": [
        {
          "output_type": "stream",
          "name": "stdout",
          "text": [
            "#Decision Tree train set score: 0.977\n",
            "#Decision Tree test set score: 0.536\n",
            "#Decision Tree train set score: 0.977\n",
            "#Decision Tree test set score: 0.685\n",
            "#Decision Tree train set score: 0.933\n",
            "#Decision Tree test set score: 0.696\n"
          ]
        }
      ]
    },
    {
      "cell_type": "code",
      "source": [
        "# sort & lambda 예제\n",
        "data_list = ['but','i','wont','hesitate','no','more','no','more','it','cannot','wait','im','yours']\n",
        "\n",
        "data_list = list(set(data_list))\n",
        "\n",
        "data_list.sort()\n",
        "print(data_list) \n",
        "\n",
        "data_list.sort(key=lambda x:len(x))\n",
        "print(data_list)\n"
      ],
      "metadata": {
        "colab": {
          "base_uri": "https://localhost:8080/"
        },
        "id": "173toWCYfgrr",
        "outputId": "a02ab443-1211-4002-d5c5-623d48746509"
      },
      "execution_count": 17,
      "outputs": [
        {
          "output_type": "stream",
          "name": "stdout",
          "text": [
            "['but', 'cannot', 'hesitate', 'i', 'im', 'it', 'more', 'no', 'wait', 'wont', 'yours']\n",
            "['i', 'im', 'it', 'no', 'but', 'more', 'wait', 'wont', 'yours', 'cannot', 'hesitate']\n"
          ]
        }
      ]
    },
    {
      "cell_type": "code",
      "source": [
        "sorted_feature_importances = sorted(zip(tfidf.get_feature_names_out(), gb.feature_importances_), \n",
        "                                    key=lambda x:x[1], reverse=True)\n",
        "\n",
        "for feature, value in sorted_feature_importances[:40]:\n",
        "  print('{}:{}'.format(feature, value), end=', ')\n"
      ],
      "metadata": {
        "colab": {
          "base_uri": "https://localhost:8080/"
        },
        "id": "kdEWhMlOfH9D",
        "outputId": "89b180fa-9079-42c4-dfad-016cf2392738"
      },
      "execution_count": 18,
      "outputs": [
        {
          "output_type": "stream",
          "name": "stdout",
          "text": [
            "space:0.12606815556503398, graphics:0.07955738535484687, atheism:0.023543258791466362, thanks:0.023046507462732756, file:0.02055581240238831, orbit:0.020063273938036058, jesus:0.01814149212443511, god:0.017709491540890448, hi:0.016857094927865728, nasa:0.015308260768876465, image:0.015023452519852164, files:0.013797145686816017, christ:0.010426583770790022, moon:0.010376173054679735, bobby:0.010225361352506715, launch:0.010061136447910934, looking:0.009733618292917431, christian:0.009663039306452306, atheists:0.00940203835982551, christians:0.008981046753380314, fbi:0.008827368636033589, 3d:0.007819020701620837, you:0.007751791923437367, not:0.007535276098728061, islamic:0.007255118998822582, religion:0.007182617149762632, spacecraft:0.007074189152295397, flight:0.006899060277543797, computer:0.006698870635101267, islam:0.006529364772733121, ftp:0.0062457492372051055, color:0.005513872126424359, software:0.004918770389689076, atheist:0.004805134811116732, card:0.004767940213268275, people:0.004624503816321023, koresh:0.004608372640219624, his:0.004571604182502271, kent:0.004415620817426218, sphere:0.004334578233902467, "
          ]
        }
      ]
    },
    {
      "cell_type": "markdown",
      "source": [
        "---"
      ],
      "metadata": {
        "id": "VvmgFBTSl1DN"
      }
    },
    {
      "cell_type": "markdown",
      "source": [
        "## 6. 성능을 높이기 위한 방법들"
      ],
      "metadata": {
        "id": "5gXXj5wolyBH"
      }
    },
    {
      "cell_type": "code",
      "source": [
        "# 필요한 library들을 import\n",
        "import nltk\n",
        "nltk.download('stopwords')\n",
        "\n",
        "from nltk.corpus import stopwords\n",
        "cachedStopWords = stopwords.words(\"english\")\n",
        "\n",
        "from nltk.tokenize import RegexpTokenizer\n",
        "from nltk.stem.porter import PorterStemmer\n",
        "import re\n",
        "\n",
        "RegTok = RegexpTokenizer(\"[\\w']{3,}\") #정규표현식으로 토크나이저 정의\n",
        "english_stops = set(stopwords.words('english')) #영어 불용어를 가져옴\n",
        "\n",
        "def tokenizer(text):\n",
        "  tokens = RegTok.tokenize(text.lower())\n",
        "  words = [word for word in tokens if (word not in english_stops) and len(word) > 2 ]\n",
        "  features = (list(map(lambda token : PorterStemmer().stem(token), words)))\n",
        "  return features\n",
        "\n",
        "tfidf = TfidfVectorizer(tokenizer=tokenizer, max_features=2000, min_df=5, max_df=0.5)\n",
        "X_train_tfidf = tfidf.fit_transform(X_train) #train set을 변환\n",
        "X_test_tfidf = tfidf.transform(X_test) # test set을 변환 --- test set은 fit_transform 이 아니라 transform 만!\n",
        "\n",
        "#tfidf vector를 이용해서 분류기 학습\n",
        "LR_clf = LogisticRegression()\n",
        "LR_clf.fit(X_train_tfidf, y_train)\n",
        "\n",
        "print('#Train set score: {:.3f}'.format(LR_clf.score(X_train_tfidf, y_train)))\n",
        "print('#Test set score: {:.3f}'.format(LR_clf.score(X_test_tfidf, y_test)))\n"
      ],
      "metadata": {
        "colab": {
          "base_uri": "https://localhost:8080/"
        },
        "id": "qLTTIeqqj9O5",
        "outputId": "ff4a6ada-e96c-4f62-d022-f2276e2357b6"
      },
      "execution_count": 19,
      "outputs": [
        {
          "output_type": "stream",
          "name": "stderr",
          "text": [
            "[nltk_data] Downloading package stopwords to /root/nltk_data...\n",
            "[nltk_data]   Unzipping corpora/stopwords.zip.\n"
          ]
        },
        {
          "output_type": "stream",
          "name": "stdout",
          "text": [
            "#Train set score: 0.930\n",
            "#Test set score: 0.751\n"
          ]
        }
      ]
    },
    {
      "cell_type": "code",
      "source": [
        "len(LR_clf.coef_[0])"
      ],
      "metadata": {
        "colab": {
          "base_uri": "https://localhost:8080/"
        },
        "id": "l0CIvz4enL0f",
        "outputId": "f338b52d-d911-4b16-a44f-b8954bfa93d5"
      },
      "execution_count": 20,
      "outputs": [
        {
          "output_type": "execute_result",
          "data": {
            "text/plain": [
              "2000"
            ]
          },
          "metadata": {},
          "execution_count": 20
        }
      ]
    },
    {
      "cell_type": "code",
      "source": [
        "from sklearn.feature_extraction.text import TfidfVectorizer\n",
        "\n",
        "tfidf = TfidfVectorizer(tokenizer=tokenizer)\n",
        "\n",
        "X_train_tfidf = tfidf.fit_transform(X_train)\n",
        "print('#Train set dimension:', X_train_tfidf.shape)\n",
        "X_test_tfidf = tfidf.transform(X_test)\n",
        "print('#Test set dimension:', X_test_tfidf.shape)\n",
        "\n",
        "ridge_clf = RidgeClassifier(alpha=2.4)\n",
        "ridge_clf.fit(X_train_tfidf, y_train)\n",
        "print('#Train set score:{:.3f}'.format(ridge_clf.score(X_train_tfidf, y_train)))\n",
        "print('#Test set score:{:.3f}'.format(ridge_clf.score(X_test_tfidf, y_test)))\n",
        "\n",
        "NB_clf = MultinomialNB(alpha=0.01)\n",
        "NB_clf.fit(X_train_tfidf, y_train)\n",
        "print('#Train set score: {:.3f}'.format(NB_clf.score(X_train_tfidf, y_train)))\n",
        "print('#Test set score: {:.3f}'.format(NB_clf.score(X_test_tfidf, y_test)))"
      ],
      "metadata": {
        "colab": {
          "base_uri": "https://localhost:8080/"
        },
        "id": "K6tnWQuUvdv6",
        "outputId": "121a3953-4b55-4200-e8bf-c606fd9f58aa"
      },
      "execution_count": 21,
      "outputs": [
        {
          "output_type": "stream",
          "name": "stdout",
          "text": [
            "#Train set dimension: (2034, 20085)\n",
            "#Test set dimension: (1353, 20085)\n",
            "#Train set score:0.968\n",
            "#Test set score:0.768\n",
            "#Train set score: 0.971\n",
            "#Test set score: 0.793\n"
          ]
        }
      ]
    },
    {
      "cell_type": "markdown",
      "source": [
        "---"
      ],
      "metadata": {
        "id": "7KcWSGfTyhyO"
      }
    },
    {
      "cell_type": "markdown",
      "source": [
        "## 7. 카운트 기반의 문제점과 N-gram"
      ],
      "metadata": {
        "id": "AZ4NiNthyc7t"
      }
    },
    {
      "cell_type": "code",
      "source": [
        "cachedStopWords = stopwords.words(\"english\")\n",
        "tfidf = TfidfVectorizer(token_pattern=\"[a-zA-Z]{3,}\", #토큰화를 위한 정규식\n",
        "                        decode_error='ignore',\n",
        "                        lowercase=True,\n",
        "                        stop_words=stopwords.words('english'),\n",
        "                        max_df=0.5, min_df=2)\n",
        "\n",
        "X_train_tfidf = tfidf.fit_transform(X_train)\n",
        "X_test_tfidf = tfidf.transform(X_test)\n",
        "\n",
        "print(X_train_tfidf.shape)"
      ],
      "metadata": {
        "colab": {
          "base_uri": "https://localhost:8080/"
        },
        "id": "3qmKbEOKyfPb",
        "outputId": "3c1d734b-707f-4c20-f678-9d1e8c6d7b92"
      },
      "execution_count": 22,
      "outputs": [
        {
          "output_type": "stream",
          "name": "stdout",
          "text": [
            "(2034, 11346)\n"
          ]
        }
      ]
    },
    {
      "cell_type": "code",
      "source": [
        "from sklearn.linear_model import RidgeClassifier\n",
        "\n",
        "ridge_clf = RidgeClassifier()\n",
        "ridge_clf.fit(X_train_tfidf, y_train) #학습\n",
        "print('Train set score: {:.3f}'.format(ridge_clf.score(X_train_tfidf, y_train)))\n",
        "print('Test set score: {:.3f}'.format(ridge_clf.score(X_test_tfidf, y_test)))\n"
      ],
      "metadata": {
        "colab": {
          "base_uri": "https://localhost:8080/"
        },
        "id": "Z5vMi4NizHZ7",
        "outputId": "05707bb3-a9cc-44bf-8d8f-e82f0b0b8d07"
      },
      "execution_count": 23,
      "outputs": [
        {
          "output_type": "stream",
          "name": "stdout",
          "text": [
            "Train set score: 0.976\n",
            "Test set score: 0.769\n"
          ]
        }
      ]
    },
    {
      "cell_type": "code",
      "source": [
        "# bigram으로 설정하기\n",
        "\n",
        "tfidf = TfidfVectorizer(token_pattern=\"[a-zA-Z]{3,}\", \n",
        "                        decode_error='ignore',\n",
        "                        lowercase=True,\n",
        "                        stop_words=stopwords.words('english'),\n",
        "                        ngram_range=(1,2), #바이그램 설정\n",
        "                        max_df=0.5, min_df=2)\n",
        "\n",
        "X_train_tfidf = tfidf.fit_transform(X_train)\n",
        "X_test_tfidf = tfidf.transform(X_test)\n",
        "\n",
        "print(X_train_tfidf.shape)"
      ],
      "metadata": {
        "colab": {
          "base_uri": "https://localhost:8080/"
        },
        "id": "f56obNflzgoz",
        "outputId": "496cc890-eab6-4296-f336-8405f0569c9a"
      },
      "execution_count": 24,
      "outputs": [
        {
          "output_type": "stream",
          "name": "stdout",
          "text": [
            "(2034, 26348)\n"
          ]
        }
      ]
    },
    {
      "cell_type": "code",
      "source": [
        "bigram_features = [f for f in tfidf.get_feature_names_out() if len(f.split()) > 1]\n",
        "\n",
        "print('bi-gram samples:', bigram_features[:10])\n",
        "\n",
        "ridge_clf.fit(X_train_tfidf, y_train) #학습\n",
        "print('Train set score: {:.3f}'.format(ridge_clf.score(X_train_tfidf, y_train)))\n",
        "print('Test set score: {:.3f}'.format(ridge_clf.score(X_test_tfidf, y_test)))"
      ],
      "metadata": {
        "colab": {
          "base_uri": "https://localhost:8080/"
        },
        "id": "rv2NsZ550G6Y",
        "outputId": "ac1086bb-c85b-401a-bc05-95344fe1b3ba"
      },
      "execution_count": 25,
      "outputs": [
        {
          "output_type": "stream",
          "name": "stdout",
          "text": [
            "bi-gram samples: ['aas american', 'ability means', 'ability pass', 'able accept', 'able afford', 'able control', 'able convince', 'able draw', 'able establish', 'able find']\n",
            "Train set score: 0.976\n",
            "Test set score: 0.776\n"
          ]
        }
      ]
    },
    {
      "cell_type": "code",
      "source": [
        "# trigram으로 설정하기\n",
        "\n",
        "tfidf = TfidfVectorizer(token_pattern= \"[a-zA-Z']{3,}\", \n",
        "                        decode_error ='ignore', \n",
        "                        lowercase=True, \n",
        "                        stop_words = stopwords.words('english'),\n",
        "                        ngram_range=(1, 3),\n",
        "                        max_df=0.5,\n",
        "                        min_df=2)\n",
        "X_train_tfidf = tfidf.fit_transform(X_train)\n",
        "X_test_tfidf = tfidf.transform(X_test)\n",
        "print(X_train_tfidf.shape)\n",
        "\n",
        "trigram_features = [f for f in tfidf.get_feature_names_out() if len(f.split()) > 2]\n",
        "print('tri-gram samples:', trigram_features[:10])\n",
        "\n",
        "ridge_clf.fit(X_train_tfidf, y_train) #학습\n",
        "print('Train set score: {:.3f}'.format(ridge_clf.score(X_train_tfidf, y_train)))\n",
        "print('Test set score: {:.3f}'.format(ridge_clf.score(X_test_tfidf, y_test)))\n"
      ],
      "metadata": {
        "colab": {
          "base_uri": "https://localhost:8080/"
        },
        "id": "zgScF5Ll0956",
        "outputId": "2349e502-787a-4729-ae83-b593d7e95df9"
      },
      "execution_count": 26,
      "outputs": [
        {
          "output_type": "stream",
          "name": "stdout",
          "text": [
            "(2034, 32943)\n",
            "tri-gram samples: [\"'em better shots\", \"'expected errors' basically\", \"'karla' next one\", \"'nodis' password also\", \"'official doctrine think\", \"'ok see warning\", \"'what's moonbase good\", 'aas american astronautical', 'ability means infallible', 'able accept donations']\n",
            "Train set score: 0.976\n",
            "Test set score: 0.775\n"
          ]
        }
      ]
    },
    {
      "cell_type": "markdown",
      "source": [
        "---"
      ],
      "metadata": {
        "id": "8KIYaXZQ2qcT"
      }
    },
    {
      "cell_type": "markdown",
      "source": [
        "## 8. 한글 문서의 분류"
      ],
      "metadata": {
        "id": "-hEviuaH2r9A"
      }
    },
    {
      "cell_type": "code",
      "source": [
        "import pandas as pd\n",
        "df = pd.read_csv('/daum_movie_review.csv')\n",
        "df.head(5)"
      ],
      "metadata": {
        "colab": {
          "base_uri": "https://localhost:8080/",
          "height": 206
        },
        "id": "yWughblp2rVp",
        "outputId": "8b3203ad-a066-461b-af14-9e36802c46ee"
      },
      "execution_count": 27,
      "outputs": [
        {
          "output_type": "execute_result",
          "data": {
            "text/plain": [
              "                                              review  rating        date  \\\n",
              "0                             돈 들인건 티가 나지만 보는 내내 하품만       1  2018.10.29   \n",
              "1       몰입할수밖에 없다. 어렵게 생각할 필요없다. 내가 전투에 참여한듯 손에 땀이남.      10  2018.10.26   \n",
              "2  이전 작품에 비해 더 화려하고 스케일도 커졌지만.... 전국 맛집의 음식들을 한데 ...       8  2018.10.24   \n",
              "3                                이 정도면 볼만하다고 할 수 있음!       8  2018.10.22   \n",
              "4                                               재미있다      10  2018.10.20   \n",
              "\n",
              "    title  \n",
              "0  인피니티 워  \n",
              "1  인피니티 워  \n",
              "2  인피니티 워  \n",
              "3  인피니티 워  \n",
              "4  인피니티 워  "
            ],
            "text/html": [
              "\n",
              "  <div id=\"df-53231369-b800-4a19-8e44-773cfaf2f952\">\n",
              "    <div class=\"colab-df-container\">\n",
              "      <div>\n",
              "<style scoped>\n",
              "    .dataframe tbody tr th:only-of-type {\n",
              "        vertical-align: middle;\n",
              "    }\n",
              "\n",
              "    .dataframe tbody tr th {\n",
              "        vertical-align: top;\n",
              "    }\n",
              "\n",
              "    .dataframe thead th {\n",
              "        text-align: right;\n",
              "    }\n",
              "</style>\n",
              "<table border=\"1\" class=\"dataframe\">\n",
              "  <thead>\n",
              "    <tr style=\"text-align: right;\">\n",
              "      <th></th>\n",
              "      <th>review</th>\n",
              "      <th>rating</th>\n",
              "      <th>date</th>\n",
              "      <th>title</th>\n",
              "    </tr>\n",
              "  </thead>\n",
              "  <tbody>\n",
              "    <tr>\n",
              "      <th>0</th>\n",
              "      <td>돈 들인건 티가 나지만 보는 내내 하품만</td>\n",
              "      <td>1</td>\n",
              "      <td>2018.10.29</td>\n",
              "      <td>인피니티 워</td>\n",
              "    </tr>\n",
              "    <tr>\n",
              "      <th>1</th>\n",
              "      <td>몰입할수밖에 없다. 어렵게 생각할 필요없다. 내가 전투에 참여한듯 손에 땀이남.</td>\n",
              "      <td>10</td>\n",
              "      <td>2018.10.26</td>\n",
              "      <td>인피니티 워</td>\n",
              "    </tr>\n",
              "    <tr>\n",
              "      <th>2</th>\n",
              "      <td>이전 작품에 비해 더 화려하고 스케일도 커졌지만.... 전국 맛집의 음식들을 한데 ...</td>\n",
              "      <td>8</td>\n",
              "      <td>2018.10.24</td>\n",
              "      <td>인피니티 워</td>\n",
              "    </tr>\n",
              "    <tr>\n",
              "      <th>3</th>\n",
              "      <td>이 정도면 볼만하다고 할 수 있음!</td>\n",
              "      <td>8</td>\n",
              "      <td>2018.10.22</td>\n",
              "      <td>인피니티 워</td>\n",
              "    </tr>\n",
              "    <tr>\n",
              "      <th>4</th>\n",
              "      <td>재미있다</td>\n",
              "      <td>10</td>\n",
              "      <td>2018.10.20</td>\n",
              "      <td>인피니티 워</td>\n",
              "    </tr>\n",
              "  </tbody>\n",
              "</table>\n",
              "</div>\n",
              "      <button class=\"colab-df-convert\" onclick=\"convertToInteractive('df-53231369-b800-4a19-8e44-773cfaf2f952')\"\n",
              "              title=\"Convert this dataframe to an interactive table.\"\n",
              "              style=\"display:none;\">\n",
              "        \n",
              "  <svg xmlns=\"http://www.w3.org/2000/svg\" height=\"24px\"viewBox=\"0 0 24 24\"\n",
              "       width=\"24px\">\n",
              "    <path d=\"M0 0h24v24H0V0z\" fill=\"none\"/>\n",
              "    <path d=\"M18.56 5.44l.94 2.06.94-2.06 2.06-.94-2.06-.94-.94-2.06-.94 2.06-2.06.94zm-11 1L8.5 8.5l.94-2.06 2.06-.94-2.06-.94L8.5 2.5l-.94 2.06-2.06.94zm10 10l.94 2.06.94-2.06 2.06-.94-2.06-.94-.94-2.06-.94 2.06-2.06.94z\"/><path d=\"M17.41 7.96l-1.37-1.37c-.4-.4-.92-.59-1.43-.59-.52 0-1.04.2-1.43.59L10.3 9.45l-7.72 7.72c-.78.78-.78 2.05 0 2.83L4 21.41c.39.39.9.59 1.41.59.51 0 1.02-.2 1.41-.59l7.78-7.78 2.81-2.81c.8-.78.8-2.07 0-2.86zM5.41 20L4 18.59l7.72-7.72 1.47 1.35L5.41 20z\"/>\n",
              "  </svg>\n",
              "      </button>\n",
              "      \n",
              "  <style>\n",
              "    .colab-df-container {\n",
              "      display:flex;\n",
              "      flex-wrap:wrap;\n",
              "      gap: 12px;\n",
              "    }\n",
              "\n",
              "    .colab-df-convert {\n",
              "      background-color: #E8F0FE;\n",
              "      border: none;\n",
              "      border-radius: 50%;\n",
              "      cursor: pointer;\n",
              "      display: none;\n",
              "      fill: #1967D2;\n",
              "      height: 32px;\n",
              "      padding: 0 0 0 0;\n",
              "      width: 32px;\n",
              "    }\n",
              "\n",
              "    .colab-df-convert:hover {\n",
              "      background-color: #E2EBFA;\n",
              "      box-shadow: 0px 1px 2px rgba(60, 64, 67, 0.3), 0px 1px 3px 1px rgba(60, 64, 67, 0.15);\n",
              "      fill: #174EA6;\n",
              "    }\n",
              "\n",
              "    [theme=dark] .colab-df-convert {\n",
              "      background-color: #3B4455;\n",
              "      fill: #D2E3FC;\n",
              "    }\n",
              "\n",
              "    [theme=dark] .colab-df-convert:hover {\n",
              "      background-color: #434B5C;\n",
              "      box-shadow: 0px 1px 3px 1px rgba(0, 0, 0, 0.15);\n",
              "      filter: drop-shadow(0px 1px 2px rgba(0, 0, 0, 0.3));\n",
              "      fill: #FFFFFF;\n",
              "    }\n",
              "  </style>\n",
              "\n",
              "      <script>\n",
              "        const buttonEl =\n",
              "          document.querySelector('#df-53231369-b800-4a19-8e44-773cfaf2f952 button.colab-df-convert');\n",
              "        buttonEl.style.display =\n",
              "          google.colab.kernel.accessAllowed ? 'block' : 'none';\n",
              "\n",
              "        async function convertToInteractive(key) {\n",
              "          const element = document.querySelector('#df-53231369-b800-4a19-8e44-773cfaf2f952');\n",
              "          const dataTable =\n",
              "            await google.colab.kernel.invokeFunction('convertToInteractive',\n",
              "                                                     [key], {});\n",
              "          if (!dataTable) return;\n",
              "\n",
              "          const docLinkHtml = 'Like what you see? Visit the ' +\n",
              "            '<a target=\"_blank\" href=https://colab.research.google.com/notebooks/data_table.ipynb>data table notebook</a>'\n",
              "            + ' to learn more about interactive tables.';\n",
              "          element.innerHTML = '';\n",
              "          dataTable['output_type'] = 'display_data';\n",
              "          await google.colab.output.renderOutput(dataTable, element);\n",
              "          const docLink = document.createElement('div');\n",
              "          docLink.innerHTML = docLinkHtml;\n",
              "          element.appendChild(docLink);\n",
              "        }\n",
              "      </script>\n",
              "    </div>\n",
              "  </div>\n",
              "  "
            ]
          },
          "metadata": {},
          "execution_count": 27
        }
      ]
    },
    {
      "cell_type": "code",
      "source": [
        "df.title.value_counts()"
      ],
      "metadata": {
        "id": "uT36lVOy21mh",
        "colab": {
          "base_uri": "https://localhost:8080/"
        },
        "outputId": "e8af5665-7082-44c8-915f-6c5dfd5e5cd2"
      },
      "execution_count": 28,
      "outputs": [
        {
          "output_type": "execute_result",
          "data": {
            "text/plain": [
              "신과함께      4947\n",
              "택시운전사     2322\n",
              "인피니티 워    2042\n",
              "범죄도시      1939\n",
              "곤지암       1547\n",
              "라라랜드      1150\n",
              "코코         778\n",
              "Name: title, dtype: int64"
            ]
          },
          "metadata": {},
          "execution_count": 28
        }
      ]
    },
    {
      "cell_type": "code",
      "source": [
        "from sklearn.model_selection import train_test_split\n",
        "\n",
        "# split data and labels into a training and a test set\n",
        "X_train, X_test, y_train, y_test = train_test_split(df.review, df.title, random_state=0)\n",
        "\n",
        "# 비율을 지정하지 않으면 75:25로 분할됨\n",
        "print('#Train set size:', len(X_train)) #실제로 몇개의 특성이 사용되었는지 확인\n",
        "print('#Test set size:', len(X_test))"
      ],
      "metadata": {
        "id": "Z6BMfNFXK8lY",
        "colab": {
          "base_uri": "https://localhost:8080/"
        },
        "outputId": "2d7329d4-ee1e-4ab8-e152-79b854a50eb8"
      },
      "execution_count": 32,
      "outputs": [
        {
          "output_type": "stream",
          "name": "stdout",
          "text": [
            "#Train set size: 11043\n",
            "#Test set size: 3682\n"
          ]
        }
      ]
    },
    {
      "cell_type": "code",
      "source": [
        "!pip install konlpy\n",
        "from konlpy.tag import Okt #konlpy에서 Twitter 형태소 분석기 import\n",
        "\n",
        "okt = Okt()\n",
        "print(okt.morphs(X_train[1])) #두번째 리뷰에 대해 형태소 단위로 tokenize\n",
        "print(okt.nouns(X_train[1]))"
      ],
      "metadata": {
        "colab": {
          "base_uri": "https://localhost:8080/"
        },
        "id": "euV58hSE_AcG",
        "outputId": "84348d7f-54c3-407c-98f5-912426114316"
      },
      "execution_count": 35,
      "outputs": [
        {
          "output_type": "stream",
          "name": "stdout",
          "text": [
            "Looking in indexes: https://pypi.org/simple, https://us-python.pkg.dev/colab-wheels/public/simple/\n",
            "Requirement already satisfied: konlpy in /usr/local/lib/python3.7/dist-packages (0.6.0)\n",
            "Requirement already satisfied: numpy>=1.6 in /usr/local/lib/python3.7/dist-packages (from konlpy) (1.21.6)\n",
            "Requirement already satisfied: lxml>=4.1.0 in /usr/local/lib/python3.7/dist-packages (from konlpy) (4.9.1)\n",
            "Requirement already satisfied: JPype1>=0.7.0 in /usr/local/lib/python3.7/dist-packages (from konlpy) (1.4.0)\n",
            "Requirement already satisfied: typing-extensions in /usr/local/lib/python3.7/dist-packages (from JPype1>=0.7.0->konlpy) (4.1.1)\n",
            "['몰입', '할수밖에', '없다', '.', '어렵게', '생각', '할', '필요없다', '.', '내', '가', '전투', '에', '참여', '한', '듯', '손', '에', '땀', '이남', '.']\n",
            "['몰입', '생각', '내', '전투', '참여', '듯', '손', '땀', '이남']\n"
          ]
        }
      ]
    },
    {
      "cell_type": "code",
      "source": [
        "from sklearn.feature_extraction.text import TfidfVectorizer\n",
        "from sklearn.linear_model import LogisticRegression\n",
        "\n",
        "# Twitter 형태소분석기에서 명사만 추출하는 함수를 tokenizer로 이용\n",
        "tfidf = TfidfVectorizer(tokenizer=okt.nouns, max_features=2000, min_df=5, max_df=0.5)\n",
        "\n",
        "X_train_tfidf = tfidf.fit_transform(X_train) # train data 변환 -> tfidf vector\n",
        "X_test_tfidf = tfidf.transform(X_test) # test data 변환 -> tfidf vector\n",
        "\n",
        "# logistic regression 분류기 선언\n",
        "# 충분한 학습을 위해 max_iter(경사하강법 반복횟수) 를 1000으로 설정. 기본은 100\n",
        "clf = LogisticRegression(max_iter=1000) \n",
        "clf.fit(X_train_tfidf, y_train) # 분류기 학습\n",
        "\n",
        "print('#Train set score: {:.3f}'.format(clf.score(X_train_tfidf, y_train)))\n",
        "print('#Test set score: {:.3f}'.format(clf.score(X_test_tfidf, y_test)))"
      ],
      "metadata": {
        "colab": {
          "base_uri": "https://localhost:8080/"
        },
        "id": "Zt8lAUI2_U_I",
        "outputId": "95d272a1-8b74-40e4-f78b-fa14f6fc500c"
      },
      "execution_count": 37,
      "outputs": [
        {
          "output_type": "stream",
          "name": "stdout",
          "text": [
            "#Train set score: 0.756\n",
            "#Test set score: 0.694\n"
          ]
        }
      ]
    },
    {
      "cell_type": "code",
      "source": [
        "print('실제영화제목, 예측한 제목, 리뷰')\n",
        "for content in zip(y_test[:10], clf.predict(X_test_tfidf[:10]), X_test[:10]):\n",
        "  print(content)"
      ],
      "metadata": {
        "colab": {
          "base_uri": "https://localhost:8080/"
        },
        "id": "n1iIlE34CeAK",
        "outputId": "5447d63e-e0ba-4218-d589-11e152026911"
      },
      "execution_count": 38,
      "outputs": [
        {
          "output_type": "stream",
          "name": "stdout",
          "text": [
            "실제영화제목, 예측한 제목, 리뷰\n",
            "('범죄도시', '신과함께', '오랜만에 잼나는 영화 봤습니다.  다음에 더 재미있는 영화 기대하겠습니다.')\n",
            "('범죄도시', '범죄도시', '조연들이 눈에 박힌다. 간만에 집중 ㅎ')\n",
            "('코코', '코코', '대감동을 선사. 인사이드 아웃을 잇는 픽사의 감동스토리. 신과함께의 멕시코판이라고나할까요??')\n",
            "('신과함께', '신과함께', '돈이 안아까웠던 영화ᆞᆞ  정말 좋았다')\n",
            "('신과함께', '신과함께', '역시 김용화감독이 영화는 잘 만들어요. 이제 VFX 제작 부문도 헐리우드 수준 이상입니다.')\n",
            "('택시운전사', '택시운전사', '민주화를 위해 힘써주신 분들께 감사하는 마음으로 살아야겠다.')\n",
            "('신과함께', '신과함께', '잠만 자다 왔음')\n",
            "('신과함께', '신과함께', '오랜만에 잼있고 좋은 영화를 봤다')\n",
            "('범죄도시', '신과함께', '잼남')\n",
            "('범죄도시', '인피니티 워', '대박~~')\n"
          ]
        }
      ]
    },
    {
      "cell_type": "markdown",
      "source": [
        "---"
      ],
      "metadata": {
        "id": "CVK01LOKERIO"
      }
    },
    {
      "cell_type": "markdown",
      "source": [
        "## 성능을 개선하기 위한 노력"
      ],
      "metadata": {
        "id": "MkzlmXS0EOhg"
      }
    },
    {
      "cell_type": "code",
      "source": [
        "tfidf = TfidfVectorizer(tokenizer=okt.morphs, max_features=2000, min_df=5, max_df=0.5) # 명사 대신 모든 형태소 사용\n",
        "X_train_tfidf = tfidf.fit_transform(X_train)\n",
        "X_test_tfidf = tfidf.transform(X_test)\n",
        "\n",
        "clf = LogisticRegression(max_iter=1000)\n",
        "clf.fit(X_train_tfidf, y_train)\n",
        "print('#Train set score: {:.3f}'.format(clf.score(X_train_tfidf, y_train)))\n",
        "print('#Test set score: {:.3f}'.format(clf.score(X_test_tfidf, y_test)))"
      ],
      "metadata": {
        "colab": {
          "base_uri": "https://localhost:8080/"
        },
        "id": "ob9joY5vEQkB",
        "outputId": "ccedd9b4-2d33-4b8c-9d8b-3df684068ed5"
      },
      "execution_count": 40,
      "outputs": [
        {
          "output_type": "stream",
          "name": "stdout",
          "text": [
            "#Train set score: 0.777\n",
            "#Test set score: 0.695\n"
          ]
        }
      ]
    },
    {
      "cell_type": "code",
      "source": [
        "def twit_tokenizer(text): #전체를 다 사용 X. 명사, 동사, 형용사만 사용\n",
        "  target_tags = ['Noun', 'Verb', 'Adjective']\n",
        "  result = []\n",
        "\n",
        "  for word, tag in okt.pos(text, norm=True, stem=True):\n",
        "    if tag in target_tags:\n",
        "      result.append(word)\n",
        "  return result\n",
        "\n",
        "\n",
        "tfidf = TfidfVectorizer(tokenizer=twit_tokenizer, max_features=2000, min_df=5, max_df=0.5)   \n",
        "X_train_tfidf = tfidf.fit_transform(X_train)\n",
        "X_test_tfidf = tfidf.transform(X_test)\n",
        "\n",
        "clf = LogisticRegression(max_iter=1000)\n",
        "clf.fit(X_train_tfidf, y_train)\n",
        "print('#Train set score: {:.3f}'.format(clf.score(X_train_tfidf, y_train)))\n",
        "print('#Test set score: {:.3f}'.format(clf.score(X_test_tfidf, y_test)))"
      ],
      "metadata": {
        "colab": {
          "base_uri": "https://localhost:8080/"
        },
        "id": "fvOn-5s3FErH",
        "outputId": "dd90f403-6584-4747-89b1-4ffaca7554e4"
      },
      "execution_count": 44,
      "outputs": [
        {
          "output_type": "stream",
          "name": "stdout",
          "text": [
            "#Train set score: 0.784\n",
            "#Test set score: 0.712\n"
          ]
        }
      ]
    },
    {
      "cell_type": "code",
      "source": [
        "# 모든 형태소를 다 사용하고 품사를 알 수 있도록 한다면?\n",
        "\n",
        "def twit_tokenizer2(text):\n",
        "  result = []\n",
        "\n",
        "  for word, tag in okt.pos(text, norm=True, stem=True):\n",
        "    result.append('/'.join([word, tag])) #단어의 품사를 구분할 수 있도록 함\n",
        "  return result\n",
        "\n",
        "\n",
        "print(twit_tokenizer2(X_train[1]))"
      ],
      "metadata": {
        "colab": {
          "base_uri": "https://localhost:8080/"
        },
        "id": "rKAP3O95F9u2",
        "outputId": "5737e4a7-f0f4-4792-a67c-78a73fbc75d6"
      },
      "execution_count": 45,
      "outputs": [
        {
          "output_type": "stream",
          "name": "stdout",
          "text": [
            "['몰입/Noun', '하다/Verb', '없다/Adjective', './Punctuation', '어렵다/Adjective', '생각/Noun', '하다/Verb', '필요없다/Adjective', './Punctuation', '내/Noun', '가/Josa', '전투/Noun', '에/Josa', '참여/Noun', '한/Determiner', '듯/Noun', '손/Noun', '에/Josa', '땀/Noun', '이남/Noun', './Punctuation']\n"
          ]
        }
      ]
    },
    {
      "cell_type": "code",
      "source": [
        "tfidf = TfidfVectorizer(tokenizer=twit_tokenizer2, max_features=2000, min_df=5, max_df=0.5) \n",
        "X_train_tfidf = tfidf.fit_transform(X_train)\n",
        "X_test_tfidf = tfidf.transform(X_test) \n",
        "\n",
        "clf = LogisticRegression(max_iter=1000)\n",
        "clf.fit(X_train_tfidf, y_train)\n",
        "\n",
        "print('#Train set score: {:.3f}'.format(clf.score(X_train_tfidf, y_train)))\n",
        "print('#Test set score: {:.3f}'.format(clf.score(X_test_tfidf, y_test)))"
      ],
      "metadata": {
        "colab": {
          "base_uri": "https://localhost:8080/"
        },
        "id": "xZ5NYcfzGve8",
        "outputId": "b4df4047-0f77-4028-8056-66648d7366cb"
      },
      "execution_count": 46,
      "outputs": [
        {
          "output_type": "stream",
          "name": "stdout",
          "text": [
            "#Train set score: 0.789\n",
            "#Test set score: 0.718\n"
          ]
        }
      ]
    },
    {
      "cell_type": "code",
      "source": [
        "import numpy as np\n",
        "from sklearn.model_selection import train_test_split\n",
        "\n",
        "X_train_ridge, X_val_ridge, y_train_ridge, y_val_ridge = train_test_split(\n",
        "    X_train_tfidf, y_train, test_size = 0.2, random_state=42)\n",
        "\n",
        "\n",
        "max_score = 0\n",
        "max_alpha = 5\n",
        "\n",
        "for alpha in np.arange(0.1, 10, 0.1):        # alpha를 0.1부터 10까지 0.1씩 증가\n",
        "  ridge_clf = RidgeClassifier(alpha=alpha)   # 릿지분류기 선언\n",
        "  ridge_clf.fit(X_train_ridge, y_train_ridge) # 학습\n",
        "  score = ridge_clf.score(X_val_ridge, y_val_ridge) # 검정 데이터셋에 대해 정확도 측정\n",
        "\n",
        "  if score > max_score:\n",
        "    max_score = score\n",
        "    max_alpha = alpha\n",
        "\n",
        "print('#Max alpha {:.3f} at max validation score {:.3f}'.format(max_alpha, max_score))\n"
      ],
      "metadata": {
        "colab": {
          "base_uri": "https://localhost:8080/"
        },
        "id": "ldKkszWGHVRt",
        "outputId": "cf37f759-5322-4b74-d762-b435b6f1e7ee"
      },
      "execution_count": 47,
      "outputs": [
        {
          "output_type": "stream",
          "name": "stdout",
          "text": [
            "#Max alpha 1.600 at max validation score 0.727\n"
          ]
        }
      ]
    },
    {
      "cell_type": "code",
      "source": [
        "from sklearn.linear_model import RidgeClassifier\n",
        "\n",
        "ridge_clf = RidgeClassifier(alpha=1.6) \n",
        "ridge_clf.fit(X_train_tfidf, y_train)\n",
        "\n",
        "print('#Ridge Train set score: {:.3f}'.format(ridge_clf.score(X_train_tfidf, y_train)))\n",
        "print('#Ridge Test set score: {:.3f}'.format(ridge_clf.score(X_test_tfidf, y_test)))\n",
        "\n",
        "from sklearn.linear_model import LogisticRegression\n",
        "import numpy as np\n",
        "\n",
        "lasso_clf = LogisticRegression(penalty='l1', solver='liblinear', C=0.5)\n",
        "lasso_clf.fit(X_train_tfidf, y_train)\n",
        "\n",
        "print('#Lasso Train set score: {:.3f}'.format(lasso_clf.score(X_train_tfidf, y_train)))\n",
        "print('#Lasso Test set score: {:.3f}'.format(lasso_clf.score(X_test_tfidf, y_test)))\n",
        "print('#Used features count: {}'.format(np.sum(lasso_clf.coef_ !=0)), 'out of', X_train_tfidf.shape[1])\n"
      ],
      "metadata": {
        "colab": {
          "base_uri": "https://localhost:8080/"
        },
        "id": "DuQyPlQtK6fF",
        "outputId": "6de16922-c43a-44bc-9754-57bc65dec95a"
      },
      "execution_count": 48,
      "outputs": [
        {
          "output_type": "stream",
          "name": "stdout",
          "text": [
            "#Ridge Train set score: 0.807\n",
            "#Ridge Test set score: 0.726\n",
            "#Lasso Train set score: 0.703\n",
            "#Lasso Test set score: 0.696\n",
            "#Used features count: 957 out of 2000\n"
          ]
        }
      ]
    },
    {
      "cell_type": "code",
      "source": [
        "print(X_train_tfidf.shape, y_train.shape)\n",
        "print(X_test_tfidf.shape, y_test.shape)\n",
        "np.sum(df.title.value_counts())"
      ],
      "metadata": {
        "colab": {
          "base_uri": "https://localhost:8080/"
        },
        "id": "UlxmWThLMLNA",
        "outputId": "df24774d-a280-4be6-afe2-0b557913aaef"
      },
      "execution_count": 54,
      "outputs": [
        {
          "output_type": "stream",
          "name": "stdout",
          "text": [
            "(11043, 2000) (11043,)\n",
            "(3682, 2000) (3682,)\n"
          ]
        },
        {
          "output_type": "execute_result",
          "data": {
            "text/plain": [
              "14725"
            ]
          },
          "metadata": {},
          "execution_count": 54
        }
      ]
    },
    {
      "cell_type": "code",
      "source": [
        "from sklearn.naive_bayes import MultinomialNB\n",
        "\n",
        "NB_clf = MultinomialNB(alpha=0.1)\n",
        "NB_clf.fit(X_train_tfidf, y_train)\n",
        "\n",
        "print('Train set score: {:.3f}'.format(NB_clf.score(X_train_tfidf, y_train)))\n",
        "print('Test set score: {:.3f}'.format(NB_clf.score(X_test_tfidf, y_test)))"
      ],
      "metadata": {
        "colab": {
          "base_uri": "https://localhost:8080/"
        },
        "id": "ouaFQog-MSC4",
        "outputId": "412fe8cc-28cc-483b-8802-ebfc931aabf2"
      },
      "execution_count": 57,
      "outputs": [
        {
          "output_type": "stream",
          "name": "stdout",
          "text": [
            "Train set score: 0.768\n",
            "Test set score: 0.704\n"
          ]
        }
      ]
    }
  ]
}