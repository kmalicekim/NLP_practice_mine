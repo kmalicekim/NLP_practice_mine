{
  "nbformat": 4,
  "nbformat_minor": 0,
  "metadata": {
    "colab": {
      "provenance": [],
      "authorship_tag": "ABX9TyNJT2b/1ssM0vL5x1h3vYcL",
      "include_colab_link": true
    },
    "kernelspec": {
      "name": "python3",
      "display_name": "Python 3"
    },
    "language_info": {
      "name": "python"
    }
  },
  "cells": [
    {
      "cell_type": "markdown",
      "metadata": {
        "id": "view-in-github",
        "colab_type": "text"
      },
      "source": [
        "<a href=\"https://colab.research.google.com/github/kmalicekim/NLP_practice_mine/blob/master/7_%ED%86%A0%ED%94%BD%EB%AA%A8%EB%8D%B8%EB%A7%81.ipynb\" target=\"_parent\"><img src=\"https://colab.research.google.com/assets/colab-badge.svg\" alt=\"Open In Colab\"/></a>"
      ]
    },
    {
      "cell_type": "markdown",
      "source": [
        "## 7.2 사이킷런을 미용한 토픽 모델링\n",
        "\n",
        "### 7.2.1 데이터 준비"
      ],
      "metadata": {
        "id": "unO02Syp6yN5"
      }
    },
    {
      "cell_type": "code",
      "execution_count": 10,
      "metadata": {
        "id": "qy3Y4MEV8Do4",
        "colab": {
          "base_uri": "https://localhost:8080/"
        },
        "outputId": "5f74a062-8eb1-45f5-b78a-509c9fd45816"
      },
      "outputs": [
        {
          "output_type": "execute_result",
          "data": {
            "text/plain": [
              "['alt.atheism',\n",
              " 'comp.graphics',\n",
              " 'comp.os.ms-windows.misc',\n",
              " 'comp.sys.ibm.pc.hardware',\n",
              " 'comp.sys.mac.hardware',\n",
              " 'comp.windows.x',\n",
              " 'misc.forsale',\n",
              " 'rec.autos',\n",
              " 'rec.motorcycles',\n",
              " 'rec.sport.baseball',\n",
              " 'rec.sport.hockey',\n",
              " 'sci.crypt',\n",
              " 'sci.electronics',\n",
              " 'sci.med',\n",
              " 'sci.space',\n",
              " 'soc.religion.christian',\n",
              " 'talk.politics.guns',\n",
              " 'talk.politics.mideast',\n",
              " 'talk.politics.misc',\n",
              " 'talk.religion.misc']"
            ]
          },
          "metadata": {},
          "execution_count": 10
        }
      ],
      "source": [
        "from sklearn.datasets import fetch_20newsgroups\n",
        "\n",
        "newsgroups_train= fetch_20newsgroups(subset='train')\n",
        "newsgroups_train.target_names\n"
      ]
    },
    {
      "cell_type": "code",
      "source": [
        "categories = ['alt.atheism', 'talk.religion.misc', 'comp.graphics', 'sci.space', \n",
        "              'comp.sys.ibm.pc.hardware', 'sci.crypt', 'rec.sport.hockey']\n",
        "\n",
        "# 학습 데이터셋을 가져옴\n",
        "newsgroups_train = fetch_20newsgroups(subset='train', categories=categories)\n",
        "\n",
        "print('#Train set size:', len(newsgroups_train.data))\n",
        "print('#Selected categories:', newsgroups_train.target_names)"
      ],
      "metadata": {
        "colab": {
          "base_uri": "https://localhost:8080/"
        },
        "id": "fzXgH8Sb7B8z",
        "outputId": "4f509c62-ff67-4696-a592-76f652601508"
      },
      "execution_count": 16,
      "outputs": [
        {
          "output_type": "stream",
          "name": "stdout",
          "text": [
            "#Train set size: 3819\n",
            "#Selected categories: ['alt.atheism', 'comp.graphics', 'comp.sys.ibm.pc.hardware', 'rec.sport.hockey', 'sci.crypt', 'sci.space', 'talk.religion.misc']\n"
          ]
        }
      ]
    },
    {
      "cell_type": "code",
      "source": [
        "newsgroups_train.data[:5]"
      ],
      "metadata": {
        "colab": {
          "base_uri": "https://localhost:8080/"
        },
        "id": "f_zdwMSRB17I",
        "outputId": "7334931f-26a2-4e3b-fec1-3b65e7fdc161"
      },
      "execution_count": 18,
      "outputs": [
        {
          "output_type": "execute_result",
          "data": {
            "text/plain": [
              "[\"From: michael@jester.GUN.de (Michael Gerhards)\\nDistribution: world\\nSubject: Re: HELP: my pc freezes!\\nX-Newsreader: TIN [version 1.1 PL8]\\nOrganization: private COHERENT system\\nLines: 15\\n\\nPerry Egelmeers (perry@wswiop11.win.tue.nl) wrote:\\n> ladanyi@cs.cornell.edu (La'szlo' Lada'nyi) writes:\\n\\n> >Problem: Occasionaly the machine freezes. At least that's what I thought, but\\n> >recently I discovered that the machine works, just the keyboard freezes and\\n> >the clock drops down from turbo (33Mhz) to standard (16Mhz) mode.\\n\\n> Perhaps you hit the ^S (Control S)?  Try ^Q.\\n> I know it doesn't explain the clock rate drop...\\n\\nWe had the same problem in our company. We changed the keyboard-bios and\\nafter that, everything went fine. Our dealer told us that some boards of\\nthat series have a defect kbd-bios.\\n\\nMichael\\n--\\n*  michael@jester.gun.de  *   Michael Gerhards   *   Preussenstrasse 59  *\\n                          *  Germany 4040 Neuss  *  Voice: 49 2131 82238 *\\n\",\n",
              " 'From: tclark@umaxc.weeg.uiowa.edu (Terry Clark)\\nSubject: Re: CACHE or Micronics EISA/VLB Motherboard?\\nOrganization: University of Iowa, Iowa City, IA, USA\\nLines: 38\\n\\nFrom article <1993Apr15.205654.20845@news.cs.indiana.edu>, by \"Mohammad Al-Ansari\" <alansari@mango.ucs.indiana.edu>:\\n> \\n> (CLIP) I am in\\n> the process of purchasing an EISA/VL Bus 486 DX2-66 computer \\n> (CLIP)\\n> The first is Ares and they use a Cache motherboard (that\\'s\\n> the brand of the motherboard) with OPTI chip set, the other is Micron\\n> (formerly Edge Technology) and they use the Micronics EISA/VLB\\n> motherboard.\\n> (CLIP)\\n> I would REALLY appreciate any input on this. Is the Micron machine the\\n> clear choice?  Does anyone know anything positive or negative about\\n> either company? Has anyone ever heard of Cache motherboards? Should I\\n> go with Micron just because it has the Micronics motherboard? etc.\\n> \\n> Thanks very much in advance for any information.\\n> \\n> --\\n> Mohammad Al-Ansari\\nGet back to your vendors, or better yet the board manufactures and get\\nsome more info:\\n   Where made.\\n   Norton indexes (yeah I know BMs suck but whats a mother to do?)\\n   number of slots, and types, # ESIA and # 32 bit?\\n   Any IDE or SCSI on board?\\n   How easy to upgrade RAM, location and # of pins.\\n   OVERDRIVE?\\n   Oscilator kits?\\n   Does it have a 16550 UART?\\n   Who\\'s BIOS?\\n\\nThese might make you feel better about either system, but I must \\nagree that Ares with 7 days of 24 hr Tech and 2 year warranty is\\nencouraging.\\n________________________________________________________________\\n  Terry Clark                           tclark@umaxc.uiowa.edu \\n  You want an Opinion - You don\\'t pay me enough for an Opinion\\n\\n',\n",
              " 'From: keith@cco.caltech.edu (Keith Allan Schneider)\\nSubject: Re: ? (was Re: \"Cruel\" (was Re: <Political Atheists?))\\nOrganization: California Institute of Technology, Pasadena\\nLines: 13\\nDistribution: world,public\\nNNTP-Posting-Host: punisher.caltech.edu\\nKeywords: Time for a consistency check, bub.\\n\\nsdoe@nmsu.edu (Stephen Doe) writes:\\n\\n>>Of course, if at some later time we think that the death penalty\\n>>*is* cruel or unusual, it will be outlawed.  But at the present,\\n>>most people don\\'t seem to think this way.\\n>*This* from the same fellow who speaks of an \"objective\" or \"natural\"\\n>morality.  I suppose that if the majority decides slavery is OK, then\\n>it is no longer immoral?\\n\\nI did not claim that our system was objective.\\n\\n\\nkeith\\n',\n",
              " \"From: sysmgr@king.eng.umd.edu (Doug Mohney)\\nSubject: Re: How many read sci.space?\\nArticle-I.D.: mojo.1qkmkiINNep3\\nReply-To: sysmgr@king.eng.umd.edu\\nOrganization: Computer Aided Design Lab, U. of Maryland College Park\\nLines: 15\\nNNTP-Posting-Host: queen.eng.umd.edu\\n\\nIn article <1993Apr15.204210.26022@mksol.dseg.ti.com>, pyron@skndiv.dseg.ti.com (Dillon Pyron) writes:\\n>\\n>There are actually only two of us.  I do Henry, Fred, Tommy and Mary.  Oh yeah,\\n>this isn't my real name, I'm a bald headed space baby.\\n\\nDamn!  So it was YOU who was drinking beer with ROBERT McELWANE in the PARKING\\nLOT of the K-MART!\\n\\n\\t\\t\\t\\tUNLIMITED INSEMINATION OF THIS MESSAGE\\n\\t\\t\\t\\t\\tRIGIDLY REFUSED\\n\\n\\n\\n    Software engineering? That's like military intelligence, isn't it?\\n  -- >                  SYSMGR@CADLAB.ENG.UMD.EDU                        < --\\n\",\n",
              " \"From: jennise@opus.dgi.com (Milady Printcap the goddess of peripherals)\\nSubject: Looking for a little research help [ addendum]\\nOrganization: Dynamic Graphics Inc.\\nLines: 10\\nDistribution: usa\\nNNTP-Posting-Host: opus.dgi.com\\n\\nSorry but I forgot this ps.\\n\\nRight now my sight is getting news about two weeks behind so it's \\nkind of necessary (to me) that any responses be sent to me directly.\\n\\n\\nThanks a lot\\n\\nJennise\\n     jennise@dgi.com  \\n\"]"
            ]
          },
          "metadata": {},
          "execution_count": 18
        }
      ]
    },
    {
      "cell_type": "code",
      "source": [
        "from sklearn.feature_extraction.text import CountVectorizer\n",
        "\n",
        "# \\w - 문자+숫자(alphanumeric)와 매치, [a-zA-Z0-9_]와 동일한 표현식이다.\n",
        "cv = CountVectorizer(token_pattern=\"[\\w']{3,}\", stop_words='english', \n",
        "                     max_features=2500, min_df=5, max_df=0.5)\n",
        "\n",
        "review_cv = cv.fit_transform(newsgroups_train.data)\n",
        "\n",
        "print(review_cv[:5])"
      ],
      "metadata": {
        "colab": {
          "base_uri": "https://localhost:8080/"
        },
        "id": "1rnz-GpM-Svr",
        "outputId": "3497833a-5db8-4851-f2b4-b4fcba2ad964"
      },
      "execution_count": 15,
      "outputs": [
        {
          "output_type": "stream",
          "name": "stdout",
          "text": [
            "  (0, 1399)\t5\n",
            "  (0, 983)\t2\n",
            "  (0, 678)\t1\n",
            "  (0, 2467)\t1\n",
            "  (0, 1023)\t1\n",
            "  (0, 1493)\t1\n",
            "  (0, 2272)\t1\n",
            "  (0, 2376)\t1\n",
            "  (0, 1649)\t1\n",
            "  (0, 1731)\t1\n",
            "  (0, 1623)\t2\n",
            "  (0, 2440)\t1\n",
            "  (0, 2306)\t1\n",
            "  (0, 2479)\t1\n",
            "  (0, 1737)\t2\n",
            "  (0, 1314)\t2\n",
            "  (0, 2246)\t1\n",
            "  (0, 2259)\t1\n",
            "  (0, 1840)\t1\n",
            "  (0, 667)\t1\n",
            "  (0, 2465)\t1\n",
            "  (0, 1182)\t1\n",
            "  (0, 439)\t2\n",
            "  (0, 2307)\t1\n",
            "  (0, 2122)\t1\n",
            "  :\t:\n",
            "  (3, 1405)\t1\n",
            "  (3, 1117)\t1\n",
            "  (4, 678)\t1\n",
            "  (4, 1023)\t1\n",
            "  (4, 2343)\t1\n",
            "  (4, 1490)\t1\n",
            "  (4, 2245)\t1\n",
            "  (4, 1501)\t1\n",
            "  (4, 1698)\t1\n",
            "  (4, 1050)\t1\n",
            "  (4, 456)\t3\n",
            "  (4, 1303)\t1\n",
            "  (4, 1296)\t1\n",
            "  (4, 1281)\t1\n",
            "  (4, 1885)\t1\n",
            "  (4, 965)\t1\n",
            "  (4, 2086)\t1\n",
            "  (4, 1906)\t1\n",
            "  (4, 934)\t1\n",
            "  (4, 2424)\t1\n",
            "  (4, 1142)\t1\n",
            "  (4, 1201)\t1\n",
            "  (4, 1481)\t1\n",
            "  (4, 2005)\t1\n",
            "  (4, 663)\t1\n"
          ]
        }
      ]
    },
    {
      "cell_type": "markdown",
      "source": [
        "### 7.2.2 LDA 토픽 모델링 실행"
      ],
      "metadata": {
        "id": "KftLJbpKDSAt"
      }
    },
    {
      "cell_type": "code",
      "source": [
        "from sklearn.decomposition import LatentDirichletAllocation\n",
        "import numpy as np \n",
        "np.set_printoptions(precision=3)\n",
        "\n",
        "lda = LatentDirichletAllocation(n_components= 12,   # 추출할 topic의 수 \n",
        "                                max_iter = 5, \n",
        "                                topic_word_prior = 0.1, \n",
        "                                doc_topic_prior= 1.0,\n",
        "                                learning_method='online',\n",
        "                                n_jobs= -1,  #사용 processor 수\n",
        "                                random_state=0)\n",
        "\n",
        "review_topics = lda.fit_transform(review_cv)\n",
        "\n",
        "print('#shape of review_topics:', review_topics.shape)\n",
        "print('#sample of review_topics:', review_topics[0])\n",
        "\n",
        "gross_topic_weights = np.mean(review_topics, axis=0)\n",
        "print('#sum of topic weights of documents:', gross_topic_weights)\n",
        "\n",
        "print('#shape of topic word distribution:', lda.components_.shape)\n"
      ],
      "metadata": {
        "colab": {
          "base_uri": "https://localhost:8080/"
        },
        "id": "gNQIIHRt-yQZ",
        "outputId": "c1e532a9-cad6-4595-89a4-95c5ed3dd85e"
      },
      "execution_count": 21,
      "outputs": [
        {
          "output_type": "stream",
          "name": "stdout",
          "text": [
            "#shape of review_topics: (3819, 12)\n",
            "#sample of review_topics: [0.032 0.039 0.492 0.022 0.021 0.02  0.019 0.084 0.149 0.021 0.06  0.041]\n",
            "#sum of topic weights of documents: [0.091 0.115 0.095 0.107 0.094 0.065 0.081 0.096 0.066 0.079 0.042 0.068]\n",
            "#shape of topic word distribution: (12, 2500)\n"
          ]
        }
      ]
    },
    {
      "cell_type": "code",
      "source": [
        "print(review_topics[1][:])\n",
        "\n",
        "print() \n",
        "\n",
        "print(lda.components_[:5])"
      ],
      "metadata": {
        "colab": {
          "base_uri": "https://localhost:8080/"
        },
        "id": "0rfuybVhNUf0",
        "outputId": "f753ba1e-c3da-4094-e43d-a0ddc0f3d3b5"
      },
      "execution_count": 42,
      "outputs": [
        {
          "output_type": "stream",
          "name": "stdout",
          "text": [
            "[0.036 0.18  0.511 0.024 0.035 0.051 0.029 0.059 0.028 0.017 0.014 0.015]\n",
            "\n",
            "[[ 0.103  0.281  0.559 ...  0.1    0.101  0.1  ]\n",
            " [ 0.1   49.408 20.554 ...  0.101  1.059  0.164]\n",
            " [ 0.1    0.119 13.108 ...  0.101  0.102  0.101]\n",
            " [ 0.1    3.819  0.111 ...  0.101  0.105  0.102]\n",
            " [58.695  7.734 36.253 ... 16.795  0.102  0.1  ]]\n"
          ]
        }
      ]
    },
    {
      "cell_type": "code",
      "source": [
        "def print_top_words(model, feature_names, n_top_words):\n",
        "  for topic_idx, topic in enumerate(model.components_):\n"
      ],
      "metadata": {
        "id": "RRgmO7MXGRqn"
      },
      "execution_count": null,
      "outputs": []
    }
  ]
}