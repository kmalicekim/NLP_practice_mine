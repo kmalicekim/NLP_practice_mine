{
  "nbformat": 4,
  "nbformat_minor": 0,
  "metadata": {
    "colab": {
      "provenance": [],
      "collapsed_sections": [],
      "authorship_tag": "ABX9TyOOxafsNIp4Jy8Bjfcg92Si",
      "include_colab_link": true
    },
    "kernelspec": {
      "name": "python3",
      "display_name": "Python 3"
    },
    "language_info": {
      "name": "python"
    }
  },
  "cells": [
    {
      "cell_type": "markdown",
      "metadata": {
        "id": "view-in-github",
        "colab_type": "text"
      },
      "source": [
        "<a href=\"https://colab.research.google.com/github/kmalicekim/NLP_practice_mine/blob/master/10.%20%EB%94%A5%EB%9F%AC%EB%8B%9D%EC%9D%84%20%EC%9D%B4%EC%9A%A9%ED%95%9C%20%EB%AC%B8%EC%84%9C%EB%B6%84%EB%A5%98.ipynb\" target=\"_parent\"><img src=\"https://colab.research.google.com/assets/colab-badge.svg\" alt=\"Open In Colab\"/></a>"
      ]
    },
    {
      "cell_type": "markdown",
      "source": [
        "## 10.3 RNN을 이용한 문서 분류 - NLTK 영화리뷰 감성분석\n",
        "\n",
        "### 10.3.1 워드 임베딩을 위한 데이터 준비"
      ],
      "metadata": {
        "id": "GZvgo76Zoj1X"
      }
    },
    {
      "cell_type": "code",
      "execution_count": 13,
      "metadata": {
        "colab": {
          "base_uri": "https://localhost:8080/"
        },
        "id": "l1PxD7CLoNSc",
        "outputId": "7c9aacd6-61c1-44c7-9059-7efda55bd60b"
      },
      "outputs": [
        {
          "output_type": "stream",
          "name": "stdout",
          "text": [
            "Reviews count: 2000\n",
            "Length of the first review: 4043\n",
            "Labels: {'neg', 'pos'}\n"
          ]
        },
        {
          "output_type": "stream",
          "name": "stderr",
          "text": [
            "[nltk_data] Downloading package movie_reviews to /root/nltk_data...\n",
            "[nltk_data]   Package movie_reviews is already up-to-date!\n"
          ]
        }
      ],
      "source": [
        "import nltk\n",
        "nltk.download('movie_reviews')\n",
        "from nltk.corpus import movie_reviews\n",
        "\n",
        "fileids = movie_reviews.fileids()  #movie review data에서 file id를 가져옴\n",
        "\n",
        "# file id를 이용해 raw test file를 가져옴\n",
        "reviews = [movie_reviews.raw(fileid) for fileid in fileids] \n",
        "\n",
        "# file id를 이용해 라벨로 사용할 카테고리, 즉 긍정/부정 정보를 순서대로 가져옴\n",
        "categories = [movie_reviews.categories(fileid)[0] for fileid in fileids]\n",
        "\n",
        "print('Reviews count:', len(reviews))\n",
        "print('Length of the first review:', len(reviews[0]))\n",
        "print('Labels:', set(categories))\n"
      ]
    },
    {
      "cell_type": "code",
      "source": [
        "import numpy as np\n",
        "import tensorflow as tf\n",
        "from tensorflow.keras.preprocessing.text import Tokenizer \n",
        "\n",
        "np.random.seed(7)\n",
        "tf.random.set_seed(7)\n",
        "\n",
        "max_words = 10000 # 사용할 단어 수\n",
        "\n",
        "# 빈도가 높은 10,000개의 단어를 선택하도록 객체 생성\n",
        "tokenizer = Tokenizer(num_words=max_words, oov_token='UNK') \n",
        "\n",
        "# 주어진 말뭉치에 대해 단어 인덱스 사전 구축\n",
        "tokenizer.fit_on_texts(reviews)  \n",
        "\n",
        "# 이 사전을 이용해 문서들을 인덱스의 시퀀스로 변환\n",
        "X = tokenizer.texts_to_sequences(reviews)\n",
        "\n",
        "print('Lengths of first 10 documents:', [len(doc) for doc in X[:10]])"
      ],
      "metadata": {
        "colab": {
          "base_uri": "https://localhost:8080/"
        },
        "id": "KfP-W2mY1m_S",
        "outputId": "60c655c2-8378-4a01-8c0e-110530aa6f24"
      },
      "execution_count": 16,
      "outputs": [
        {
          "output_type": "stream",
          "name": "stdout",
          "text": [
            "Lengths of first 10 documents: [710, 240, 486, 479, 733, 671, 550, 584, 702, 776]\n"
          ]
        }
      ]
    },
    {
      "cell_type": "code",
      "source": [
        "print(\"Index of 'the':\", tokenizer.word_index[\"the\"])\n",
        "print(\"Index of 'review':\", tokenizer.word_index['review'] )\n",
        "print(\"Index of out-of-vocabulary words:\", tokenizer.word_index['UNK'])"
      ],
      "metadata": {
        "colab": {
          "base_uri": "https://localhost:8080/"
        },
        "id": "dk4V3lNG270k",
        "outputId": "aa83a836-a844-4053-cd82-6499af607677"
      },
      "execution_count": 17,
      "outputs": [
        {
          "output_type": "stream",
          "name": "stdout",
          "text": [
            "Index of 'the': 2\n",
            "Index of 'review': 466\n",
            "Index of out-of-vocabulary words: 1\n"
          ]
        }
      ]
    },
    {
      "cell_type": "code",
      "source": [
        "from tensorflow.keras.preprocessing.sequence import pad_sequences \n",
        "\n",
        "# 문서의 단어 수를 제한 \n",
        "maxlen = 500\n",
        "\n",
        "# 문서의 단어 수가 500보다 작으면 0을 채우고, 크면 잘라냄\n",
        "# 잘라낼 때 앞을 자를지, 뒤를 자를지 선택할 수 있음. 앞을 자르고 뒷부분을 쓰고자 하면 'pre' 선택\n",
        "X = pad_sequences(X, maxlen=maxlen, truncating='pre')"
      ],
      "metadata": {
        "id": "4lLwv0TyZTnQ"
      },
      "execution_count": 19,
      "outputs": []
    },
    {
      "cell_type": "code",
      "source": [
        "import numpy as np\n",
        "\n",
        "# label을 0,1의 값으로 변환\n",
        "label_dict = {'pos':1, 'neg':0}\n",
        "y = np.array([label_dict[c] for c in categories])\n",
        "print(set(y))"
      ],
      "metadata": {
        "colab": {
          "base_uri": "https://localhost:8080/"
        },
        "id": "rsWq2gcUZsEx",
        "outputId": "e1cb18bc-703f-477c-cc4c-36f30879cc83"
      },
      "execution_count": 20,
      "outputs": [
        {
          "output_type": "stream",
          "name": "stdout",
          "text": [
            "{0, 1}\n"
          ]
        }
      ]
    },
    {
      "cell_type": "code",
      "source": [
        "from sklearn.model_selection import train_test_split\n",
        "X_train, X_test, y_train, y_test = train_test_split(X, y, test_size=0.2, random_state=10)\n",
        "\n",
        "print('Train set count:', len(X_train))\n",
        "print('Test set count:', len(X_test))\n",
        "print('Test samples:', y_test[:20])"
      ],
      "metadata": {
        "colab": {
          "base_uri": "https://localhost:8080/"
        },
        "id": "NPw_NjMYZ7K1",
        "outputId": "e2d148f1-b21c-4f72-dde0-0ae3d9205ea7"
      },
      "execution_count": 21,
      "outputs": [
        {
          "output_type": "stream",
          "name": "stdout",
          "text": [
            "Train set count: 1600\n",
            "Test set count: 400\n",
            "Test samples: [0 1 1 0 1 1 0 0 0 0 1 1 0 0 1 0 0 1 1 1]\n"
          ]
        }
      ]
    },
    {
      "cell_type": "markdown",
      "source": [
        "---"
      ],
      "metadata": {
        "id": "Gi983RvhaTvr"
      }
    },
    {
      "cell_type": "markdown",
      "source": [
        "### 10.3.2 RNN이 아닌 일반적인 신경망 모형을 이용한 분류"
      ],
      "metadata": {
        "id": "jsa5fOaSaQX5"
      }
    },
    {
      "cell_type": "code",
      "source": [
        "# keras 모형 생성 및 학습\n",
        "from tensorflow.keras.models import Sequential \n",
        "from tensorflow.keras.layers import Flatten, Dense, Embedding \n",
        "\n",
        "# 순차적 모형\n",
        "model = Sequential([\n",
        "    Embedding(max_words, 32, input_length=maxlen),  # word embedding layer 생성\n",
        "    \n",
        "    # max_words(위에서 10,000이라 지정)은 one-hot encoding을 할 때의 vector 크기가 됨 - 사용된 단어의 수만큼\n",
        "    # 각 단어는 32크기의 dense vector로 embedding 됨\n",
        "    # input_length는 한 document의 단어 수로 표현\n",
        "    ## 이 과정을 거치면 각 document는 (maxlen, 32)의 2차원 행렬이 됨 - 즉 word의 sequence가 됨\n",
        "\n",
        "    Flatten(),   # 2차원 행렬을 1차원으로 펼침\n",
        "    Dense(1, activation='sigmoid')   # binary logistic regression을 수행\n",
        "])\n",
        "\n",
        "model.summary()  # 모델의 요약정보 출력"
      ],
      "metadata": {
        "colab": {
          "base_uri": "https://localhost:8080/"
        },
        "id": "_PgV1u9CaOWz",
        "outputId": "a1dda86c-6a4c-478a-8f7b-c53eb8c2f8b1"
      },
      "execution_count": 22,
      "outputs": [
        {
          "output_type": "stream",
          "name": "stdout",
          "text": [
            "Model: \"sequential\"\n",
            "_________________________________________________________________\n",
            " Layer (type)                Output Shape              Param #   \n",
            "=================================================================\n",
            " embedding (Embedding)       (None, 500, 32)           320000    \n",
            "                                                                 \n",
            " flatten (Flatten)           (None, 16000)             0         \n",
            "                                                                 \n",
            " dense (Dense)               (None, 1)                 16001     \n",
            "                                                                 \n",
            "=================================================================\n",
            "Total params: 336,001\n",
            "Trainable params: 336,001\n",
            "Non-trainable params: 0\n",
            "_________________________________________________________________\n"
          ]
        }
      ]
    },
    {
      "cell_type": "code",
      "source": [
        "# 모형의 optimizer와 loss function 등을 지정\n",
        "model.compile(optimizer='rmsprop', loss='binary_crossentropy', metrics=['acc'])\n",
        "\n",
        "# 학습을 수행\n",
        "history = model.fit(X_train, y_train,\n",
        "                    epochs=10,\n",
        "                    verbose=1,  # 학습 진행 중 학습현황의 출력 여부\n",
        "                    validation_split=0.2)"
      ],
      "metadata": {
        "colab": {
          "base_uri": "https://localhost:8080/"
        },
        "id": "oFLD11JrcNZI",
        "outputId": "70eadcaa-af1d-47b9-d36b-559053032c50"
      },
      "execution_count": 24,
      "outputs": [
        {
          "output_type": "stream",
          "name": "stdout",
          "text": [
            "Epoch 1/10\n",
            "40/40 [==============================] - 1s 12ms/step - loss: 0.6913 - acc: 0.5281 - val_loss: 0.6858 - val_acc: 0.5688\n",
            "Epoch 2/10\n",
            "40/40 [==============================] - 0s 9ms/step - loss: 0.5859 - acc: 0.9234 - val_loss: 0.6737 - val_acc: 0.6156\n",
            "Epoch 3/10\n",
            "40/40 [==============================] - 0s 8ms/step - loss: 0.4473 - acc: 0.9773 - val_loss: 0.6494 - val_acc: 0.6406\n",
            "Epoch 4/10\n",
            "40/40 [==============================] - 0s 7ms/step - loss: 0.2894 - acc: 0.9945 - val_loss: 0.6198 - val_acc: 0.6469\n",
            "Epoch 5/10\n",
            "40/40 [==============================] - 0s 8ms/step - loss: 0.1608 - acc: 0.9984 - val_loss: 0.5920 - val_acc: 0.6844\n",
            "Epoch 6/10\n",
            "40/40 [==============================] - 0s 8ms/step - loss: 0.0786 - acc: 0.9992 - val_loss: 0.5762 - val_acc: 0.6719\n",
            "Epoch 7/10\n",
            "40/40 [==============================] - 0s 7ms/step - loss: 0.0348 - acc: 1.0000 - val_loss: 0.5645 - val_acc: 0.6938\n",
            "Epoch 8/10\n",
            "40/40 [==============================] - 0s 7ms/step - loss: 0.0140 - acc: 1.0000 - val_loss: 0.5629 - val_acc: 0.7094\n",
            "Epoch 9/10\n",
            "40/40 [==============================] - 0s 7ms/step - loss: 0.0053 - acc: 1.0000 - val_loss: 0.5585 - val_acc: 0.7094\n",
            "Epoch 10/10\n",
            "40/40 [==============================] - 0s 8ms/step - loss: 0.0018 - acc: 1.0000 - val_loss: 0.5805 - val_acc: 0.7188\n"
          ]
        }
      ]
    },
    {
      "cell_type": "code",
      "source": [
        "%matplotlib inline\n",
        "import matplotlib.pyplot as plt\n",
        "\n",
        "def plot_results(history, metric):\n",
        "  plt.plot(history.history[metric], 'b', label='Training '+metric)\n",
        "  plt.plot(history.history['val_'+metric], 'r--', label='Validation '+metric)\n",
        "  plt.title('Training vs Validation '+metric)\n",
        "  plt.xlabel('Epochs')\n",
        "  plt.ylabel(metric)\n",
        "  plt.legend() \n",
        "  plt.show() \n",
        "\n",
        "plot_results(history, 'acc')"
      ],
      "metadata": {
        "colab": {
          "base_uri": "https://localhost:8080/",
          "height": 295
        },
        "id": "WXrZQ-u4cmmF",
        "outputId": "c189fbbf-4f00-4606-8530-b688c63be169"
      },
      "execution_count": 28,
      "outputs": [
        {
          "output_type": "display_data",
          "data": {
            "text/plain": [
              "<Figure size 432x288 with 1 Axes>"
            ],
            "image/png": "[encoded data removed]"
          },
          "metadata": {
            "needs_background": "light"
          }
        }
      ]
    },
    {
      "cell_type": "code",
      "source": [
        "# 테스트 셋으로 학습된 모형의 성능을 평가\n",
        "\n",
        "score = model.evaluate(X_test, y_test) \n",
        "print(score) # score[0]은 loss, score[1]은 accuracy\n",
        "\n",
        "print(f'# Test accuracy:{score[1]:.3f}')   "
      ],
      "metadata": {
        "colab": {
          "base_uri": "https://localhost:8080/"
        },
        "id": "tDxIPFJYd7XY",
        "outputId": "2ba62b02-4b24-44cd-cd66-a1fac42085d1"
      },
      "execution_count": 36,
      "outputs": [
        {
          "output_type": "stream",
          "name": "stdout",
          "text": [
            "13/13 [==============================] - 0s 3ms/step - loss: 0.5605 - acc: 0.7225\n",
            "[0.5605404376983643, 0.7225000262260437]\n",
            "# Test accuracy:0.723\n"
          ]
        }
      ]
    },
    {
      "cell_type": "markdown",
      "source": [
        "---"
      ],
      "metadata": {
        "id": "fyTBl55fe58T"
      }
    },
    {
      "cell_type": "markdown",
      "source": [
        "### 10.3.3 문서의 순서정보를 활용하는 RNN 기반 문서분류"
      ],
      "metadata": {
        "id": "B9IYC684e6xN"
      }
    },
    {
      "cell_type": "code",
      "source": [
        "from tensorflow.keras.layers import SimpleRNN \n",
        "from tensorflow.keras.optimizers import Adam \n",
        "\n",
        "model = Sequential([ \n",
        "    Embedding(max_words, 32),\n",
        "    SimpleRNN(32),  # 펼쳐서 flat하게 만드는 대신 RNN 모형을 사용, maxlen만큼의 시계열 데이터 \n",
        "    Dense(32, activation='relu'), # 최종 노드에 대해 은닉층 하나를 추가해 모형의 성능을 높임\n",
        "    Dense(1, activation='sigmoid')\n",
        "])\n",
        "\n",
        "model.summary() \n",
        "\n",
        "adam = Adam(learning_rate = 1e-4)\n",
        "model.compile(optimizer=adam, loss='binary_crossentropy', metrics=['acc'])\n",
        "history = model.fit(X_train, y_train,\n",
        "                    epochs=10,\n",
        "                    verbose=1,\n",
        "                    validation_split=0.2) \n",
        "\n",
        "plot_results(history, 'acc')\n",
        "\n",
        "# 테스트 셋으로 학습된 모형의 성능을 평가\n",
        "score = model.evaluate(X_test, y_test) \n",
        "print(f'# Test accuracy: {score[1]:.3f}')\n",
        "\n"
      ],
      "metadata": {
        "colab": {
          "base_uri": "https://localhost:8080/",
          "height": 992
        },
        "id": "nCKFOiAgedit",
        "outputId": "08a30e7b-909b-4592-e843-63caa7e8a607"
      },
      "execution_count": 38,
      "outputs": [
        {
          "output_type": "stream",
          "name": "stdout",
          "text": [
            "Model: \"sequential_1\"\n",
            "_________________________________________________________________\n",
            " Layer (type)                Output Shape              Param #   \n",
            "=================================================================\n",
            " embedding_1 (Embedding)     (None, None, 32)          320000    \n",
            "                                                                 \n",
            " simple_rnn (SimpleRNN)      (None, 32)                2080      \n",
            "                                                                 \n",
            " dense_1 (Dense)             (None, 32)                1056      \n",
            "                                                                 \n",
            " dense_2 (Dense)             (None, 1)                 33        \n",
            "                                                                 \n",
            "=================================================================\n",
            "Total params: 323,169\n",
            "Trainable params: 323,169\n",
            "Non-trainable params: 0\n",
            "_________________________________________________________________\n",
            "Epoch 1/10\n",
            "40/40 [==============================] - 5s 99ms/step - loss: 0.6965 - acc: 0.4953 - val_loss: 0.6961 - val_acc: 0.4875\n",
            "Epoch 2/10\n",
            "40/40 [==============================] - 4s 93ms/step - loss: 0.6821 - acc: 0.5813 - val_loss: 0.6970 - val_acc: 0.4719\n",
            "Epoch 3/10\n",
            "40/40 [==============================] - 5s 120ms/step - loss: 0.6681 - acc: 0.6367 - val_loss: 0.6980 - val_acc: 0.4625\n",
            "Epoch 4/10\n",
            "40/40 [==============================] - 4s 93ms/step - loss: 0.6502 - acc: 0.7109 - val_loss: 0.6999 - val_acc: 0.4594\n",
            "Epoch 5/10\n",
            "40/40 [==============================] - 4s 93ms/step - loss: 0.6291 - acc: 0.7547 - val_loss: 0.7010 - val_acc: 0.4656\n",
            "Epoch 6/10\n",
            "40/40 [==============================] - 4s 93ms/step - loss: 0.5999 - acc: 0.8156 - val_loss: 0.7042 - val_acc: 0.4625\n",
            "Epoch 7/10\n",
            "40/40 [==============================] - 4s 94ms/step - loss: 0.5609 - acc: 0.8648 - val_loss: 0.7076 - val_acc: 0.4656\n",
            "Epoch 8/10\n",
            "40/40 [==============================] - 4s 94ms/step - loss: 0.5177 - acc: 0.9000 - val_loss: 0.7113 - val_acc: 0.4906\n",
            "Epoch 9/10\n",
            "40/40 [==============================] - 4s 94ms/step - loss: 0.4589 - acc: 0.9297 - val_loss: 0.7218 - val_acc: 0.4719\n",
            "Epoch 10/10\n",
            "40/40 [==============================] - 4s 93ms/step - loss: 0.3984 - acc: 0.9555 - val_loss: 0.7329 - val_acc: 0.4875\n"
          ]
        },
        {
          "output_type": "display_data",
          "data": {
            "text/plain": [
              "<Figure size 432x288 with 1 Axes>"
            ],
            "image/png": "[encoded data removed]"
          },
          "metadata": {
            "needs_background": "light"
          }
        },
        {
          "output_type": "stream",
          "name": "stdout",
          "text": [
            "13/13 [==============================] - 1s 22ms/step - loss: 0.6972 - acc: 0.5325\n",
            "# Test accuracy: 0.533\n"
          ]
        }
      ]
    },
    {
      "cell_type": "markdown",
      "source": [
        "---"
      ],
      "metadata": {
        "id": "ZuF9JqKajFk9"
      }
    },
    {
      "cell_type": "markdown",
      "source": [
        "## 10.4 LSTM, Bi-LSTM과 GRU를 이용한 성능 개선"
      ],
      "metadata": {
        "id": "Vy9uzCydjGYY"
      }
    },
    {
      "cell_type": "code",
      "source": [
        "from tensorflow.keras.layers import LSTM, Bidirectional \n",
        "\n",
        "model = Sequential([\n",
        "    Embedding(max_words, 64),\n",
        "    Bidirectional(LSTM(64)),  # simple RNN 대신 bidirectional LSTM을 사용\n",
        "    Dense(64, activation='relu'),\n",
        "    Dense(1, activation='sigmoid')\n",
        "])\n",
        "\n",
        "model.summary()\n",
        "\n",
        "model.compile(optimizer=adam, loss='binary_crossentropy', metrics=['acc']) \n",
        "\n",
        "history = model.fit(X_train, y_train,\n",
        "                    epochs=8,\n",
        "                    verbose=1,\n",
        "                    validation_split=0.2)\n",
        "\n",
        "plot_results(history, 'acc')\n",
        "\n",
        "\n",
        "# 테스트 셋으로 학습된 모형의 성능 평가\n",
        "score = model.evaluate(X_test, y_test) \n",
        "print(f'# Test accuracy: {score[1]:.3f}')"
      ],
      "metadata": {
        "colab": {
          "base_uri": "https://localhost:8080/",
          "height": 938
        },
        "id": "yacLg9Eof_9E",
        "outputId": "06676991-d020-411b-9d86-8d9a47380bf0"
      },
      "execution_count": 40,
      "outputs": [
        {
          "output_type": "stream",
          "name": "stdout",
          "text": [
            "Model: \"sequential_2\"\n",
            "_________________________________________________________________\n",
            " Layer (type)                Output Shape              Param #   \n",
            "=================================================================\n",
            " embedding_2 (Embedding)     (None, None, 64)          640000    \n",
            "                                                                 \n",
            " bidirectional (Bidirectiona  (None, 128)              66048     \n",
            " l)                                                              \n",
            "                                                                 \n",
            " dense_3 (Dense)             (None, 64)                8256      \n",
            "                                                                 \n",
            " dense_4 (Dense)             (None, 1)                 65        \n",
            "                                                                 \n",
            "=================================================================\n",
            "Total params: 714,369\n",
            "Trainable params: 714,369\n",
            "Non-trainable params: 0\n",
            "_________________________________________________________________\n",
            "Epoch 1/8\n",
            "40/40 [==============================] - 27s 609ms/step - loss: 0.6928 - acc: 0.5109 - val_loss: 0.6924 - val_acc: 0.5125\n",
            "Epoch 2/8\n",
            "40/40 [==============================] - 26s 636ms/step - loss: 0.6873 - acc: 0.5586 - val_loss: 0.6901 - val_acc: 0.5094\n",
            "Epoch 3/8\n",
            "40/40 [==============================] - 20s 498ms/step - loss: 0.6365 - acc: 0.7250 - val_loss: 0.5933 - val_acc: 0.7125\n",
            "Epoch 4/8\n",
            "40/40 [==============================] - 22s 551ms/step - loss: 0.4471 - acc: 0.8438 - val_loss: 0.5115 - val_acc: 0.7719\n",
            "Epoch 5/8\n",
            "40/40 [==============================] - 17s 423ms/step - loss: 0.2723 - acc: 0.9117 - val_loss: 0.4477 - val_acc: 0.7875\n",
            "Epoch 6/8\n",
            "40/40 [==============================] - 17s 425ms/step - loss: 0.1429 - acc: 0.9594 - val_loss: 0.4894 - val_acc: 0.8000\n",
            "Epoch 7/8\n",
            "40/40 [==============================] - 17s 424ms/step - loss: 0.0784 - acc: 0.9812 - val_loss: 0.4103 - val_acc: 0.8125\n",
            "Epoch 8/8\n",
            "40/40 [==============================] - 17s 423ms/step - loss: 0.0592 - acc: 0.9875 - val_loss: 0.7554 - val_acc: 0.7563\n"
          ]
        },
        {
          "output_type": "display_data",
          "data": {
            "text/plain": [
              "<Figure size 432x288 with 1 Axes>"
            ],
            "image/png": "[encoded data removed]"
          },
          "metadata": {
            "needs_background": "light"
          }
        },
        {
          "output_type": "stream",
          "name": "stdout",
          "text": [
            "13/13 [==============================] - 2s 98ms/step - loss: 0.7749 - acc: 0.7625\n",
            "# Test accuracy: 0.762\n"
          ]
        }
      ]
    },
    {
      "cell_type": "code",
      "source": [
        "y_pred = np.round(model.predict(X_test[:10]))\n",
        "\n",
        "for pred, y_t in zip(y_pred, y_test[:10]):\n",
        "  print(f'predicted value: {pred[0]}, true value: {y_t}, so the prediction is {pred[0]==y_t}')"
      ],
      "metadata": {
        "colab": {
          "base_uri": "https://localhost:8080/"
        },
        "id": "Fp_nAPkRkkfY",
        "outputId": "ab672a47-0d77-4a11-fc46-756e0a7dd735"
      },
      "execution_count": 41,
      "outputs": [
        {
          "output_type": "stream",
          "name": "stdout",
          "text": [
            "1/1 [==============================] - 1s 914ms/step\n",
            "predicted value: 0.0, true value: 0, so the prediction is True\n",
            "predicted value: 1.0, true value: 1, so the prediction is True\n",
            "predicted value: 1.0, true value: 1, so the prediction is True\n",
            "predicted value: 1.0, true value: 0, so the prediction is False\n",
            "predicted value: 1.0, true value: 1, so the prediction is True\n",
            "predicted value: 1.0, true value: 1, so the prediction is True\n",
            "predicted value: 0.0, true value: 0, so the prediction is True\n",
            "predicted value: 1.0, true value: 0, so the prediction is False\n",
            "predicted value: 0.0, true value: 0, so the prediction is True\n",
            "predicted value: 0.0, true value: 0, so the prediction is True\n"
          ]
        }
      ]
    },
    {
      "cell_type": "code",
      "source": [],
      "metadata": {
        "id": "8Wd-muMCk7Yj"
      },
      "execution_count": null,
      "outputs": []
    }
  ]
}