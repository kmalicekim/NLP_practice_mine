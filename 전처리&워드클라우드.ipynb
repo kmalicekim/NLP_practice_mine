{
  "nbformat": 4,
  "nbformat_minor": 0,
  "metadata": {
    "colab": {
      "provenance": [],
      "collapsed_sections": [],
      "authorship_tag": "ABX9TyOULvMSxMYHZ4+/jSHYiqJq",
      "include_colab_link": true
    },
    "kernelspec": {
      "name": "python3",
      "display_name": "Python 3"
    },
    "language_info": {
      "name": "python"
    }
  },
  "cells": [
    {
      "cell_type": "markdown",
      "metadata": {
        "id": "view-in-github",
        "colab_type": "text"
      },
      "source": [
        "<a href=\"https://colab.research.google.com/github/kmalicekim/NLP_practice_mine/blob/master/%EC%A0%84%EC%B2%98%EB%A6%AC%26%EC%9B%8C%EB%93%9C%ED%81%B4%EB%9D%BC%EC%9A%B0%EB%93%9C.ipynb\" target=\"_parent\"><img src=\"https://colab.research.google.com/assets/colab-badge.svg\" alt=\"Open In Colab\"/></a>"
      ]
    },
    {
      "cell_type": "markdown",
      "source": [
        "# 2. 토큰화(Tokenization) \n",
        "\n",
        "NLTK (https://www.nltk.org/)설치"
      ],
      "metadata": {
        "id": "uG0A8Be_H01g"
      }
    },
    {
      "cell_type": "code",
      "execution_count": null,
      "metadata": {
        "colab": {
          "base_uri": "https://localhost:8080/"
        },
        "id": "vtvCo_mx6OVq",
        "outputId": "ac9662fe-1a29-4d50-8ef9-355d0677340a"
      },
      "outputs": [
        {
          "output_type": "stream",
          "name": "stderr",
          "text": [
            "[nltk_data] Downloading package punkt to /root/nltk_data...\n",
            "[nltk_data]   Package punkt is already up-to-date!\n",
            "[nltk_data] Downloading package webtext to /root/nltk_data...\n",
            "[nltk_data]   Package webtext is already up-to-date!\n",
            "[nltk_data] Downloading package wordnet to /root/nltk_data...\n",
            "[nltk_data]   Package wordnet is already up-to-date!\n",
            "[nltk_data] Downloading package stopwords to /root/nltk_data...\n",
            "[nltk_data]   Package stopwords is already up-to-date!\n",
            "[nltk_data] Downloading package averaged_perceptron_tagger to\n",
            "[nltk_data]     /root/nltk_data...\n",
            "[nltk_data]   Package averaged_perceptron_tagger is already up-to-\n",
            "[nltk_data]       date!\n",
            "[nltk_data] Downloading package omw-1.4 to /root/nltk_data...\n",
            "[nltk_data]   Package omw-1.4 is already up-to-date!\n"
          ]
        },
        {
          "output_type": "execute_result",
          "data": {
            "text/plain": [
              "True"
            ]
          },
          "metadata": {},
          "execution_count": 3
        }
      ],
      "source": [
        "# 필요한 nltk library download\n",
        "\n",
        "import nltk\n",
        "nltk.download('punkt')\n",
        "nltk.download('webtext')\n",
        "nltk.download('wordnet')\n",
        "nltk.download('stopwords')\n",
        "nltk.download('averaged_perceptron_tagger')\n",
        "nltk.download('omw-1.4')"
      ]
    },
    {
      "cell_type": "markdown",
      "source": [
        "## 2.1 문장 토큰화(sentence tokenize)"
      ],
      "metadata": {
        "id": "Mu9xdTQY647N"
      }
    },
    {
      "cell_type": "code",
      "source": [
        "para = \"Hello everyone. It's good to see you. Let's start out text mining class!\""
      ],
      "metadata": {
        "id": "cqju91y361e2"
      },
      "execution_count": null,
      "outputs": []
    },
    {
      "cell_type": "code",
      "source": [
        "from nltk.tokenize import sent_tokenize   # 주어진 text를 **sentence** 단위로 tokenize 함. 주로 .!? 등을 이용 \n",
        "print(sent_tokenize(para))"
      ],
      "metadata": {
        "colab": {
          "base_uri": "https://localhost:8080/"
        },
        "id": "n3ZxpevU7JY0",
        "outputId": "8b1317b4-a29d-4051-c6f3-3e07a26296b3"
      },
      "execution_count": null,
      "outputs": [
        {
          "output_type": "stream",
          "name": "stdout",
          "text": [
            "['Hello everyone.', \"It's good to see you.\", \"Let's start out text mining class!\"]\n"
          ]
        }
      ]
    },
    {
      "cell_type": "code",
      "source": [
        "# 영어 이외의 언어 토큰화\n",
        "\n",
        "paragraph_french = \"\"\"Je t'ai demandé si tu m'aimais bien, Tu m'a répondu non. \n",
        "Je t'ai demandé si j'étais jolie, Tu m'a répondu non. \n",
        "Je t'ai demandé si j'étai dans ton coeur, Tu m'a répondu non.\"\"\"\n",
        "\n",
        "import nltk.data\n",
        "tokenizer = nltk.data.load('tokenizers/punkt/french.pickle')\n",
        "print(tokenizer.tokenize(paragraph_french))"
      ],
      "metadata": {
        "colab": {
          "base_uri": "https://localhost:8080/"
        },
        "id": "2derx5U47USF",
        "outputId": "b13040de-42f4-4a2c-8893-3d4d5a2b4d84"
      },
      "execution_count": null,
      "outputs": [
        {
          "output_type": "stream",
          "name": "stdout",
          "text": [
            "[\"Je t'ai demandé si tu m'aimais bien, Tu m'a répondu non.\", \"Je t'ai demandé si j'étais jolie, Tu m'a répondu non.\", \"Je t'ai demandé si j'étai dans ton coeur, Tu m'a répondu non.\"]\n"
          ]
        }
      ]
    },
    {
      "cell_type": "code",
      "source": [
        "# 한국어는 sentence tokenizer 가 잘 될까? -- 잘 됨\n",
        "\n",
        "para_kor = \"안녕하세요, 여러분. 만나서 반갑습니다. 이제 이제 텍스트마이닝 클래스를 시작해봅시다!\"\n",
        "print(sent_tokenize(para_kor))"
      ],
      "metadata": {
        "colab": {
          "base_uri": "https://localhost:8080/"
        },
        "id": "bqoiEFC08KGQ",
        "outputId": "e99edbf5-146f-4481-a6ef-43e5838dc2f3"
      },
      "execution_count": null,
      "outputs": [
        {
          "output_type": "stream",
          "name": "stdout",
          "text": [
            "['안녕하세요, 여러분.', '만나서 반갑습니다.', '이제 이제 텍스트마이닝 클래스를 시작해봅시다!']\n"
          ]
        }
      ]
    },
    {
      "cell_type": "markdown",
      "source": [
        "## 2.2 단어 토큰화(word tokenize)"
      ],
      "metadata": {
        "id": "A04887fj9YCe"
      }
    },
    {
      "cell_type": "code",
      "source": [
        "from nltk.tokenize import word_tokenize  # 주어진 text를 **word** 단위로 tokenize함\n",
        "print(word_tokenize(para))"
      ],
      "metadata": {
        "colab": {
          "base_uri": "https://localhost:8080/"
        },
        "id": "MiFXbE4t82OM",
        "outputId": "bbb2f595-65fd-4df9-87f5-85a5fa8bccbc"
      },
      "execution_count": null,
      "outputs": [
        {
          "output_type": "stream",
          "name": "stdout",
          "text": [
            "['Hello', 'everyone', '.', 'It', \"'s\", 'good', 'to', 'see', 'you', '.', 'Let', \"'s\", 'start', 'out', 'text', 'mining', 'class', '!']\n"
          ]
        }
      ]
    },
    {
      "cell_type": "code",
      "source": [
        "# word_tokenize 와 WordPunctTokenizer 는 약간의 차이를 보임 (Apostrophe)\n",
        "\n",
        "from nltk.tokenize import WordPunctTokenizer\n",
        "print(WordPunctTokenizer().tokenize(para))"
      ],
      "metadata": {
        "colab": {
          "base_uri": "https://localhost:8080/"
        },
        "id": "fDDuZe9q9uvS",
        "outputId": "a48c09b0-4e59-40bc-d399-db81e97aa425"
      },
      "execution_count": null,
      "outputs": [
        {
          "output_type": "stream",
          "name": "stdout",
          "text": [
            "['Hello', 'everyone', '.', 'It', \"'\", 's', 'good', 'to', 'see', 'you', '.', 'Let', \"'\", 's', 'start', 'out', 'text', 'mining', 'class', '!']\n"
          ]
        }
      ]
    },
    {
      "cell_type": "code",
      "source": [
        "print(word_tokenize(para_kor))"
      ],
      "metadata": {
        "colab": {
          "base_uri": "https://localhost:8080/"
        },
        "id": "R4H8_uG_98Im",
        "outputId": "d6f860f4-c304-4f5a-88cd-2e5708f592d0"
      },
      "execution_count": null,
      "outputs": [
        {
          "output_type": "stream",
          "name": "stdout",
          "text": [
            "['안녕하세요', ',', '여러분', '.', '만나서', '반갑습니다', '.', '이제', '이제', '텍스트마이닝', '클래스를', '시작해봅시다', '!']\n"
          ]
        }
      ]
    },
    {
      "cell_type": "markdown",
      "source": [
        "## 2.3 정규표현식을 이용한 토큰화 "
      ],
      "metadata": {
        "id": "cWJHtZ3u-o36"
      }
    },
    {
      "cell_type": "code",
      "source": [
        "import re\n",
        "\n",
        "re.findall(\"[abce]\", \"How are you, Alice?\")"
      ],
      "metadata": {
        "colab": {
          "base_uri": "https://localhost:8080/"
        },
        "id": "0MiFxqIW-sqj",
        "outputId": "88d62193-54e5-4b20-8d65-a8f46b1736de"
      },
      "execution_count": null,
      "outputs": [
        {
          "output_type": "execute_result",
          "data": {
            "text/plain": [
              "['a', 'e', 'c', 'e']"
            ]
          },
          "metadata": {},
          "execution_count": 16
        }
      ]
    },
    {
      "cell_type": "code",
      "source": [
        "re.findall('[0123456789]', \"3a7b5c9d\")"
      ],
      "metadata": {
        "colab": {
          "base_uri": "https://localhost:8080/"
        },
        "id": "yD4KNdRj-8Ak",
        "outputId": "6310f7ae-c16e-4bb6-85fe-b1eaeb1863f3"
      },
      "execution_count": null,
      "outputs": [
        {
          "output_type": "execute_result",
          "data": {
            "text/plain": [
              "['3', '7', '5', '9']"
            ]
          },
          "metadata": {},
          "execution_count": 17
        }
      ]
    },
    {
      "cell_type": "code",
      "source": [
        "re.findall(\"[\\w]\", \"3a 7b_'.^&5c9d\")"
      ],
      "metadata": {
        "colab": {
          "base_uri": "https://localhost:8080/"
        },
        "id": "mOlhqu4D-1L0",
        "outputId": "06eb62bb-0916-4f79-f9f7-803dd8ff5b9d"
      },
      "execution_count": null,
      "outputs": [
        {
          "output_type": "execute_result",
          "data": {
            "text/plain": [
              "['3', 'a', '7', 'b', '_', '5', 'c', '9', 'd']"
            ]
          },
          "metadata": {},
          "execution_count": 20
        }
      ]
    },
    {
      "cell_type": "code",
      "source": [
        "re.findall(\"[_]+\", \"a_b, c__d, e___f\")"
      ],
      "metadata": {
        "colab": {
          "base_uri": "https://localhost:8080/"
        },
        "id": "nN-7jM1y-i_x",
        "outputId": "b8e91c1b-3886-4f34-bd65-664680d9b910"
      },
      "execution_count": null,
      "outputs": [
        {
          "output_type": "execute_result",
          "data": {
            "text/plain": [
              "['_', '__', '___']"
            ]
          },
          "metadata": {},
          "execution_count": 24
        }
      ]
    },
    {
      "cell_type": "code",
      "source": [
        "re.findall(\"[_]\", \"a_b, c__d, e___f\")"
      ],
      "metadata": {
        "colab": {
          "base_uri": "https://localhost:8080/"
        },
        "id": "cWfOIRSKAPCq",
        "outputId": "c750463f-d310-4b0a-86ac-03ba226c2c25"
      },
      "execution_count": null,
      "outputs": [
        {
          "output_type": "execute_result",
          "data": {
            "text/plain": [
              "['_', '_', '_', '_', '_', '_']"
            ]
          },
          "metadata": {},
          "execution_count": 25
        }
      ]
    },
    {
      "cell_type": "code",
      "source": [
        "re.findall(\"[\\w]+\", \"How are you, Alice?\")"
      ],
      "metadata": {
        "colab": {
          "base_uri": "https://localhost:8080/"
        },
        "id": "D70HTeuiAGIJ",
        "outputId": "310bdd11-b68c-4e32-e0cc-e97acdabab13"
      },
      "execution_count": null,
      "outputs": [
        {
          "output_type": "execute_result",
          "data": {
            "text/plain": [
              "['How', 'are', 'you', 'Alice']"
            ]
          },
          "metadata": {},
          "execution_count": 26
        }
      ]
    },
    {
      "cell_type": "code",
      "source": [
        "re.findall(\"[\\w,]+\", \"How are you, Alice?\")"
      ],
      "metadata": {
        "colab": {
          "base_uri": "https://localhost:8080/"
        },
        "id": "TIq_lwHbAcf1",
        "outputId": "a175139e-0a9e-4506-df44-c8e03c2bdfb2"
      },
      "execution_count": null,
      "outputs": [
        {
          "output_type": "execute_result",
          "data": {
            "text/plain": [
              "['How', 'are', 'you,', 'Alice']"
            ]
          },
          "metadata": {},
          "execution_count": 27
        }
      ]
    },
    {
      "cell_type": "code",
      "source": [
        "re.findall(\"[\\w,?]+\", \"How are you, Alice?\")"
      ],
      "metadata": {
        "colab": {
          "base_uri": "https://localhost:8080/"
        },
        "id": "cGWdbTECAftt",
        "outputId": "2e3b957c-e7d9-4c16-e0b2-d90468e1d865"
      },
      "execution_count": null,
      "outputs": [
        {
          "output_type": "execute_result",
          "data": {
            "text/plain": [
              "['How', 'are', 'you,', 'Alice?']"
            ]
          },
          "metadata": {},
          "execution_count": 28
        }
      ]
    },
    {
      "cell_type": "code",
      "source": [
        "# 찾고싶은 단어의 개수를 제한에서 보여줄 때\n",
        "\n",
        "re.findall(\"[o]{2,4}\", \"oh, hoow are yoooou, booooooy?\")"
      ],
      "metadata": {
        "colab": {
          "base_uri": "https://localhost:8080/"
        },
        "id": "c6WLUiraAi8Y",
        "outputId": "c2c82b8d-6ca6-439f-d696-78310c5d8748"
      },
      "execution_count": null,
      "outputs": [
        {
          "output_type": "execute_result",
          "data": {
            "text/plain": [
              "['oo', 'oooo', 'oooo', 'oo']"
            ]
          },
          "metadata": {},
          "execution_count": 29
        }
      ]
    },
    {
      "cell_type": "code",
      "source": [
        "# 정규식(regular expression)을 이용한 tokenizer\n",
        "\n",
        "from nltk.tokenize import RegexpTokenizer\n",
        "tokenizer = RegexpTokenizer(\"[\\w']+\")\n",
        "\n",
        "print(tokenizer.tokenize(\"Sorry, I can't go there.\"))"
      ],
      "metadata": {
        "colab": {
          "base_uri": "https://localhost:8080/"
        },
        "id": "JZHCddwKAxlp",
        "outputId": "21262856-7c55-4273-d60b-70e264a7bc9b"
      },
      "execution_count": null,
      "outputs": [
        {
          "output_type": "stream",
          "name": "stdout",
          "text": [
            "['Sorry', 'I', \"can't\", 'go', 'there']\n"
          ]
        }
      ]
    },
    {
      "cell_type": "code",
      "source": [
        "text1 = \"Sorry, I can't go there.\"\n",
        "tokenizer = RegexpTokenizer(\"[\\w']{3,}\")\n",
        "print(tokenizer.tokenize(text1.lower()))"
      ],
      "metadata": {
        "colab": {
          "base_uri": "https://localhost:8080/"
        },
        "id": "2-J_cchwBX7t",
        "outputId": "7d5dd29d-ddc2-48ca-c0b5-8c3fd44887dc"
      },
      "execution_count": null,
      "outputs": [
        {
          "output_type": "stream",
          "name": "stdout",
          "text": [
            "['sorry', \"can't\", 'there']\n"
          ]
        }
      ]
    },
    {
      "cell_type": "markdown",
      "source": [
        "## 2.4 노이즈와 불용어 제거"
      ],
      "metadata": {
        "id": "EpaIFUOHCIrE"
      }
    },
    {
      "cell_type": "code",
      "source": [
        "# 일반적으로 분석 대상이 아닌 단어들 : stopwords 에 있음\n",
        "\n",
        "from nltk.corpus import stopwords \n",
        "\n",
        "english_stops = set(stopwords.words(\"english\"))  # 반복이 되지 않도록 set으로 변환\n",
        "\n",
        "text1 = \"Sorry, I couldn't go to movie yesterday.\"\n",
        "\n",
        "tokenizer = RegexpTokenizer(\"[\\w']+\")\n",
        "tokens = tokenizer.tokenize(text1.lower()) # word_tokenize로 토큰화\n",
        "\n",
        "result = [word for word in tokens if word not in english_stops] # stopwords를 제외한 단어들만으로 list를 생성\n",
        "print(result)\n"
      ],
      "metadata": {
        "colab": {
          "base_uri": "https://localhost:8080/"
        },
        "id": "BGdFs80iBps1",
        "outputId": "b3f8f5b7-9d1f-46d3-c60d-df6ac6fdb679"
      },
      "execution_count": null,
      "outputs": [
        {
          "output_type": "stream",
          "name": "stdout",
          "text": [
            "['sorry', 'go', 'movie', 'yesterday']\n"
          ]
        }
      ]
    },
    {
      "cell_type": "code",
      "source": [
        "# nltk가 제공하는 영어 stopwords\n",
        "\n",
        "# print(english_stops)\n",
        "print(set(stopwords.words(\"english\")))"
      ],
      "metadata": {
        "colab": {
          "base_uri": "https://localhost:8080/"
        },
        "id": "nqSsGrlxDGZV",
        "outputId": "b7f626de-74c7-4cda-eb71-9dee233b4d26"
      },
      "execution_count": null,
      "outputs": [
        {
          "output_type": "stream",
          "name": "stdout",
          "text": [
            "{'m', 'wouldn', 'no', 'been', 'had', 'and', 'here', 'but', \"hasn't\", 'himself', 'an', 'there', 'was', 'only', 'mustn', 'did', 'your', 'have', \"doesn't\", \"you've\", 'her', 'further', 'while', 'you', 'does', 'them', 'that', 'y', \"mustn't\", 'be', \"wouldn't\", 'has', \"should've\", 'yourself', 'how', 'hers', 'after', 'both', 'just', 'wasn', 'd', 'about', \"don't\", 'again', 'ain', \"needn't\", 'a', 'am', \"didn't\", 'yourselves', 'same', 'ma', 'at', 'when', 'some', 'their', 'too', 'nor', 'being', \"you'll\", 'because', 'over', 'by', 'the', 'under', 'having', 'll', 't', 'up', 'isn', 'as', 'won', 'on', 'don', 'theirs', 'down', 'than', 'didn', 'ours', 'themselves', 'all', 'o', \"that'll\", 'what', 'not', 'hasn', 'from', 'aren', 'doing', 'is', 'other', \"shouldn't\", 'they', 'yours', 'me', 'which', 'myself', 'were', \"weren't\", 'shan', 'weren', 'to', 'will', 'him', 'doesn', 'above', 'we', 'below', 'itself', \"you'd\", \"isn't\", \"aren't\", 'those', 'few', 'do', \"hadn't\", \"haven't\", 'couldn', 'with', 'any', 'then', 's', 'my', 'or', 'his', 'are', 'if', 'whom', 'so', 'its', 'before', 'in', 'hadn', 'these', 'ourselves', 'why', 'now', 'such', 'it', 'she', 'herself', \"you're\", 'between', 'shouldn', \"couldn't\", 'needn', \"she's\", 'i', 'for', 'of', 'our', 'once', 'where', 'each', 'against', 'more', \"won't\", 'into', 'off', 'during', \"shan't\", \"mightn't\", 'through', 'who', \"it's\", 'this', 'until', 'own', 'can', 'should', 've', 'he', \"wasn't\", 'most', 'very', 'mightn', 'out', 're', 'haven'}\n"
          ]
        }
      ]
    },
    {
      "cell_type": "markdown",
      "source": [
        "--- "
      ],
      "metadata": {
        "id": "jnhOptX3HQTp"
      }
    },
    {
      "cell_type": "markdown",
      "source": [
        "# 2. 정규화(Normalization)\n",
        "\n",
        "## 2.1 어간 추출(Stemming)"
      ],
      "metadata": {
        "id": "CA_LAWnOHSYX"
      }
    },
    {
      "cell_type": "code",
      "source": [
        "# 어간이란? : 활용 시 변하지 않는 부분 (ex. 찾- / 어미: 변하는 부분)\n",
        "\n",
        "from nltk.stem import PorterStemmer \n",
        "\n",
        "stemmer = PorterStemmer()\n",
        "\n",
        "print(stemmer.stem('cooking'), stemmer.stem('cookery'), stemmer.stem('cookbooks'))\n"
      ],
      "metadata": {
        "colab": {
          "base_uri": "https://localhost:8080/"
        },
        "id": "4UYy1EJuDLku",
        "outputId": "7a27365b-8c53-4599-f395-849591244121"
      },
      "execution_count": null,
      "outputs": [
        {
          "output_type": "stream",
          "name": "stdout",
          "text": [
            "cook cookeri cookbook\n"
          ]
        }
      ]
    },
    {
      "cell_type": "code",
      "source": [
        "from nltk.tokenize import word_tokenize \n",
        "\n",
        "para = \"Hello everyone. It's good to see you. Let's start our text mining class!\"\n",
        "tokens = word_tokenize(para)\n",
        "print(\"word_tokenize를 사용하여 나옴:\", tokens)  # list 형태로 나옴\n",
        "\n",
        "result = [stemmer.stem(token) for token in tokens]\n",
        "print(\"어간을 구했을 때:\",result)\n",
        "\n"
      ],
      "metadata": {
        "colab": {
          "base_uri": "https://localhost:8080/"
        },
        "id": "emORTUBoIuxv",
        "outputId": "2c87158d-e38c-4f23-d24d-330999eb3c87"
      },
      "execution_count": null,
      "outputs": [
        {
          "output_type": "stream",
          "name": "stdout",
          "text": [
            "word_tokenize를 사용하여 나옴: ['Hello', 'everyone', '.', 'It', \"'s\", 'good', 'to', 'see', 'you', '.', 'Let', \"'s\", 'start', 'our', 'text', 'mining', 'class', '!']\n",
            "어간을 구했을 때: ['hello', 'everyon', '.', 'it', \"'s\", 'good', 'to', 'see', 'you', '.', 'let', \"'s\", 'start', 'our', 'text', 'mine', 'class', '!']\n"
          ]
        }
      ]
    },
    {
      "cell_type": "markdown",
      "source": [
        "## 2.2 표제어 추출(Lemmatization)"
      ],
      "metadata": {
        "id": "NuJk3mKeJ5vd"
      }
    },
    {
      "cell_type": "code",
      "source": [
        "# 표제어란? : 사전에 실어 알기쉽게 풀이해 놓은 말\n",
        "# ex) am, are, is는 서로 다른 스펠링이지만 그 뿌리 단어는 be라고 볼 수 있음. 이때, 이 단어들의 표제어는 be \n",
        "\n",
        "from nltk.stem import WordNetLemmatizer\n",
        "\n",
        "lemmatizer = WordNetLemmatizer()\n",
        "\n",
        "print(lemmatizer.lemmatize(\"cooking\"))\n",
        "print(lemmatizer.lemmatize(\"cookery\"))\n",
        "print(lemmatizer.lemmatize(\"cooker\"))\n",
        "print(lemmatizer.lemmatize(\"cookbooks\"))\n",
        "print(lemmatizer.lemmatize(\"cooking\", pos='v'))  # 품사 지정"
      ],
      "metadata": {
        "colab": {
          "base_uri": "https://localhost:8080/"
        },
        "id": "I0fuMBtOJItj",
        "outputId": "538f5664-a6dc-4eaa-9666-22998d3edac4"
      },
      "execution_count": null,
      "outputs": [
        {
          "output_type": "stream",
          "name": "stdout",
          "text": [
            "cooking\n",
            "cookery\n",
            "cooker\n",
            "cookbook\n",
            "cook\n"
          ]
        }
      ]
    },
    {
      "cell_type": "markdown",
      "source": [
        "## ** - 어간 추출: 품사 정보가 보존되지 않음**\n",
        "## ** - 표제어 추출: 문맥을 고려하며 수행했을 때의 결과는 해당 단어의 품사 정보를 보존함**\n",
        "## *** 더 정확히는 어간 추출을 한 결과는 사전에 존재하지 않는 단어일 경우가 많다 ***"
      ],
      "metadata": {
        "id": "MpV4NoNoMJcg"
      }
    },
    {
      "cell_type": "code",
      "source": [
        "# comparision of lemmatizing & stemming\n",
        "\n",
        "from nltk.stem import PorterStemmer \n",
        "\n",
        "stemmer = PorterStemmer()\n",
        "\n",
        "print('stemming result: ', stemmer.stem('believes'))\n",
        "print('lemmatizing result: ', lemmatizer.lemmatize('believes'))\n",
        "print('lemmatizing result: ', lemmatizer.lemmatize('believes', pos='v'))"
      ],
      "metadata": {
        "colab": {
          "base_uri": "https://localhost:8080/"
        },
        "id": "o5ed3gnPKVZm",
        "outputId": "15d4f7b0-bd1b-4e55-b341-f098a77bbe4e"
      },
      "execution_count": null,
      "outputs": [
        {
          "output_type": "stream",
          "name": "stdout",
          "text": [
            "stemming result:  believ\n",
            "lemmatizing result:  belief\n",
            "lemmatizing result:  believe\n"
          ]
        }
      ]
    },
    {
      "cell_type": "markdown",
      "source": [
        "# 3. 품사 태깅(Part-of-Speech Tagging)\n",
        "\n",
        "## 3.1 품사의 이해\n",
        "\n",
        "## 3.2 NLTK를 이용한 품사 태깅"
      ],
      "metadata": {
        "id": "gU2QvOyrNcWz"
      }
    },
    {
      "cell_type": "code",
      "source": [
        "import nltk\n",
        "from nltk.tokenize import word_tokenize\n",
        "\n",
        "tokens = word_tokenize(\"Hello everyone. It's good to see you. Let's start our text mining class!\")\n",
        "print(tokens)\n",
        "\n",
        "print(nltk.pos_tag(tokens))"
      ],
      "metadata": {
        "colab": {
          "base_uri": "https://localhost:8080/"
        },
        "id": "BmD3aPCANO-h",
        "outputId": "a2e8ca66-0c7b-4a79-e42c-9f2a63e8a767"
      },
      "execution_count": null,
      "outputs": [
        {
          "output_type": "stream",
          "name": "stdout",
          "text": [
            "['Hello', 'everyone', '.', 'It', \"'s\", 'good', 'to', 'see', 'you', '.', 'Let', \"'s\", 'start', 'our', 'text', 'mining', 'class', '!']\n",
            "[('Hello', 'NNP'), ('everyone', 'NN'), ('.', '.'), ('It', 'PRP'), (\"'s\", 'VBZ'), ('good', 'JJ'), ('to', 'TO'), ('see', 'VB'), ('you', 'PRP'), ('.', '.'), ('Let', 'VB'), (\"'s\", 'POS'), ('start', 'VB'), ('our', 'PRP$'), ('text', 'NN'), ('mining', 'NN'), ('class', 'NN'), ('!', '.')]\n"
          ]
        }
      ]
    },
    {
      "cell_type": "code",
      "source": [
        "import nltk\n",
        "nltk.download('tagsets')"
      ],
      "metadata": {
        "colab": {
          "base_uri": "https://localhost:8080/"
        },
        "id": "GYb-mkkAN_k4",
        "outputId": "c42fc4e6-21f3-435d-80e9-5a19180858f6"
      },
      "execution_count": null,
      "outputs": [
        {
          "output_type": "stream",
          "name": "stderr",
          "text": [
            "[nltk_data] Downloading package tagsets to /root/nltk_data...\n",
            "[nltk_data]   Package tagsets is already up-to-date!\n"
          ]
        },
        {
          "output_type": "execute_result",
          "data": {
            "text/plain": [
              "True"
            ]
          },
          "metadata": {},
          "execution_count": 59
        }
      ]
    },
    {
      "cell_type": "code",
      "source": [
        "# 줄인 말이 어떤 품사를 의미하는지 확인\n",
        "\n",
        "nltk.help.upenn_tagset('CC')"
      ],
      "metadata": {
        "colab": {
          "base_uri": "https://localhost:8080/"
        },
        "id": "LlTg4vpdOpL8",
        "outputId": "7e763a30-29ed-4a0b-8fb5-6728ad07ffbc"
      },
      "execution_count": null,
      "outputs": [
        {
          "output_type": "stream",
          "name": "stdout",
          "text": [
            "CC: conjunction, coordinating\n",
            "    & 'n and both but either et for less minus neither nor or plus so\n",
            "    therefore times v. versus vs. whether yet\n"
          ]
        }
      ]
    },
    {
      "cell_type": "code",
      "source": [
        "# 내가 뽑고 싶은 품사만 tagging 하기\n",
        "\n",
        "my_tag_set = ['NN', 'VB', 'JJ']\n",
        "\n",
        "my_words = [word for word, tag in nltk.pos_tag(tokens) if tag in my_tag_set]\n",
        "\n",
        "print(my_words)\n"
      ],
      "metadata": {
        "colab": {
          "base_uri": "https://localhost:8080/"
        },
        "id": "wn5QCqoJOX4d",
        "outputId": "a1b0ea6a-bb52-44cf-87a8-c7e599863817"
      },
      "execution_count": null,
      "outputs": [
        {
          "output_type": "stream",
          "name": "stdout",
          "text": [
            "['everyone', 'good', 'see', 'Let', 'start', 'text', 'mining', 'class']\n"
          ]
        }
      ]
    },
    {
      "cell_type": "code",
      "source": [
        "words_with_tag = ['/'.join(item) for item in nltk.pos_tag(tokens)]    # join 함수는 매개변수로 들어온 리스트에 있는 요소 하나하나를 합쳐서 하나의 문자열로 바꾸어 반환하는 함수\n",
        "\n",
        "for item in nltk.pos_tag(tokens):\n",
        "  print(item)\n",
        "\n",
        "print(words_with_tag)"
      ],
      "metadata": {
        "colab": {
          "base_uri": "https://localhost:8080/"
        },
        "id": "sPEvvFk6PUGy",
        "outputId": "eb6c040f-e2dc-4f8b-f074-7935763a65b3"
      },
      "execution_count": null,
      "outputs": [
        {
          "output_type": "stream",
          "name": "stdout",
          "text": [
            "('Hello', 'NNP')\n",
            "('everyone', 'NN')\n",
            "('.', '.')\n",
            "('It', 'PRP')\n",
            "(\"'s\", 'VBZ')\n",
            "('good', 'JJ')\n",
            "('to', 'TO')\n",
            "('see', 'VB')\n",
            "('you', 'PRP')\n",
            "('.', '.')\n",
            "('Let', 'VB')\n",
            "(\"'s\", 'POS')\n",
            "('start', 'VB')\n",
            "('our', 'PRP$')\n",
            "('text', 'NN')\n",
            "('mining', 'NN')\n",
            "('class', 'NN')\n",
            "('!', '.')\n",
            "['Hello/NNP', 'everyone/NN', './.', 'It/PRP', \"'s/VBZ\", 'good/JJ', 'to/TO', 'see/VB', 'you/PRP', './.', 'Let/VB', \"'s/POS\", 'start/VB', 'our/PRP$', 'text/NN', 'mining/NN', 'class/NN', '!/.']\n"
          ]
        }
      ]
    },
    {
      "cell_type": "markdown",
      "source": [
        "## 3.3 한글 형태소 분석과 품사 태깅"
      ],
      "metadata": {
        "id": "a7JjVaoVQvYo"
      }
    },
    {
      "cell_type": "code",
      "source": [
        "sentence = '''절망의 반대가 희망은 아니다.\n",
        "어두운 밤하늘에 별이 빛나듯\n",
        "희망은 절망 속에 싹트는 거지\n",
        "만약에 우리가 희망함이 적다면\n",
        "그 누가 세상을 비출어줄까.\n",
        "정희성, 희망 공부'''"
      ],
      "metadata": {
        "id": "1EoVwuDWP5q0"
      },
      "execution_count": null,
      "outputs": []
    },
    {
      "cell_type": "code",
      "source": [
        "tokens = word_tokenize(sentence)\n",
        "print(tokens)\n",
        "\n",
        "print(nltk.pos_tag(tokens)) # 한글소 품사 태깅은 nltk로 잘 안됨"
      ],
      "metadata": {
        "colab": {
          "base_uri": "https://localhost:8080/"
        },
        "id": "failA2nJQ1Wf",
        "outputId": "04b93da2-6f59-4b57-a2fa-e95ef07174e0"
      },
      "execution_count": null,
      "outputs": [
        {
          "output_type": "stream",
          "name": "stdout",
          "text": [
            "['절망의', '반대가', '희망은', '아니다', '.', '어두운', '밤하늘에', '별이', '빛나듯', '희망은', '절망', '속에', '싹트는', '거지', '만약에', '우리가', '희망함이', '적다면', '그', '누가', '세상을', '비출어줄까', '.', '정희성', ',', '희망', '공부']\n",
            "[('절망의', 'JJ'), ('반대가', 'NNP'), ('희망은', 'NNP'), ('아니다', 'NNP'), ('.', '.'), ('어두운', 'VB'), ('밤하늘에', 'JJ'), ('별이', 'NNP'), ('빛나듯', 'NNP'), ('희망은', 'NNP'), ('절망', 'NNP'), ('속에', 'NNP'), ('싹트는', 'NNP'), ('거지', 'NNP'), ('만약에', 'NNP'), ('우리가', 'NNP'), ('희망함이', 'NNP'), ('적다면', 'NNP'), ('그', 'NNP'), ('누가', 'NNP'), ('세상을', 'NNP'), ('비출어줄까', 'NNP'), ('.', '.'), ('정희성', 'NN'), (',', ','), ('희망', 'NNP'), ('공부', 'NNP')]\n"
          ]
        }
      ]
    },
    {
      "cell_type": "markdown",
      "source": [
        "## KoNLPy 설치\n",
        "\n",
        "https://konlpy.org/ko/latest/install/"
      ],
      "metadata": {
        "id": "0uJXRkBvRINk"
      }
    },
    {
      "cell_type": "code",
      "source": [
        "pip install konlpy"
      ],
      "metadata": {
        "colab": {
          "base_uri": "https://localhost:8080/"
        },
        "id": "VGXWDTmPQ7xf",
        "outputId": "7ac37a98-b416-4a10-cd87-0cfa6f217254"
      },
      "execution_count": null,
      "outputs": [
        {
          "output_type": "stream",
          "name": "stdout",
          "text": [
            "Looking in indexes: https://pypi.org/simple, https://us-python.pkg.dev/colab-wheels/public/simple/\n",
            "Collecting konlpy\n",
            "  Downloading konlpy-0.6.0-py2.py3-none-any.whl (19.4 MB)\n",
            "\u001b[K     |████████████████████████████████| 19.4 MB 1.2 MB/s \n",
            "\u001b[?25hRequirement already satisfied: numpy>=1.6 in /usr/local/lib/python3.7/dist-packages (from konlpy) (1.21.6)\n",
            "Collecting JPype1>=0.7.0\n",
            "  Downloading JPype1-1.4.0-cp37-cp37m-manylinux_2_5_x86_64.manylinux1_x86_64.whl (453 kB)\n",
            "\u001b[K     |████████████████████████████████| 453 kB 66.4 MB/s \n",
            "\u001b[?25hRequirement already satisfied: lxml>=4.1.0 in /usr/local/lib/python3.7/dist-packages (from konlpy) (4.9.1)\n",
            "Requirement already satisfied: typing-extensions in /usr/local/lib/python3.7/dist-packages (from JPype1>=0.7.0->konlpy) (4.1.1)\n",
            "Installing collected packages: JPype1, konlpy\n",
            "Successfully installed JPype1-1.4.0 konlpy-0.6.0\n"
          ]
        }
      ]
    },
    {
      "cell_type": "code",
      "source": [
        "from konlpy.tag import Okt\n",
        "t = Okt()"
      ],
      "metadata": {
        "id": "h00wzkSdR-VR"
      },
      "execution_count": null,
      "outputs": []
    },
    {
      "cell_type": "code",
      "source": [
        "print('형태소: ', t.morphs(sentence))\n",
        "print()\n",
        "\n",
        "print('명사: ', t.nouns(sentence))\n",
        "print()\n",
        "\n",
        "print('품사 태깅 결과: ', t.pos(sentence))\n",
        "print()\n"
      ],
      "metadata": {
        "colab": {
          "base_uri": "https://localhost:8080/"
        },
        "id": "wStZLTsPSiXW",
        "outputId": "0cc69798-0cc5-40ce-8919-3aed896c655d"
      },
      "execution_count": null,
      "outputs": [
        {
          "output_type": "stream",
          "name": "stdout",
          "text": [
            "형태소:  ['절망', '의', '반대', '가', '희망', '은', '아니다', '.', '\\n', '어', '두운', '밤하늘', '에', '별', '이', '빛나듯', '\\n', '희망', '은', '절망', '속', '에', '싹트는', '거지', '\\n', '만약', '에', '우리', '가', '희망', '함', '이', '적다면', '\\n', '그', '누가', '세상', '을', '비출어줄까', '.', '\\n', '정희성', ',', '희망', '공부']\n",
            "\n",
            "명사:  ['절망', '반대', '희망', '어', '두운', '밤하늘', '별', '희망', '절망', '속', '거지', '만약', '우리', '희망', '함', '그', '누가', '세상', '정희성', '희망', '공부']\n",
            "\n",
            "품사 태깅 결과:  [('절망', 'Noun'), ('의', 'Josa'), ('반대', 'Noun'), ('가', 'Josa'), ('희망', 'Noun'), ('은', 'Josa'), ('아니다', 'Adjective'), ('.', 'Punctuation'), ('\\n', 'Foreign'), ('어', 'Noun'), ('두운', 'Noun'), ('밤하늘', 'Noun'), ('에', 'Josa'), ('별', 'Noun'), ('이', 'Josa'), ('빛나듯', 'Verb'), ('\\n', 'Foreign'), ('희망', 'Noun'), ('은', 'Josa'), ('절망', 'Noun'), ('속', 'Noun'), ('에', 'Josa'), ('싹트는', 'Verb'), ('거지', 'Noun'), ('\\n', 'Foreign'), ('만약', 'Noun'), ('에', 'Josa'), ('우리', 'Noun'), ('가', 'Josa'), ('희망', 'Noun'), ('함', 'Noun'), ('이', 'Josa'), ('적다면', 'Verb'), ('\\n', 'Foreign'), ('그', 'Noun'), ('누가', 'Noun'), ('세상', 'Noun'), ('을', 'Josa'), ('비출어줄까', 'Verb'), ('.', 'Punctuation'), ('\\n', 'Foreign'), ('정희성', 'Noun'), (',', 'Punctuation'), ('희망', 'Noun'), ('공부', 'Noun')]\n",
            "\n"
          ]
        }
      ]
    },
    {
      "cell_type": "code",
      "source": [],
      "metadata": {
        "id": "Kljsy82kS7Mm"
      },
      "execution_count": null,
      "outputs": []
    }
  ]
}