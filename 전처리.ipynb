{
  "nbformat": 4,
  "nbformat_minor": 0,
  "metadata": {
    "colab": {
      "provenance": [],
      "collapsed_sections": [],
      "authorship_tag": "ABX9TyNSERdG7b5XbrHOZYixCUqf",
      "include_colab_link": true
    },
    "kernelspec": {
      "name": "python3",
      "display_name": "Python 3"
    },
    "language_info": {
      "name": "python"
    }
  },
  "cells": [
    {
      "cell_type": "markdown",
      "metadata": {
        "id": "view-in-github",
        "colab_type": "text"
      },
      "source": [
        "<a href=\"https://colab.research.google.com/github/kmalicekim/NLP_practice_mine/blob/master/%EC%A0%84%EC%B2%98%EB%A6%AC.ipynb\" target=\"_parent\"><img src=\"https://colab.research.google.com/assets/colab-badge.svg\" alt=\"Open In Colab\"/></a>"
      ]
    },
    {
      "cell_type": "markdown",
      "source": [
        "# 2. 토큰화(Tokenization) \n",
        "\n",
        "NLTK (https://www.nltk.org/)설치"
      ],
      "metadata": {
        "id": "uG0A8Be_H01g"
      }
    },
    {
      "cell_type": "code",
      "execution_count": 1,
      "metadata": {
        "colab": {
          "base_uri": "https://localhost:8080/"
        },
        "id": "vtvCo_mx6OVq",
        "outputId": "905455a1-5fcf-464f-b775-7a070eb9c47a"
      },
      "outputs": [
        {
          "output_type": "stream",
          "name": "stderr",
          "text": [
            "[nltk_data] Downloading package punkt to /root/nltk_data...\n",
            "[nltk_data]   Unzipping tokenizers/punkt.zip.\n",
            "[nltk_data] Downloading package webtext to /root/nltk_data...\n",
            "[nltk_data]   Unzipping corpora/webtext.zip.\n",
            "[nltk_data] Downloading package wordnet to /root/nltk_data...\n",
            "[nltk_data] Downloading package stopwords to /root/nltk_data...\n",
            "[nltk_data]   Unzipping corpora/stopwords.zip.\n",
            "[nltk_data] Downloading package averaged_perceptron_tagger to\n",
            "[nltk_data]     /root/nltk_data...\n",
            "[nltk_data]   Unzipping taggers/averaged_perceptron_tagger.zip.\n",
            "[nltk_data] Downloading package omw-1.4 to /root/nltk_data...\n"
          ]
        },
        {
          "output_type": "execute_result",
          "data": {
            "text/plain": [
              "True"
            ]
          },
          "metadata": {},
          "execution_count": 1
        }
      ],
      "source": [
        "# 필요한 nltk library download\n",
        "\n",
        "import nltk\n",
        "nltk.download('punkt')\n",
        "nltk.download('webtext')\n",
        "nltk.download('wordnet')\n",
        "nltk.download('stopwords')\n",
        "nltk.download('averaged_perceptron_tagger')\n",
        "nltk.download('omw-1.4')"
      ]
    },
    {
      "cell_type": "markdown",
      "source": [
        "## 2.1 문장 토큰화(sentence tokenize)"
      ],
      "metadata": {
        "id": "Mu9xdTQY647N"
      }
    },
    {
      "cell_type": "code",
      "source": [
        "para = \"Hello everyone. It's good to see you. Let's start out text mining class!\""
      ],
      "metadata": {
        "id": "cqju91y361e2"
      },
      "execution_count": 2,
      "outputs": []
    },
    {
      "cell_type": "code",
      "source": [
        "from nltk.tokenize import sent_tokenize   # 주어진 text를 **sentence** 단위로 tokenize 함. 주로 .!? 등을 이용 \n",
        "print(sent_tokenize(para))"
      ],
      "metadata": {
        "colab": {
          "base_uri": "https://localhost:8080/"
        },
        "id": "n3ZxpevU7JY0",
        "outputId": "410093b9-e1a3-4ab6-b5cb-366efd2b4d7b"
      },
      "execution_count": 3,
      "outputs": [
        {
          "output_type": "stream",
          "name": "stdout",
          "text": [
            "['Hello everyone.', \"It's good to see you.\", \"Let's start out text mining class!\"]\n"
          ]
        }
      ]
    },
    {
      "cell_type": "code",
      "source": [
        "# 영어 이외의 언어 토큰화\n",
        "\n",
        "paragraph_french = \"\"\"Je t'ai demandé si tu m'aimais bien, Tu m'a répondu non. \n",
        "Je t'ai demandé si j'étais jolie, Tu m'a répondu non. \n",
        "Je t'ai demandé si j'étai dans ton coeur, Tu m'a répondu non.\"\"\"\n",
        "\n",
        "import nltk.data\n",
        "tokenizer = nltk.data.load('tokenizers/punkt/french.pickle')\n",
        "print(tokenizer.tokenize(paragraph_french))"
      ],
      "metadata": {
        "colab": {
          "base_uri": "https://localhost:8080/"
        },
        "id": "2derx5U47USF",
        "outputId": "c336f667-6bde-4adc-96a9-ae655243bfb7"
      },
      "execution_count": 4,
      "outputs": [
        {
          "output_type": "stream",
          "name": "stdout",
          "text": [
            "[\"Je t'ai demandé si tu m'aimais bien, Tu m'a répondu non.\", \"Je t'ai demandé si j'étais jolie, Tu m'a répondu non.\", \"Je t'ai demandé si j'étai dans ton coeur, Tu m'a répondu non.\"]\n"
          ]
        }
      ]
    },
    {
      "cell_type": "code",
      "source": [
        "# 한국어는 sentence tokenizer 가 잘 될까? -- 잘 됨\n",
        "\n",
        "para_kor = \"안녕하세요, 여러분. 만나서 반갑습니다. 이제 이제 텍스트마이닝 클래스를 시작해봅시다!\"\n",
        "print(sent_tokenize(para_kor))"
      ],
      "metadata": {
        "colab": {
          "base_uri": "https://localhost:8080/"
        },
        "id": "bqoiEFC08KGQ",
        "outputId": "a5d17e1a-a81f-4851-8e27-219a54c6d74b"
      },
      "execution_count": 5,
      "outputs": [
        {
          "output_type": "stream",
          "name": "stdout",
          "text": [
            "['안녕하세요, 여러분.', '만나서 반갑습니다.', '이제 이제 텍스트마이닝 클래스를 시작해봅시다!']\n"
          ]
        }
      ]
    },
    {
      "cell_type": "markdown",
      "source": [
        "## 2.2 단어 토큰화(word tokenize)"
      ],
      "metadata": {
        "id": "A04887fj9YCe"
      }
    },
    {
      "cell_type": "code",
      "source": [
        "from nltk.tokenize import word_tokenize  # 주어진 text를 **word** 단위로 tokenize함\n",
        "print(word_tokenize(para))"
      ],
      "metadata": {
        "colab": {
          "base_uri": "https://localhost:8080/"
        },
        "id": "MiFXbE4t82OM",
        "outputId": "884f80ad-86cf-4301-d5de-bf5169f85ed5"
      },
      "execution_count": 6,
      "outputs": [
        {
          "output_type": "stream",
          "name": "stdout",
          "text": [
            "['Hello', 'everyone', '.', 'It', \"'s\", 'good', 'to', 'see', 'you', '.', 'Let', \"'s\", 'start', 'out', 'text', 'mining', 'class', '!']\n"
          ]
        }
      ]
    },
    {
      "cell_type": "code",
      "source": [
        "# word_tokenize 와 WordPunctTokenizer 는 약간의 차이를 보임 (Apostrophe)\n",
        "\n",
        "from nltk.tokenize import WordPunctTokenizer\n",
        "print(WordPunctTokenizer().tokenize(para))"
      ],
      "metadata": {
        "colab": {
          "base_uri": "https://localhost:8080/"
        },
        "id": "fDDuZe9q9uvS",
        "outputId": "5b4ec4ce-a3f7-4fec-87d2-97389b4058f3"
      },
      "execution_count": 7,
      "outputs": [
        {
          "output_type": "stream",
          "name": "stdout",
          "text": [
            "['Hello', 'everyone', '.', 'It', \"'\", 's', 'good', 'to', 'see', 'you', '.', 'Let', \"'\", 's', 'start', 'out', 'text', 'mining', 'class', '!']\n"
          ]
        }
      ]
    },
    {
      "cell_type": "code",
      "source": [
        "print(word_tokenize(para_kor))"
      ],
      "metadata": {
        "colab": {
          "base_uri": "https://localhost:8080/"
        },
        "id": "R4H8_uG_98Im",
        "outputId": "7576383f-51ea-48ed-9a30-3e6011ba9336"
      },
      "execution_count": 8,
      "outputs": [
        {
          "output_type": "stream",
          "name": "stdout",
          "text": [
            "['안녕하세요', ',', '여러분', '.', '만나서', '반갑습니다', '.', '이제', '이제', '텍스트마이닝', '클래스를', '시작해봅시다', '!']\n"
          ]
        }
      ]
    },
    {
      "cell_type": "markdown",
      "source": [
        "## 2.3 정규표현식을 이용한 토큰화 "
      ],
      "metadata": {
        "id": "cWJHtZ3u-o36"
      }
    },
    {
      "cell_type": "code",
      "source": [
        "import re\n",
        "\n",
        "re.findall(\"[abce]\", \"How are you, Alice?\")"
      ],
      "metadata": {
        "colab": {
          "base_uri": "https://localhost:8080/"
        },
        "id": "0MiFxqIW-sqj",
        "outputId": "058f0e1b-58de-4a0f-89c1-92cd34db4062"
      },
      "execution_count": 9,
      "outputs": [
        {
          "output_type": "execute_result",
          "data": {
            "text/plain": [
              "['a', 'e', 'c', 'e']"
            ]
          },
          "metadata": {},
          "execution_count": 9
        }
      ]
    },
    {
      "cell_type": "code",
      "source": [
        "re.findall('[0123456789]', \"3a7b5c9d\")"
      ],
      "metadata": {
        "colab": {
          "base_uri": "https://localhost:8080/"
        },
        "id": "yD4KNdRj-8Ak",
        "outputId": "c4980f73-a127-4fc5-c3dd-34038dfaa069"
      },
      "execution_count": 10,
      "outputs": [
        {
          "output_type": "execute_result",
          "data": {
            "text/plain": [
              "['3', '7', '5', '9']"
            ]
          },
          "metadata": {},
          "execution_count": 10
        }
      ]
    },
    {
      "cell_type": "code",
      "source": [
        "re.findall(\"[\\w]\", \"3a 7b_'.^&5c9d\")"
      ],
      "metadata": {
        "colab": {
          "base_uri": "https://localhost:8080/"
        },
        "id": "mOlhqu4D-1L0",
        "outputId": "09c8db4d-ad37-4599-b5c6-2ef47ccb8cd3"
      },
      "execution_count": 11,
      "outputs": [
        {
          "output_type": "execute_result",
          "data": {
            "text/plain": [
              "['3', 'a', '7', 'b', '_', '5', 'c', '9', 'd']"
            ]
          },
          "metadata": {},
          "execution_count": 11
        }
      ]
    },
    {
      "cell_type": "code",
      "source": [
        "re.findall(\"[_]+\", \"a_b, c__d, e___f\")"
      ],
      "metadata": {
        "colab": {
          "base_uri": "https://localhost:8080/"
        },
        "id": "nN-7jM1y-i_x",
        "outputId": "f86d86bf-7c19-4241-d2ef-ff89b675af80"
      },
      "execution_count": 12,
      "outputs": [
        {
          "output_type": "execute_result",
          "data": {
            "text/plain": [
              "['_', '__', '___']"
            ]
          },
          "metadata": {},
          "execution_count": 12
        }
      ]
    },
    {
      "cell_type": "code",
      "source": [
        "re.findall(\"[_]\", \"a_b, c__d, e___f\")"
      ],
      "metadata": {
        "colab": {
          "base_uri": "https://localhost:8080/"
        },
        "id": "cWfOIRSKAPCq",
        "outputId": "0da3694a-374d-44fb-c6a8-f8738a887e18"
      },
      "execution_count": 13,
      "outputs": [
        {
          "output_type": "execute_result",
          "data": {
            "text/plain": [
              "['_', '_', '_', '_', '_', '_']"
            ]
          },
          "metadata": {},
          "execution_count": 13
        }
      ]
    },
    {
      "cell_type": "code",
      "source": [
        "re.findall(\"[\\w]+\", \"How are you, Alice?\")"
      ],
      "metadata": {
        "colab": {
          "base_uri": "https://localhost:8080/"
        },
        "id": "D70HTeuiAGIJ",
        "outputId": "2bdbf47a-cee1-4dbd-f6d3-259aed857831"
      },
      "execution_count": 14,
      "outputs": [
        {
          "output_type": "execute_result",
          "data": {
            "text/plain": [
              "['How', 'are', 'you', 'Alice']"
            ]
          },
          "metadata": {},
          "execution_count": 14
        }
      ]
    },
    {
      "cell_type": "code",
      "source": [
        "re.findall(\"[\\w,]+\", \"How are you, Alice?\")"
      ],
      "metadata": {
        "colab": {
          "base_uri": "https://localhost:8080/"
        },
        "id": "TIq_lwHbAcf1",
        "outputId": "fc914401-aecb-47ef-c2bb-b7818ae4b4ef"
      },
      "execution_count": 15,
      "outputs": [
        {
          "output_type": "execute_result",
          "data": {
            "text/plain": [
              "['How', 'are', 'you,', 'Alice']"
            ]
          },
          "metadata": {},
          "execution_count": 15
        }
      ]
    },
    {
      "cell_type": "code",
      "source": [
        "re.findall(\"[\\w,?]+\", \"How are you, Alice?\")"
      ],
      "metadata": {
        "colab": {
          "base_uri": "https://localhost:8080/"
        },
        "id": "cGWdbTECAftt",
        "outputId": "d151f41b-bdda-49f0-b813-0c092bbc97cf"
      },
      "execution_count": 16,
      "outputs": [
        {
          "output_type": "execute_result",
          "data": {
            "text/plain": [
              "['How', 'are', 'you,', 'Alice?']"
            ]
          },
          "metadata": {},
          "execution_count": 16
        }
      ]
    },
    {
      "cell_type": "code",
      "source": [
        "# 찾고싶은 단어의 개수를 제한에서 보여줄 때\n",
        "\n",
        "re.findall(\"[o]{2,4}\", \"oh, hoow are yoooou, booooooy?\")"
      ],
      "metadata": {
        "colab": {
          "base_uri": "https://localhost:8080/"
        },
        "id": "c6WLUiraAi8Y",
        "outputId": "716e9194-c2fb-4384-fcc9-15db590dc8fd"
      },
      "execution_count": 17,
      "outputs": [
        {
          "output_type": "execute_result",
          "data": {
            "text/plain": [
              "['oo', 'oooo', 'oooo', 'oo']"
            ]
          },
          "metadata": {},
          "execution_count": 17
        }
      ]
    },
    {
      "cell_type": "code",
      "source": [
        "# 정규식(regular expression)을 이용한 tokenizer ## 중요중요\n",
        "\n",
        "from nltk.tokenize import RegexpTokenizer\n",
        "tokenizer = RegexpTokenizer(\"[\\w']+\")\n",
        "\n",
        "print(tokenizer.tokenize(\"Sorry, I can't go there.\"))"
      ],
      "metadata": {
        "colab": {
          "base_uri": "https://localhost:8080/"
        },
        "id": "JZHCddwKAxlp",
        "outputId": "2eb451a7-35c4-4af5-f83c-07493da1c65d"
      },
      "execution_count": 18,
      "outputs": [
        {
          "output_type": "stream",
          "name": "stdout",
          "text": [
            "['Sorry', 'I', \"can't\", 'go', 'there']\n"
          ]
        }
      ]
    },
    {
      "cell_type": "code",
      "source": [
        "text1 = \"Sorry, I can't go there.\"\n",
        "tokenizer = RegexpTokenizer(\"[\\w']{3,}\")\n",
        "print(tokenizer.tokenize(text1.lower()))"
      ],
      "metadata": {
        "colab": {
          "base_uri": "https://localhost:8080/"
        },
        "id": "2-J_cchwBX7t",
        "outputId": "c9f7407f-36fe-416e-f374-6524c3fe6521"
      },
      "execution_count": 19,
      "outputs": [
        {
          "output_type": "stream",
          "name": "stdout",
          "text": [
            "['sorry', \"can't\", 'there']\n"
          ]
        }
      ]
    },
    {
      "cell_type": "markdown",
      "source": [
        "## 2.4 노이즈와 불용어 제거"
      ],
      "metadata": {
        "id": "EpaIFUOHCIrE"
      }
    },
    {
      "cell_type": "code",
      "source": [
        "# 일반적으로 분석 대상이 아닌 단어들 : stopwords 에 있음\n",
        "\n",
        "from nltk.corpus import stopwords \n",
        "\n",
        "english_stops = set(stopwords.words(\"english\"))  # 반복이 되지 않도록 set으로 변환\n",
        "\n",
        "text1 = \"Sorry, I couldn't go to movie yesterday.\"\n",
        "\n",
        "tokenizer = RegexpTokenizer(\"[\\w']+\")\n",
        "tokens = tokenizer.tokenize(text1.lower()) # word_tokenize로 토큰화\n",
        "\n",
        "result = [word for word in tokens if word not in english_stops] # stopwords를 제외한 단어들만으로 list를 생성\n",
        "print(result)\n"
      ],
      "metadata": {
        "colab": {
          "base_uri": "https://localhost:8080/"
        },
        "id": "BGdFs80iBps1",
        "outputId": "6951d78b-7ffa-46ce-c34e-1653614a3662"
      },
      "execution_count": 20,
      "outputs": [
        {
          "output_type": "stream",
          "name": "stdout",
          "text": [
            "['sorry', 'go', 'movie', 'yesterday']\n"
          ]
        }
      ]
    },
    {
      "cell_type": "code",
      "source": [
        "# nltk가 제공하는 영어 stopwords\n",
        "\n",
        "# print(english_stops)\n",
        "print(set(stopwords.words(\"english\")))"
      ],
      "metadata": {
        "colab": {
          "base_uri": "https://localhost:8080/"
        },
        "id": "nqSsGrlxDGZV",
        "outputId": "2b12d0fa-0a80-4e53-c29e-dd702f2f8a83"
      },
      "execution_count": 21,
      "outputs": [
        {
          "output_type": "stream",
          "name": "stdout",
          "text": [
            "{'weren', 'do', 'should', 'aren', \"needn't\", 'mustn', 'i', 'but', 'through', \"didn't\", 'this', 'him', 'my', 'ain', 'couldn', \"wasn't\", 'are', 'if', 'again', \"you'd\", 'hasn', 'no', 'them', 'over', 'why', 'she', \"mustn't\", 'o', 'that', 'very', 'did', 'where', \"haven't\", 'both', 'what', 'ourselves', \"shan't\", 'yours', \"weren't\", 'her', 'been', 's', 'below', 'don', 'does', 'will', 'how', 'above', \"she's\", 'himself', 'myself', 'whom', 'not', 'themselves', \"wouldn't\", 'before', 've', 're', 'having', \"that'll\", 'into', 'once', 'was', 'by', 'they', 'against', 'with', 'doesn', 'y', 'hers', 'all', \"should've\", 'ours', \"you're\", 'same', 'on', \"couldn't\", 'or', 'of', 'so', 't', \"you've\", 'am', 'there', 'other', 'too', \"don't\", \"shouldn't\", 'during', 'out', 'here', 'some', 'as', 'shan', 'wasn', 'his', 'our', 'down', 'herself', 'any', 'll', 'own', 'an', 'because', 'has', 'those', 'than', 'now', 'wouldn', 'it', 'such', 'itself', \"you'll\", 'then', 'until', 'under', 'only', 'your', 'off', 'about', 'being', 'can', 'had', \"mightn't\", 'needn', 'and', \"hasn't\", 'at', 'hadn', 'up', \"doesn't\", 'you', 'he', 'who', 'mightn', 'theirs', 'just', 'm', 'be', 'is', 'its', 'which', 'have', 'their', 'between', 'after', 'each', \"hadn't\", 'haven', 'these', 'in', \"won't\", 'yourselves', \"it's\", 'shouldn', 'yourself', 'the', 'ma', 'to', 'a', 'from', 'while', 'won', 'when', 'further', 'didn', 'me', 'nor', \"aren't\", 'for', 'more', 'few', 'were', 'most', 'd', 'we', 'doing', \"isn't\", 'isn'}\n"
          ]
        }
      ]
    },
    {
      "cell_type": "markdown",
      "source": [
        "--- "
      ],
      "metadata": {
        "id": "jnhOptX3HQTp"
      }
    },
    {
      "cell_type": "markdown",
      "source": [
        "# 2. 정규화(Normalization)\n",
        "\n",
        "## 2.1 어간 추출(Stemming)"
      ],
      "metadata": {
        "id": "CA_LAWnOHSYX"
      }
    },
    {
      "cell_type": "code",
      "source": [
        "# 어간이란? : 활용 시 변하지 않는 부분 (ex. 찾- / 어미: 변하는 부분)\n",
        "\n",
        "from nltk.stem import PorterStemmer \n",
        "\n",
        "stemmer = PorterStemmer()\n",
        "\n",
        "print(stemmer.stem('cooking'), stemmer.stem('cookery'), stemmer.stem('cookbooks'))\n"
      ],
      "metadata": {
        "colab": {
          "base_uri": "https://localhost:8080/"
        },
        "id": "4UYy1EJuDLku",
        "outputId": "4f980281-be9e-4027-9b60-dacf0adb264c"
      },
      "execution_count": 22,
      "outputs": [
        {
          "output_type": "stream",
          "name": "stdout",
          "text": [
            "cook cookeri cookbook\n"
          ]
        }
      ]
    },
    {
      "cell_type": "code",
      "source": [
        "from nltk.tokenize import word_tokenize \n",
        "\n",
        "para = \"Hello everyone. It's good to see you. Let's start our text mining class!\"\n",
        "tokens = word_tokenize(para)\n",
        "print(\"word_tokenize를 사용하여 나옴:\", tokens)  # list 형태로 나옴\n",
        "\n",
        "result = [stemmer.stem(token) for token in tokens]\n",
        "print(\"어간을 구했을 때:\",result)\n",
        "\n"
      ],
      "metadata": {
        "colab": {
          "base_uri": "https://localhost:8080/"
        },
        "id": "emORTUBoIuxv",
        "outputId": "64fcc8a0-fa91-4d97-94eb-40dcb62241d0"
      },
      "execution_count": 23,
      "outputs": [
        {
          "output_type": "stream",
          "name": "stdout",
          "text": [
            "word_tokenize를 사용하여 나옴: ['Hello', 'everyone', '.', 'It', \"'s\", 'good', 'to', 'see', 'you', '.', 'Let', \"'s\", 'start', 'our', 'text', 'mining', 'class', '!']\n",
            "어간을 구했을 때: ['hello', 'everyon', '.', 'it', \"'s\", 'good', 'to', 'see', 'you', '.', 'let', \"'s\", 'start', 'our', 'text', 'mine', 'class', '!']\n"
          ]
        }
      ]
    },
    {
      "cell_type": "markdown",
      "source": [
        "## 2.2 표제어 추출(Lemmatization)"
      ],
      "metadata": {
        "id": "NuJk3mKeJ5vd"
      }
    },
    {
      "cell_type": "code",
      "source": [
        "# 표제어란? : 사전에 실어 알기쉽게 풀이해 놓은 말\n",
        "# ex) am, are, is는 서로 다른 스펠링이지만 그 뿌리 단어는 be라고 볼 수 있음. 이때, 이 단어들의 표제어는 be \n",
        "\n",
        "from nltk.stem import WordNetLemmatizer\n",
        "\n",
        "lemmatizer = WordNetLemmatizer()\n",
        "\n",
        "print(lemmatizer.lemmatize(\"cooking\"))\n",
        "print(lemmatizer.lemmatize(\"cookery\"))\n",
        "print(lemmatizer.lemmatize(\"cooker\"))\n",
        "print(lemmatizer.lemmatize(\"cookbooks\"))\n",
        "print(lemmatizer.lemmatize(\"cooking\", pos='v'))  # 품사 지정"
      ],
      "metadata": {
        "colab": {
          "base_uri": "https://localhost:8080/"
        },
        "id": "I0fuMBtOJItj",
        "outputId": "fa898538-439d-47bd-e710-da563d54edb4"
      },
      "execution_count": 24,
      "outputs": [
        {
          "output_type": "stream",
          "name": "stdout",
          "text": [
            "cooking\n",
            "cookery\n",
            "cooker\n",
            "cookbook\n",
            "cook\n"
          ]
        }
      ]
    },
    {
      "cell_type": "markdown",
      "source": [
        "## ** - 어간 추출: 품사 정보가 보존되지 않음**\n",
        "## ** - 표제어 추출: 문맥을 고려하며 수행했을 때의 결과는 해당 단어의 품사 정보를 보존함**\n",
        "## *** 더 정확히는 어간 추출을 한 결과는 사전에 존재하지 않는 단어일 경우가 많다 ***"
      ],
      "metadata": {
        "id": "MpV4NoNoMJcg"
      }
    },
    {
      "cell_type": "code",
      "source": [
        "# comparision of lemmatizing & stemming\n",
        "\n",
        "from nltk.stem import PorterStemmer \n",
        "\n",
        "stemmer = PorterStemmer()\n",
        "\n",
        "print('stemming result: ', stemmer.stem('believes'))\n",
        "print('lemmatizing result: ', lemmatizer.lemmatize('believes'))\n",
        "print('lemmatizing result: ', lemmatizer.lemmatize('believes', pos='v'))"
      ],
      "metadata": {
        "colab": {
          "base_uri": "https://localhost:8080/"
        },
        "id": "o5ed3gnPKVZm",
        "outputId": "20fe9886-75f1-47ae-e728-8ca7927fed8b"
      },
      "execution_count": 25,
      "outputs": [
        {
          "output_type": "stream",
          "name": "stdout",
          "text": [
            "stemming result:  believ\n",
            "lemmatizing result:  belief\n",
            "lemmatizing result:  believe\n"
          ]
        }
      ]
    },
    {
      "cell_type": "markdown",
      "source": [
        "# 3. 품사 태깅(Part-of-Speech Tagging)\n",
        "\n",
        "## 3.1 품사의 이해\n",
        "\n",
        "## 3.2 NLTK를 이용한 품사 태깅"
      ],
      "metadata": {
        "id": "gU2QvOyrNcWz"
      }
    },
    {
      "cell_type": "code",
      "source": [
        "import nltk\n",
        "from nltk.tokenize import word_tokenize\n",
        "\n",
        "tokens = word_tokenize(\"Hello everyone. It's good to see you. Let's start our text mining class!\")\n",
        "print(tokens)\n",
        "\n",
        "print(nltk.pos_tag(tokens))"
      ],
      "metadata": {
        "colab": {
          "base_uri": "https://localhost:8080/"
        },
        "id": "BmD3aPCANO-h",
        "outputId": "cfba2c77-0f3a-4bcf-89d0-55472bd57cb0"
      },
      "execution_count": 26,
      "outputs": [
        {
          "output_type": "stream",
          "name": "stdout",
          "text": [
            "['Hello', 'everyone', '.', 'It', \"'s\", 'good', 'to', 'see', 'you', '.', 'Let', \"'s\", 'start', 'our', 'text', 'mining', 'class', '!']\n",
            "[('Hello', 'NNP'), ('everyone', 'NN'), ('.', '.'), ('It', 'PRP'), (\"'s\", 'VBZ'), ('good', 'JJ'), ('to', 'TO'), ('see', 'VB'), ('you', 'PRP'), ('.', '.'), ('Let', 'VB'), (\"'s\", 'POS'), ('start', 'VB'), ('our', 'PRP$'), ('text', 'NN'), ('mining', 'NN'), ('class', 'NN'), ('!', '.')]\n"
          ]
        }
      ]
    },
    {
      "cell_type": "code",
      "source": [
        "import nltk\n",
        "nltk.download('tagsets')"
      ],
      "metadata": {
        "colab": {
          "base_uri": "https://localhost:8080/"
        },
        "id": "GYb-mkkAN_k4",
        "outputId": "3a0d6bbc-53cf-4e25-c2f4-5e711fa87603"
      },
      "execution_count": 27,
      "outputs": [
        {
          "output_type": "stream",
          "name": "stderr",
          "text": [
            "[nltk_data] Downloading package tagsets to /root/nltk_data...\n",
            "[nltk_data]   Unzipping help/tagsets.zip.\n"
          ]
        },
        {
          "output_type": "execute_result",
          "data": {
            "text/plain": [
              "True"
            ]
          },
          "metadata": {},
          "execution_count": 27
        }
      ]
    },
    {
      "cell_type": "code",
      "source": [
        "# 줄인 말이 어떤 품사를 의미하는지 확인\n",
        "\n",
        "nltk.help.upenn_tagset('CC')"
      ],
      "metadata": {
        "colab": {
          "base_uri": "https://localhost:8080/"
        },
        "id": "LlTg4vpdOpL8",
        "outputId": "72fc4678-2946-43ee-bd0d-398d1b33cb23"
      },
      "execution_count": 28,
      "outputs": [
        {
          "output_type": "stream",
          "name": "stdout",
          "text": [
            "CC: conjunction, coordinating\n",
            "    & 'n and both but either et for less minus neither nor or plus so\n",
            "    therefore times v. versus vs. whether yet\n"
          ]
        }
      ]
    },
    {
      "cell_type": "code",
      "source": [
        "# 내가 뽑고 싶은 품사만 tagging 하기\n",
        "\n",
        "my_tag_set = ['NN', 'VB', 'JJ']\n",
        "\n",
        "my_words = [word for word, tag in nltk.pos_tag(tokens) if tag in my_tag_set]\n",
        "\n",
        "print(my_words)\n"
      ],
      "metadata": {
        "colab": {
          "base_uri": "https://localhost:8080/"
        },
        "id": "wn5QCqoJOX4d",
        "outputId": "e3e3444c-97da-43c5-d2c6-f3a7bec2b40f"
      },
      "execution_count": 29,
      "outputs": [
        {
          "output_type": "stream",
          "name": "stdout",
          "text": [
            "['everyone', 'good', 'see', 'Let', 'start', 'text', 'mining', 'class']\n"
          ]
        }
      ]
    },
    {
      "cell_type": "code",
      "source": [
        "words_with_tag = ['/'.join(item) for item in nltk.pos_tag(tokens)]    # join 함수는 매개변수로 들어온 리스트에 있는 요소 하나하나를 합쳐서 하나의 문자열로 바꾸어 반환하는 함수\n",
        "\n",
        "for item in nltk.pos_tag(tokens):\n",
        "  print(item)\n",
        "\n",
        "print(words_with_tag)"
      ],
      "metadata": {
        "colab": {
          "base_uri": "https://localhost:8080/"
        },
        "id": "sPEvvFk6PUGy",
        "outputId": "daa9e1e6-21b9-4dd3-a030-d8a22a1f4d69"
      },
      "execution_count": 30,
      "outputs": [
        {
          "output_type": "stream",
          "name": "stdout",
          "text": [
            "('Hello', 'NNP')\n",
            "('everyone', 'NN')\n",
            "('.', '.')\n",
            "('It', 'PRP')\n",
            "(\"'s\", 'VBZ')\n",
            "('good', 'JJ')\n",
            "('to', 'TO')\n",
            "('see', 'VB')\n",
            "('you', 'PRP')\n",
            "('.', '.')\n",
            "('Let', 'VB')\n",
            "(\"'s\", 'POS')\n",
            "('start', 'VB')\n",
            "('our', 'PRP$')\n",
            "('text', 'NN')\n",
            "('mining', 'NN')\n",
            "('class', 'NN')\n",
            "('!', '.')\n",
            "['Hello/NNP', 'everyone/NN', './.', 'It/PRP', \"'s/VBZ\", 'good/JJ', 'to/TO', 'see/VB', 'you/PRP', './.', 'Let/VB', \"'s/POS\", 'start/VB', 'our/PRP$', 'text/NN', 'mining/NN', 'class/NN', '!/.']\n"
          ]
        }
      ]
    },
    {
      "cell_type": "markdown",
      "source": [
        "## 3.3 한글 형태소 분석과 품사 태깅"
      ],
      "metadata": {
        "id": "a7JjVaoVQvYo"
      }
    },
    {
      "cell_type": "code",
      "source": [
        "sentence = '''절망의 반대가 희망은 아니다.\n",
        "어두운 밤하늘에 별이 빛나듯\n",
        "희망은 절망 속에 싹트는 거지\n",
        "만약에 우리가 희망함이 적다면\n",
        "그 누가 세상을 비출어줄까.\n",
        "정희성, 희망 공부'''"
      ],
      "metadata": {
        "id": "1EoVwuDWP5q0"
      },
      "execution_count": 31,
      "outputs": []
    },
    {
      "cell_type": "code",
      "source": [
        "tokens = word_tokenize(sentence)\n",
        "print(tokens)\n",
        "\n",
        "print(nltk.pos_tag(tokens)) # 한글소 품사 태깅은 nltk로 잘 안됨"
      ],
      "metadata": {
        "colab": {
          "base_uri": "https://localhost:8080/"
        },
        "id": "failA2nJQ1Wf",
        "outputId": "9273ec07-285d-4a9a-9a0e-6505cde794ba"
      },
      "execution_count": 32,
      "outputs": [
        {
          "output_type": "stream",
          "name": "stdout",
          "text": [
            "['절망의', '반대가', '희망은', '아니다', '.', '어두운', '밤하늘에', '별이', '빛나듯', '희망은', '절망', '속에', '싹트는', '거지', '만약에', '우리가', '희망함이', '적다면', '그', '누가', '세상을', '비출어줄까', '.', '정희성', ',', '희망', '공부']\n",
            "[('절망의', 'JJ'), ('반대가', 'NNP'), ('희망은', 'NNP'), ('아니다', 'NNP'), ('.', '.'), ('어두운', 'VB'), ('밤하늘에', 'JJ'), ('별이', 'NNP'), ('빛나듯', 'NNP'), ('희망은', 'NNP'), ('절망', 'NNP'), ('속에', 'NNP'), ('싹트는', 'NNP'), ('거지', 'NNP'), ('만약에', 'NNP'), ('우리가', 'NNP'), ('희망함이', 'NNP'), ('적다면', 'NNP'), ('그', 'NNP'), ('누가', 'NNP'), ('세상을', 'NNP'), ('비출어줄까', 'NNP'), ('.', '.'), ('정희성', 'NN'), (',', ','), ('희망', 'NNP'), ('공부', 'NNP')]\n"
          ]
        }
      ]
    },
    {
      "cell_type": "markdown",
      "source": [
        "## KoNLPy 설치\n",
        "\n",
        "https://konlpy.org/ko/latest/install/"
      ],
      "metadata": {
        "id": "0uJXRkBvRINk"
      }
    },
    {
      "cell_type": "code",
      "source": [
        "pip install konlpy"
      ],
      "metadata": {
        "colab": {
          "base_uri": "https://localhost:8080/"
        },
        "id": "VGXWDTmPQ7xf",
        "outputId": "a7758bc5-f259-4a14-c73f-d1052450b1cc"
      },
      "execution_count": 33,
      "outputs": [
        {
          "output_type": "stream",
          "name": "stdout",
          "text": [
            "Looking in indexes: https://pypi.org/simple, https://us-python.pkg.dev/colab-wheels/public/simple/\n",
            "Collecting konlpy\n",
            "  Downloading konlpy-0.6.0-py2.py3-none-any.whl (19.4 MB)\n",
            "\u001b[K     |████████████████████████████████| 19.4 MB 1.8 MB/s \n",
            "\u001b[?25hRequirement already satisfied: lxml>=4.1.0 in /usr/local/lib/python3.7/dist-packages (from konlpy) (4.9.1)\n",
            "Collecting JPype1>=0.7.0\n",
            "  Downloading JPype1-1.4.0-cp37-cp37m-manylinux_2_5_x86_64.manylinux1_x86_64.whl (453 kB)\n",
            "\u001b[K     |████████████████████████████████| 453 kB 24.6 MB/s \n",
            "\u001b[?25hRequirement already satisfied: numpy>=1.6 in /usr/local/lib/python3.7/dist-packages (from konlpy) (1.21.6)\n",
            "Requirement already satisfied: typing-extensions in /usr/local/lib/python3.7/dist-packages (from JPype1>=0.7.0->konlpy) (4.1.1)\n",
            "Installing collected packages: JPype1, konlpy\n",
            "Successfully installed JPype1-1.4.0 konlpy-0.6.0\n"
          ]
        }
      ]
    },
    {
      "cell_type": "code",
      "source": [
        "from konlpy.tag import Okt\n",
        "t = Okt()"
      ],
      "metadata": {
        "id": "h00wzkSdR-VR"
      },
      "execution_count": 34,
      "outputs": []
    },
    {
      "cell_type": "code",
      "source": [
        "print('형태소: ', t.morphs(sentence))\n",
        "print()\n",
        "\n",
        "print('명사: ', t.nouns(sentence))\n",
        "print()\n",
        "\n",
        "print('품사 태깅 결과: ', t.pos(sentence))\n",
        "print()\n"
      ],
      "metadata": {
        "colab": {
          "base_uri": "https://localhost:8080/"
        },
        "id": "wStZLTsPSiXW",
        "outputId": "0f352361-118b-40a1-b5e9-e4255c5fa237"
      },
      "execution_count": 35,
      "outputs": [
        {
          "output_type": "stream",
          "name": "stdout",
          "text": [
            "형태소:  ['절망', '의', '반대', '가', '희망', '은', '아니다', '.', '\\n', '어', '두운', '밤하늘', '에', '별', '이', '빛나듯', '\\n', '희망', '은', '절망', '속', '에', '싹트는', '거지', '\\n', '만약', '에', '우리', '가', '희망', '함', '이', '적다면', '\\n', '그', '누가', '세상', '을', '비출어줄까', '.', '\\n', '정희성', ',', '희망', '공부']\n",
            "\n",
            "명사:  ['절망', '반대', '희망', '어', '두운', '밤하늘', '별', '희망', '절망', '속', '거지', '만약', '우리', '희망', '함', '그', '누가', '세상', '정희성', '희망', '공부']\n",
            "\n",
            "품사 태깅 결과:  [('절망', 'Noun'), ('의', 'Josa'), ('반대', 'Noun'), ('가', 'Josa'), ('희망', 'Noun'), ('은', 'Josa'), ('아니다', 'Adjective'), ('.', 'Punctuation'), ('\\n', 'Foreign'), ('어', 'Noun'), ('두운', 'Noun'), ('밤하늘', 'Noun'), ('에', 'Josa'), ('별', 'Noun'), ('이', 'Josa'), ('빛나듯', 'Verb'), ('\\n', 'Foreign'), ('희망', 'Noun'), ('은', 'Josa'), ('절망', 'Noun'), ('속', 'Noun'), ('에', 'Josa'), ('싹트는', 'Verb'), ('거지', 'Noun'), ('\\n', 'Foreign'), ('만약', 'Noun'), ('에', 'Josa'), ('우리', 'Noun'), ('가', 'Josa'), ('희망', 'Noun'), ('함', 'Noun'), ('이', 'Josa'), ('적다면', 'Verb'), ('\\n', 'Foreign'), ('그', 'Noun'), ('누가', 'Noun'), ('세상', 'Noun'), ('을', 'Josa'), ('비출어줄까', 'Verb'), ('.', 'Punctuation'), ('\\n', 'Foreign'), ('정희성', 'Noun'), (',', 'Punctuation'), ('희망', 'Noun'), ('공부', 'Noun')]\n",
            "\n"
          ]
        }
      ]
    },
    {
      "cell_type": "code",
      "source": [],
      "metadata": {
        "id": "Kljsy82kS7Mm"
      },
      "execution_count": 35,
      "outputs": []
    }
  ]
}