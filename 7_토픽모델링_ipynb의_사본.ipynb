{
  "nbformat": 4,
  "nbformat_minor": 0,
  "metadata": {
    "colab": {
      "provenance": [],
      "collapsed_sections": [],
      "include_colab_link": true
    },
    "kernelspec": {
      "name": "python3",
      "display_name": "Python 3"
    },
    "language_info": {
      "name": "python"
    }
  },
  "cells": [
    {
      "cell_type": "markdown",
      "metadata": {
        "id": "view-in-github",
        "colab_type": "text"
      },
      "source": [
        "<a href=\"https://colab.research.google.com/github/kmalicekim/NLP_practice_mine/blob/master/7_%ED%86%A0%ED%94%BD%EB%AA%A8%EB%8D%B8%EB%A7%81_ipynb%EC%9D%98_%EC%82%AC%EB%B3%B8.ipynb\" target=\"_parent\"><img src=\"https://colab.research.google.com/assets/colab-badge.svg\" alt=\"Open In Colab\"/></a>"
      ]
    },
    {
      "cell_type": "markdown",
      "source": [
        "## 7.2 사이킷런을 미용한 토픽 모델링\n",
        "\n",
        "### 7.2.1 데이터 준비"
      ],
      "metadata": {
        "id": "unO02Syp6yN5"
      }
    },
    {
      "cell_type": "code",
      "execution_count": 53,
      "metadata": {
        "id": "qy3Y4MEV8Do4",
        "colab": {
          "base_uri": "https://localhost:8080/"
        },
        "outputId": "f6edcd75-06b7-4fab-855d-4483335a15ae"
      },
      "outputs": [
        {
          "output_type": "execute_result",
          "data": {
            "text/plain": [
              "['alt.atheism',\n",
              " 'comp.graphics',\n",
              " 'comp.os.ms-windows.misc',\n",
              " 'comp.sys.ibm.pc.hardware',\n",
              " 'comp.sys.mac.hardware',\n",
              " 'comp.windows.x',\n",
              " 'misc.forsale',\n",
              " 'rec.autos',\n",
              " 'rec.motorcycles',\n",
              " 'rec.sport.baseball',\n",
              " 'rec.sport.hockey',\n",
              " 'sci.crypt',\n",
              " 'sci.electronics',\n",
              " 'sci.med',\n",
              " 'sci.space',\n",
              " 'soc.religion.christian',\n",
              " 'talk.politics.guns',\n",
              " 'talk.politics.mideast',\n",
              " 'talk.politics.misc',\n",
              " 'talk.religion.misc']"
            ]
          },
          "metadata": {},
          "execution_count": 53
        }
      ],
      "source": [
        "from sklearn.datasets import fetch_20newsgroups\n",
        "\n",
        "newsgroups_train= fetch_20newsgroups(subset='train')\n",
        "newsgroups_train.target_names\n"
      ]
    },
    {
      "cell_type": "code",
      "source": [
        "categories = ['alt.atheism', 'talk.religion.misc', 'comp.graphics', 'sci.space', \n",
        "              'comp.sys.ibm.pc.hardware', 'sci.crypt', 'rec.sport.hockey']\n",
        "\n",
        "# 학습 데이터셋을 가져옴\n",
        "newsgroups_train = fetch_20newsgroups(subset='train', categories=categories)\n",
        "\n",
        "print('#Train set size:', len(newsgroups_train.data))\n",
        "print('#Selected categories:', newsgroups_train.target_names)"
      ],
      "metadata": {
        "colab": {
          "base_uri": "https://localhost:8080/"
        },
        "id": "fzXgH8Sb7B8z",
        "outputId": "3d492891-4f57-4d16-c156-fe943a1650b5"
      },
      "execution_count": 54,
      "outputs": [
        {
          "output_type": "stream",
          "name": "stdout",
          "text": [
            "#Train set size: 3819\n",
            "#Selected categories: ['alt.atheism', 'comp.graphics', 'comp.sys.ibm.pc.hardware', 'rec.sport.hockey', 'sci.crypt', 'sci.space', 'talk.religion.misc']\n"
          ]
        }
      ]
    },
    {
      "cell_type": "code",
      "source": [
        "newsgroups_train.data[:5]"
      ],
      "metadata": {
        "colab": {
          "base_uri": "https://localhost:8080/"
        },
        "id": "f_zdwMSRB17I",
        "outputId": "761dfe3c-2bd9-440a-9481-1fc41949224d"
      },
      "execution_count": 55,
      "outputs": [
        {
          "output_type": "execute_result",
          "data": {
            "text/plain": [
              "[\"From: michael@jester.GUN.de (Michael Gerhards)\\nDistribution: world\\nSubject: Re: HELP: my pc freezes!\\nX-Newsreader: TIN [version 1.1 PL8]\\nOrganization: private COHERENT system\\nLines: 15\\n\\nPerry Egelmeers (perry@wswiop11.win.tue.nl) wrote:\\n> ladanyi@cs.cornell.edu (La'szlo' Lada'nyi) writes:\\n\\n> >Problem: Occasionaly the machine freezes. At least that's what I thought, but\\n> >recently I discovered that the machine works, just the keyboard freezes and\\n> >the clock drops down from turbo (33Mhz) to standard (16Mhz) mode.\\n\\n> Perhaps you hit the ^S (Control S)?  Try ^Q.\\n> I know it doesn't explain the clock rate drop...\\n\\nWe had the same problem in our company. We changed the keyboard-bios and\\nafter that, everything went fine. Our dealer told us that some boards of\\nthat series have a defect kbd-bios.\\n\\nMichael\\n--\\n*  michael@jester.gun.de  *   Michael Gerhards   *   Preussenstrasse 59  *\\n                          *  Germany 4040 Neuss  *  Voice: 49 2131 82238 *\\n\",\n",
              " 'From: tclark@umaxc.weeg.uiowa.edu (Terry Clark)\\nSubject: Re: CACHE or Micronics EISA/VLB Motherboard?\\nOrganization: University of Iowa, Iowa City, IA, USA\\nLines: 38\\n\\nFrom article <1993Apr15.205654.20845@news.cs.indiana.edu>, by \"Mohammad Al-Ansari\" <alansari@mango.ucs.indiana.edu>:\\n> \\n> (CLIP) I am in\\n> the process of purchasing an EISA/VL Bus 486 DX2-66 computer \\n> (CLIP)\\n> The first is Ares and they use a Cache motherboard (that\\'s\\n> the brand of the motherboard) with OPTI chip set, the other is Micron\\n> (formerly Edge Technology) and they use the Micronics EISA/VLB\\n> motherboard.\\n> (CLIP)\\n> I would REALLY appreciate any input on this. Is the Micron machine the\\n> clear choice?  Does anyone know anything positive or negative about\\n> either company? Has anyone ever heard of Cache motherboards? Should I\\n> go with Micron just because it has the Micronics motherboard? etc.\\n> \\n> Thanks very much in advance for any information.\\n> \\n> --\\n> Mohammad Al-Ansari\\nGet back to your vendors, or better yet the board manufactures and get\\nsome more info:\\n   Where made.\\n   Norton indexes (yeah I know BMs suck but whats a mother to do?)\\n   number of slots, and types, # ESIA and # 32 bit?\\n   Any IDE or SCSI on board?\\n   How easy to upgrade RAM, location and # of pins.\\n   OVERDRIVE?\\n   Oscilator kits?\\n   Does it have a 16550 UART?\\n   Who\\'s BIOS?\\n\\nThese might make you feel better about either system, but I must \\nagree that Ares with 7 days of 24 hr Tech and 2 year warranty is\\nencouraging.\\n________________________________________________________________\\n  Terry Clark                           tclark@umaxc.uiowa.edu \\n  You want an Opinion - You don\\'t pay me enough for an Opinion\\n\\n',\n",
              " 'From: keith@cco.caltech.edu (Keith Allan Schneider)\\nSubject: Re: ? (was Re: \"Cruel\" (was Re: <Political Atheists?))\\nOrganization: California Institute of Technology, Pasadena\\nLines: 13\\nDistribution: world,public\\nNNTP-Posting-Host: punisher.caltech.edu\\nKeywords: Time for a consistency check, bub.\\n\\nsdoe@nmsu.edu (Stephen Doe) writes:\\n\\n>>Of course, if at some later time we think that the death penalty\\n>>*is* cruel or unusual, it will be outlawed.  But at the present,\\n>>most people don\\'t seem to think this way.\\n>*This* from the same fellow who speaks of an \"objective\" or \"natural\"\\n>morality.  I suppose that if the majority decides slavery is OK, then\\n>it is no longer immoral?\\n\\nI did not claim that our system was objective.\\n\\n\\nkeith\\n',\n",
              " \"From: sysmgr@king.eng.umd.edu (Doug Mohney)\\nSubject: Re: How many read sci.space?\\nArticle-I.D.: mojo.1qkmkiINNep3\\nReply-To: sysmgr@king.eng.umd.edu\\nOrganization: Computer Aided Design Lab, U. of Maryland College Park\\nLines: 15\\nNNTP-Posting-Host: queen.eng.umd.edu\\n\\nIn article <1993Apr15.204210.26022@mksol.dseg.ti.com>, pyron@skndiv.dseg.ti.com (Dillon Pyron) writes:\\n>\\n>There are actually only two of us.  I do Henry, Fred, Tommy and Mary.  Oh yeah,\\n>this isn't my real name, I'm a bald headed space baby.\\n\\nDamn!  So it was YOU who was drinking beer with ROBERT McELWANE in the PARKING\\nLOT of the K-MART!\\n\\n\\t\\t\\t\\tUNLIMITED INSEMINATION OF THIS MESSAGE\\n\\t\\t\\t\\t\\tRIGIDLY REFUSED\\n\\n\\n\\n    Software engineering? That's like military intelligence, isn't it?\\n  -- >                  SYSMGR@CADLAB.ENG.UMD.EDU                        < --\\n\",\n",
              " \"From: jennise@opus.dgi.com (Milady Printcap the goddess of peripherals)\\nSubject: Looking for a little research help [ addendum]\\nOrganization: Dynamic Graphics Inc.\\nLines: 10\\nDistribution: usa\\nNNTP-Posting-Host: opus.dgi.com\\n\\nSorry but I forgot this ps.\\n\\nRight now my sight is getting news about two weeks behind so it's \\nkind of necessary (to me) that any responses be sent to me directly.\\n\\n\\nThanks a lot\\n\\nJennise\\n     jennise@dgi.com  \\n\"]"
            ]
          },
          "metadata": {},
          "execution_count": 55
        }
      ]
    },
    {
      "cell_type": "code",
      "source": [
        "from sklearn.feature_extraction.text import CountVectorizer\n",
        "\n",
        "# \\w - 문자+숫자(alphanumeric)와 매치, [a-zA-Z0-9_]와 동일한 표현식이다.\n",
        "cv = CountVectorizer(token_pattern=\"[\\w']{3,}\", stop_words='english', \n",
        "                     max_features=2500, min_df=5, max_df=0.5)\n",
        "\n",
        "review_cv = cv.fit_transform(newsgroups_train.data)\n",
        "\n",
        "print(review_cv[:5])"
      ],
      "metadata": {
        "colab": {
          "base_uri": "https://localhost:8080/"
        },
        "id": "1rnz-GpM-Svr",
        "outputId": "5c7ced69-2d8a-4dab-98a6-94233880dae5"
      },
      "execution_count": 56,
      "outputs": [
        {
          "output_type": "stream",
          "name": "stdout",
          "text": [
            "  (0, 1399)\t5\n",
            "  (0, 983)\t2\n",
            "  (0, 678)\t1\n",
            "  (0, 2467)\t1\n",
            "  (0, 1023)\t1\n",
            "  (0, 1493)\t1\n",
            "  (0, 2272)\t1\n",
            "  (0, 2376)\t1\n",
            "  (0, 1649)\t1\n",
            "  (0, 1731)\t1\n",
            "  (0, 1623)\t2\n",
            "  (0, 2440)\t1\n",
            "  (0, 2306)\t1\n",
            "  (0, 2479)\t1\n",
            "  (0, 1737)\t2\n",
            "  (0, 1314)\t2\n",
            "  (0, 2246)\t1\n",
            "  (0, 2259)\t1\n",
            "  (0, 1840)\t1\n",
            "  (0, 667)\t1\n",
            "  (0, 2465)\t1\n",
            "  (0, 1182)\t1\n",
            "  (0, 439)\t2\n",
            "  (0, 2307)\t1\n",
            "  (0, 2122)\t1\n",
            "  :\t:\n",
            "  (3, 1405)\t1\n",
            "  (3, 1117)\t1\n",
            "  (4, 678)\t1\n",
            "  (4, 1023)\t1\n",
            "  (4, 2343)\t1\n",
            "  (4, 1490)\t1\n",
            "  (4, 2245)\t1\n",
            "  (4, 1501)\t1\n",
            "  (4, 1698)\t1\n",
            "  (4, 1050)\t1\n",
            "  (4, 456)\t3\n",
            "  (4, 1303)\t1\n",
            "  (4, 1296)\t1\n",
            "  (4, 1281)\t1\n",
            "  (4, 1885)\t1\n",
            "  (4, 965)\t1\n",
            "  (4, 2086)\t1\n",
            "  (4, 1906)\t1\n",
            "  (4, 934)\t1\n",
            "  (4, 2424)\t1\n",
            "  (4, 1142)\t1\n",
            "  (4, 1201)\t1\n",
            "  (4, 1481)\t1\n",
            "  (4, 2005)\t1\n",
            "  (4, 663)\t1\n"
          ]
        }
      ]
    },
    {
      "cell_type": "markdown",
      "source": [
        "### 7.2.2 LDA 토픽 모델링 실행"
      ],
      "metadata": {
        "id": "KftLJbpKDSAt"
      }
    },
    {
      "cell_type": "code",
      "source": [
        "from sklearn.decomposition import LatentDirichletAllocation\n",
        "import numpy as np \n",
        "np.set_printoptions(precision=3)\n",
        "\n",
        "lda = LatentDirichletAllocation(n_components= 10,   # 추출할 topic의 수 \n",
        "                                max_iter = 5, # 알고리즘의 최대 반복 횟수\n",
        "                                topic_word_prior = 0.1, # topic의 사전 단어분포를 결정\n",
        "                                doc_topic_prior= 1.0,   # 문서의 사전 topic분포를 결정  \n",
        "                                learning_method='online',  # batch : online에 비해 성능이 더 좋으나 느림\n",
        "                                n_jobs= -1,  #사용 processor 수(-1: 가능한 모든 프로세서 사용). default는 1\n",
        "                                random_state=0)\n",
        "\n",
        "review_topics = lda.fit_transform(review_cv)\n",
        "\n",
        "print('#shape of review_topics:', review_topics.shape)\n",
        "print('#sample of review_topics:', review_topics[0])\n",
        "\n",
        "gross_topic_weights = np.mean(review_topics, axis=0)\n",
        "print('#sum of topic weights of documents:', gross_topic_weights)\n",
        "\n",
        "print('#shape of topic word distribution:', lda.components_.shape)  # (topic개수, max_features)\n"
      ],
      "metadata": {
        "colab": {
          "base_uri": "https://localhost:8080/"
        },
        "id": "gNQIIHRt-yQZ",
        "outputId": "4ad03e6b-5939-48c9-ccaf-0c6662c47025"
      },
      "execution_count": 57,
      "outputs": [
        {
          "output_type": "stream",
          "name": "stdout",
          "text": [
            "#shape of review_topics: (3819, 10)\n",
            "#sample of review_topics: [0.042 0.037 0.536 0.021 0.032 0.031 0.02  0.027 0.229 0.026]\n",
            "#sum of topic weights of documents: [0.097 0.122 0.106 0.132 0.11  0.058 0.088 0.118 0.084 0.085]\n",
            "#shape of topic word distribution: (10, 2500)\n"
          ]
        }
      ]
    },
    {
      "cell_type": "code",
      "source": [
        "print(review_topics[1][:])\n",
        "\n",
        "print() \n",
        "\n",
        "print(lda.components_[:2])"
      ],
      "metadata": {
        "colab": {
          "base_uri": "https://localhost:8080/"
        },
        "id": "0rfuybVhNUf0",
        "outputId": "dca08cda-56c3-4bcc-c59f-080108bcd767"
      },
      "execution_count": 58,
      "outputs": [
        {
          "output_type": "stream",
          "name": "stdout",
          "text": [
            "[0.043 0.125 0.555 0.038 0.049 0.023 0.031 0.086 0.032 0.018]\n",
            "\n",
            "[[1.029e-01 3.499e-01 1.236e+00 ... 1.004e-01 1.005e-01 1.002e-01]\n",
            " [1.005e-01 3.937e+01 2.242e+01 ... 1.043e-01 1.242e+02 7.023e+01]]\n"
          ]
        }
      ]
    },
    {
      "cell_type": "code",
      "source": [
        "def print_top_words(model, feature_names, n_top_words):\n",
        "  for topic_idx, topic in enumerate(model.components_):\n",
        "    print(f'Topic #{topic_idx}:', end=' ')\n",
        "    print(\", \".join([feature_names[i] for i in topic.argsort()[:-n_top_words - 1: -1]]))  #slicing에서 맨 뒤 -1은 역순을 의미. 역순으로 했을 때 처음부터 n_top_words까지\n",
        "\n",
        "  print()\n",
        "\n",
        "print_top_words(lda, cv.get_feature_names_out(), 13)\n"
      ],
      "metadata": {
        "id": "RRgmO7MXGRqn",
        "outputId": "fa520610-93d4-4b01-87da-6c2f99c7b4a2",
        "colab": {
          "base_uri": "https://localhost:8080/"
        }
      },
      "execution_count": 59,
      "outputs": [
        {
          "output_type": "stream",
          "name": "stdout",
          "text": [
            "Topic #0: key, encryption, clipper, chip, government, use, public, keys, security, privacy, com, law, escrow\n",
            "Topic #1: com, just, don't, like, article, think, it's, access, people, i'm, going, know, can't\n",
            "Topic #2: drive, scsi, card, disk, com, controller, ide, bus, hard, use, windows, drives, does\n",
            "Topic #3: god, people, don't, jesus, say, think, does, believe, christian, bible, just, life, com\n",
            "Topic #4: team, game, hockey, play, nhl, season, games, year, players, period, pts, new, pittsburgh\n",
            "Topic #5: article, university, islam, cwru, van, western, com, islamic, book, chi, posting, cal, host\n",
            "Topic #6: graphics, image, file, available, mail, information, ftp, files, software, data, program, internet, pub\n",
            "Topic #7: com, university, host, posting, nntp, article, know, distribution, thanks, reply, i'm, need, computer\n",
            "Topic #8: com, article, jim, brian, question, posting, newsreader, know, time, frank, wrote, org, reply\n",
            "Topic #9: space, nasa, gov, launch, earth, orbit, moon, satellite, lunar, shuttle, sandvik, center, apple\n",
            "\n"
          ]
        }
      ]
    },
    {
      "cell_type": "code",
      "source": [
        "# argsort() 부분 이해를 위해\n",
        "\n",
        "a = np.array([1.5, 0.2, 4.2, 2.5])\n",
        "s = a.argsort()\n",
        "\n",
        "print(s)\n",
        "print(a[s])\n",
        "\n",
        "# a는 정렬되지 않은 숫자들의 어레이입니다.\n",
        "# a.argsort()는 어레이 a를 정렬하는 인덱스의 어레이 [1 0 3 2]를 반환합니다.\n",
        "# a[s]와 같이 인덱스의 어레이 s를 사용해서 어레이 a를 다시 정렬하면,\n",
        "# 오름차순으로 정렬된 어레이 [0.2 1.5 2.5 4.2]가 됩니다."
      ],
      "metadata": {
        "id": "tQmgRdzn3ciZ",
        "colab": {
          "base_uri": "https://localhost:8080/"
        },
        "outputId": "27a0184a-d9b7-46ba-b9ac-13e09b25702c"
      },
      "execution_count": 60,
      "outputs": [
        {
          "output_type": "stream",
          "name": "stdout",
          "text": [
            "[1 0 3 2]\n",
            "[0.2 1.5 2.5 4.2]\n"
          ]
        }
      ]
    },
    {
      "cell_type": "code",
      "source": [
        "# ex)\n",
        "a = np.array([3, 1.3, 5.7, 0.2])\n",
        "\n",
        "print(a[:-3:-1])\n",
        "print(a.argsort())\n",
        "print(a.argsort()[:-3:-1])"
      ],
      "metadata": {
        "colab": {
          "base_uri": "https://localhost:8080/"
        },
        "id": "h10Dnj7t7Ndb",
        "outputId": "e5b762a3-a45f-4c01-d8f6-e8d6660365cb"
      },
      "execution_count": 61,
      "outputs": [
        {
          "output_type": "stream",
          "name": "stdout",
          "text": [
            "[0.2 5.7]\n",
            "[3 1 0 2]\n",
            "[2 0]\n"
          ]
        }
      ]
    },
    {
      "cell_type": "markdown",
      "source": [
        "### 7.2.2 최적의 토픽 수 선택하기"
      ],
      "metadata": {
        "id": "a-M6MF-reZf1"
      }
    },
    {
      "cell_type": "code",
      "source": [
        "import matplotlib.pyplot as plt\n",
        "%matplotlib inline\n",
        "\n",
        "# 혼란도 --- 값이 낮을수록 좋음\n",
        "def show_perplexity(cv, start=10, end=30, max_iter=5, topic_word_prior=0.1,  # max_iter는 최소 5이상의 값을 주는것이 좋음\n",
        "                    doc_topic_prior=1.0):\n",
        "  iter_num = []\n",
        "  per_value = []\n",
        "\n",
        "  for i in range(start, end+1):\n",
        "    lda = LatentDirichletAllocation(n_components = i, max_iter=max_iter,\n",
        "                                    topic_word_prior = topic_word_prior,\n",
        "                                    doc_topic_prior=doc_topic_prior,\n",
        "                                    learning_method='batch', n_jobs= -1,\n",
        "                                    random_state=7)\n",
        "    lda.fit(cv)\n",
        "    iter_num.append(i)\n",
        "    pv = lda.perplexity(cv) \n",
        "    per_value.append(pv)\n",
        "    print(f'n_components: {i}, perplexity: {pv:.3f}')\n",
        "\n",
        "\n",
        "  plt.plot(iter_num, per_value, 'g-')\n",
        "  plt.show()\n",
        "  return start + per_value.index(min(per_value))\n",
        "\n",
        "print(\"n_components with minimum perplexity:\",\n",
        "      show_perplexity(review_cv, start=6, end=15))\n",
        "    \n"
      ],
      "metadata": {
        "colab": {
          "base_uri": "https://localhost:8080/",
          "height": 461
        },
        "id": "crDrC89B9522",
        "outputId": "d8363a49-0541-48fd-eea5-9f0ccd32ca2c"
      },
      "execution_count": 62,
      "outputs": [
        {
          "output_type": "stream",
          "name": "stdout",
          "text": [
            "n_components: 6, perplexity: 1216.375\n",
            "n_components: 7, perplexity: 1215.644\n",
            "n_components: 8, perplexity: 1224.125\n",
            "n_components: 9, perplexity: 1208.056\n",
            "n_components: 10, perplexity: 1181.733\n",
            "n_components: 11, perplexity: 1176.414\n",
            "n_components: 12, perplexity: 1188.870\n",
            "n_components: 13, perplexity: 1188.711\n",
            "n_components: 14, perplexity: 1171.418\n",
            "n_components: 15, perplexity: 1176.919\n"
          ]
        },
        {
          "output_type": "display_data",
          "data": {
            "text/plain": [
              "<Figure size 432x288 with 1 Axes>"
            ],
            "image/png": "[encoded data removed]"
          },
          "metadata": {
            "needs_background": "light"
          }
        },
        {
          "output_type": "stream",
          "name": "stdout",
          "text": [
            "n_components with minimum perplexity: 14\n"
          ]
        }
      ]
    },
    {
      "cell_type": "code",
      "source": [
        "lda = LatentDirichletAllocation(n_components=8,  # 추출할 topic의 수 지정\n",
        "                                max_iter=20, \n",
        "                                topic_word_prior=0.1,\n",
        "                                doc_topic_prior=1.0,\n",
        "                                learning_method='batch',\n",
        "                                n_jobs=-1,\n",
        "                                random_state=7)\n",
        "\n",
        "review_topics = lda.fit_transform(review_cv)\n",
        "\n",
        "print_top_words(lda, cv.get_feature_names_out(), 10)"
      ],
      "metadata": {
        "colab": {
          "base_uri": "https://localhost:8080/"
        },
        "id": "tZ4bedl-hM2N",
        "outputId": "c1f3ea89-3e75-4a4d-95c7-2e187ad0d5ef"
      },
      "execution_count": 63,
      "outputs": [
        {
          "output_type": "stream",
          "name": "stdout",
          "text": [
            "Topic #0: people, god, don't, think, just, say, does, believe, like, jesus\n",
            "Topic #1: scsi, hockey, team, nhl, players, ide, game, university, bus, article\n",
            "Topic #2: space, nasa, drive, gov, launch, access, disk, earth, ___, moon\n",
            "Topic #3: key, chip, encryption, clipper, com, government, keys, use, security, public\n",
            "Topic #4: com, article, don't, keith, think, posting, morality, nntp, host, caltech\n",
            "Topic #5: image, available, file, software, use, data, information, graphics, mail, ftp\n",
            "Topic #6: com, posting, host, nntp, university, article, know, i'm, thanks, distribution\n",
            "Topic #7: game, play, period, win, year, power, team, goal, pts, new\n",
            "\n"
          ]
        }
      ]
    },
    {
      "cell_type": "markdown",
      "source": [
        "## 7.3 Gensim을 이용한 토픽 모델링\n",
        "\n",
        "### 7.3.1 Gensim 사용법과 시각화"
      ],
      "metadata": {
        "id": "i2r3LvjJjbYl"
      }
    },
    {
      "cell_type": "code",
      "source": [
        "!pip install --upgrade gensim"
      ],
      "metadata": {
        "colab": {
          "base_uri": "https://localhost:8080/"
        },
        "id": "8VKovHmKjeoj",
        "outputId": "919d8688-5681-467b-b87f-1f0775c38e7b"
      },
      "execution_count": 64,
      "outputs": [
        {
          "output_type": "stream",
          "name": "stdout",
          "text": [
            "Looking in indexes: https://pypi.org/simple, https://us-python.pkg.dev/colab-wheels/public/simple/\n",
            "Requirement already satisfied: gensim in /usr/local/lib/python3.7/dist-packages (4.2.0)\n",
            "Requirement already satisfied: scipy>=0.18.1 in /usr/local/lib/python3.7/dist-packages (from gensim) (1.7.3)\n",
            "Requirement already satisfied: numpy>=1.17.0 in /usr/local/lib/python3.7/dist-packages (from gensim) (1.21.6)\n",
            "Requirement already satisfied: smart-open>=1.8.1 in /usr/local/lib/python3.7/dist-packages (from gensim) (5.2.1)\n"
          ]
        }
      ]
    },
    {
      "cell_type": "code",
      "source": [
        "# Gensim은 텍스트에 대한 토큰화 결과를 입력으로 사용함\n",
        "\n",
        "# 필요한 library들을 import\n",
        "from nltk.corpus import stopwords\n",
        "from nltk.tokenize import RegexpTokenizer\n",
        "import nltk\n",
        "nltk.download('stopwords')\n",
        "\n",
        "cachedStopWords = stopwords.words(\"english\")\n",
        "\n",
        "RegTok = RegexpTokenizer('[\\w]{3,}')  # 정규표현식으로 토크나이저를 정의\n",
        "english_stops = set(stopwords.words('english')) # 영어 불용어를 가져옴\n",
        "\n",
        "\n",
        "def tokenizer(text):\n",
        "  tokens = RegTok.tokenize(text.lower())\n",
        "  words = [word for word in tokens if (word not in english_stops) and len(word)>2]\n",
        "  return words \n",
        "\n",
        "\n",
        "texts = [tokenizer(news) for news in newsgroups_train.data]"
      ],
      "metadata": {
        "colab": {
          "base_uri": "https://localhost:8080/"
        },
        "id": "nIiCN5wekQHe",
        "outputId": "8006e2e1-7858-48b1-9424-9f1cfd90fbb1"
      },
      "execution_count": 67,
      "outputs": [
        {
          "output_type": "stream",
          "name": "stderr",
          "text": [
            "[nltk_data] Downloading package stopwords to /root/nltk_data...\n",
            "[nltk_data]   Unzipping corpora/stopwords.zip.\n"
          ]
        }
      ]
    },
    {
      "cell_type": "code",
      "source": [
        "from gensim.corpora.dictionary import Dictionary \n",
        "\n",
        "# 토큰화 결과로부터 dictionary 생성 \n",
        "dictionary = Dictionary(texts)\n",
        "print('#Number of initial unique words in documents:', len(dictionary))"
      ],
      "metadata": {
        "colab": {
          "base_uri": "https://localhost:8080/"
        },
        "id": "aRnsv_Uqrwpp",
        "outputId": "4609d7f9-2c8c-4197-f378-90a705f85252"
      },
      "execution_count": 68,
      "outputs": [
        {
          "output_type": "stream",
          "name": "stdout",
          "text": [
            "#Number of initial unique words in documents: 49768\n"
          ]
        }
      ]
    },
    {
      "cell_type": "code",
      "source": [],
      "metadata": {
        "id": "gR4dFhsGs2uM"
      },
      "execution_count": null,
      "outputs": []
    }
  ]
}