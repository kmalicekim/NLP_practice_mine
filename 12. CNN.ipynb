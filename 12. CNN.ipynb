{
  "nbformat": 4,
  "nbformat_minor": 0,
  "metadata": {
    "colab": {
      "provenance": [],
      "collapsed_sections": [],
      "authorship_tag": "ABX9TyObNwN1yjyhyz0A+cKuEnbu",
      "include_colab_link": true
    },
    "kernelspec": {
      "name": "python3",
      "display_name": "Python 3"
    },
    "language_info": {
      "name": "python"
    }
  },
  "cells": [
    {
      "cell_type": "markdown",
      "metadata": {
        "id": "view-in-github",
        "colab_type": "text"
      },
      "source": [
        "<a href=\"https://colab.research.google.com/github/kmalicekim/NLP_practice_mine/blob/master/12.%20CNN.ipynb\" target=\"_parent\"><img src=\"https://colab.research.google.com/assets/colab-badge.svg\" alt=\"Open In Colab\"/></a>"
      ]
    },
    {
      "cell_type": "markdown",
      "source": [
        "## 12. CNN을 이용한 문서 분류\n",
        "\n",
        "### 12.1 NLTK 영화 리뷰 데이터 변환"
      ],
      "metadata": {
        "id": "7oUjIkynIRaW"
      }
    },
    {
      "cell_type": "code",
      "execution_count": 6,
      "metadata": {
        "colab": {
          "base_uri": "https://localhost:8080/"
        },
        "id": "mdENIpsdH64l",
        "outputId": "02c128d0-ca81-4a68-b404-047f8189f394"
      },
      "outputs": [
        {
          "output_type": "stream",
          "name": "stderr",
          "text": [
            "[nltk_data] Downloading package movie_reviews to /root/nltk_data...\n",
            "[nltk_data]   Package movie_reviews is already up-to-date!\n"
          ]
        }
      ],
      "source": [
        "import nltk\n",
        "nltk.download('movie_reviews')\n",
        "\n",
        "from nltk.corpus import movie_reviews\n",
        "import numpy as np\n",
        "import tensorflow as tf\n",
        "from tensorflow.keras.preprocessing.text import Tokenizer \n",
        "from tensorflow.keras.preprocessing.sequence import pad_sequences \n",
        "from sklearn.model_selection import train_test_split \n",
        "\n",
        "# movie review data에서 file id를 가져옴\n",
        "fileids = movie_reviews.fileids() \n",
        "\n",
        "# file id를 이용해 raw text file을 가져옴 \n",
        "reviews = [movie_reviews.raw(fileid) for fileid in fileids]\n",
        "categories = [movie_reviews.categories(fileid)[0] for fileid in fileids] \n",
        "\n",
        "np.random.seed(7)\n",
        "tf.random.set_seed(7)\n",
        "\n",
        "max_words = 10000  # 사용할 단어의 수\n",
        "maxlen = 500       # 문서의 단어 수를 제한 \n",
        "\n",
        "\n",
        "# 빈도가 높은 10000개의 단어를 선택하도록 객체 생성\n",
        "tokenizer = Tokenizer(num_words=max_words, oov_token='UNK')\n",
        "\n",
        "# 단어 인덱스 구축\n",
        "tokenizer.fit_on_texts(reviews)   \n",
        "\n",
        "# 만들어진 단어 인덱스를 이용해 변환\n",
        "X = tokenizer.texts_to_sequences(reviews)\n",
        "X = pad_sequences(X, maxlen=maxlen, truncating='pre') \n",
        "\n",
        "# label을 0,1의 값으로 변환\n",
        "label_dict = {'pos':0, 'neg':1}\n",
        "y = np.array([label_dict[c] for c in categories]) \n",
        "X_train, X_test, y_train, y_test = train_test_split(X, y, test_size=0.2, random_state=10)\n"
      ]
    },
    {
      "cell_type": "markdown",
      "source": [
        "## 12.2 CNN 모형 생성 및 학습"
      ],
      "metadata": {
        "id": "HLHLy8AHyLCJ"
      }
    },
    {
      "cell_type": "code",
      "source": [
        "from tensorflow.keras.models import Sequential  \n",
        "from tensorflow.keras.layers import Dense, Conv1D, MaxPooling1D \n",
        "from tensorflow.keras.layers import Embedding, Dropout, Flatten \n",
        "from tensorflow.keras.optimizers import Adam \n",
        "\n",
        "model = Sequential([\n",
        "    Embedding(max_words, 64, input_length=maxlen),\n",
        "    Conv1D(128,    #채널의 수\n",
        "           5,      #1D 필터 크기\n",
        "           padding='valid',\n",
        "           activation='relu',\n",
        "           strides=1),\n",
        "    MaxPooling1D(),\n",
        "    Conv1D(256,\n",
        "           5,\n",
        "           padding='valid',\n",
        "           activation='relu',\n",
        "           strides=1),\n",
        "    MaxPooling1D(),\n",
        "    Flatten(),\n",
        "    Dense(64, activation='relu'),\n",
        "    Dense(1, activation='sigmoid')   #binary logistic regression 수행\n",
        "])\n",
        "\n",
        "model.summary()"
      ],
      "metadata": {
        "colab": {
          "base_uri": "https://localhost:8080/"
        },
        "id": "baipKIy0Id4H",
        "outputId": "08f5577a-2621-4a2d-8226-0b9aafa417ac"
      },
      "execution_count": 7,
      "outputs": [
        {
          "output_type": "stream",
          "name": "stdout",
          "text": [
            "Model: \"sequential\"\n",
            "_________________________________________________________________\n",
            " Layer (type)                Output Shape              Param #   \n",
            "=================================================================\n",
            " embedding (Embedding)       (None, 500, 64)           640000    \n",
            "                                                                 \n",
            " conv1d (Conv1D)             (None, 496, 128)          41088     \n",
            "                                                                 \n",
            " max_pooling1d (MaxPooling1D  (None, 248, 128)         0         \n",
            " )                                                               \n",
            "                                                                 \n",
            " conv1d_1 (Conv1D)           (None, 244, 256)          164096    \n",
            "                                                                 \n",
            " max_pooling1d_1 (MaxPooling  (None, 122, 256)         0         \n",
            " 1D)                                                             \n",
            "                                                                 \n",
            " flatten (Flatten)           (None, 31232)             0         \n",
            "                                                                 \n",
            " dense (Dense)               (None, 64)                1998912   \n",
            "                                                                 \n",
            " dense_1 (Dense)             (None, 1)                 65        \n",
            "                                                                 \n",
            "=================================================================\n",
            "Total params: 2,844,161\n",
            "Trainable params: 2,844,161\n",
            "Non-trainable params: 0\n",
            "_________________________________________________________________\n"
          ]
        }
      ]
    },
    {
      "cell_type": "code",
      "source": [
        "adam = Adam(learning_rate=1e-3)\n",
        "model.compile(optimizer=adam, loss='binary_crossentropy', metrics=['acc']) \n",
        "history = model.fit(X_train, y_train,\n",
        "                    epochs=20,\n",
        "                    batch_size=256,\n",
        "                    verbose=1,\n",
        "                    validation_split=0.2)"
      ],
      "metadata": {
        "colab": {
          "base_uri": "https://localhost:8080/"
        },
        "id": "bK80PBpZKZE-",
        "outputId": "951b6b32-cf09-4f02-de39-b77a14f349dd"
      },
      "execution_count": 8,
      "outputs": [
        {
          "output_type": "stream",
          "name": "stdout",
          "text": [
            "Epoch 1/20\n",
            "5/5 [==============================] - 14s 2s/step - loss: 0.7183 - acc: 0.5289 - val_loss: 0.6940 - val_acc: 0.4969\n",
            "Epoch 2/20\n",
            "5/5 [==============================] - 12s 2s/step - loss: 0.6933 - acc: 0.4969 - val_loss: 0.6931 - val_acc: 0.4969\n",
            "Epoch 3/20\n",
            "5/5 [==============================] - 12s 2s/step - loss: 0.6926 - acc: 0.4969 - val_loss: 0.6928 - val_acc: 0.4969\n",
            "Epoch 4/20\n",
            "5/5 [==============================] - 12s 2s/step - loss: 0.6919 - acc: 0.5102 - val_loss: 0.6923 - val_acc: 0.5094\n",
            "Epoch 5/20\n",
            "5/5 [==============================] - 12s 2s/step - loss: 0.6898 - acc: 0.5703 - val_loss: 0.6920 - val_acc: 0.4969\n",
            "Epoch 6/20\n",
            "5/5 [==============================] - 13s 2s/step - loss: 0.6844 - acc: 0.6906 - val_loss: 0.6905 - val_acc: 0.5719\n",
            "Epoch 7/20\n",
            "5/5 [==============================] - 12s 2s/step - loss: 0.6706 - acc: 0.8148 - val_loss: 0.6848 - val_acc: 0.5437\n",
            "Epoch 8/20\n",
            "5/5 [==============================] - 12s 2s/step - loss: 0.6433 - acc: 0.7352 - val_loss: 0.6810 - val_acc: 0.5031\n",
            "Epoch 9/20\n",
            "5/5 [==============================] - 12s 2s/step - loss: 0.5800 - acc: 0.8125 - val_loss: 0.6655 - val_acc: 0.5469\n",
            "Epoch 10/20\n",
            "5/5 [==============================] - 12s 2s/step - loss: 0.4624 - acc: 0.8547 - val_loss: 0.5732 - val_acc: 0.7219\n",
            "Epoch 11/20\n",
            "5/5 [==============================] - 12s 2s/step - loss: 0.2697 - acc: 0.9461 - val_loss: 0.4779 - val_acc: 0.7875\n",
            "Epoch 12/20\n",
            "5/5 [==============================] - 13s 3s/step - loss: 0.1120 - acc: 0.9797 - val_loss: 0.4725 - val_acc: 0.7719\n",
            "Epoch 13/20\n",
            "5/5 [==============================] - 12s 2s/step - loss: 0.0283 - acc: 0.9977 - val_loss: 0.5962 - val_acc: 0.8000\n",
            "Epoch 14/20\n",
            "5/5 [==============================] - 13s 3s/step - loss: 0.0062 - acc: 0.9992 - val_loss: 0.5539 - val_acc: 0.8000\n",
            "Epoch 15/20\n",
            "5/5 [==============================] - 12s 2s/step - loss: 0.0017 - acc: 1.0000 - val_loss: 0.6103 - val_acc: 0.8031\n",
            "Epoch 16/20\n",
            "5/5 [==============================] - 12s 2s/step - loss: 4.4946e-04 - acc: 1.0000 - val_loss: 0.7015 - val_acc: 0.8000\n",
            "Epoch 17/20\n",
            "5/5 [==============================] - 12s 2s/step - loss: 2.9733e-04 - acc: 1.0000 - val_loss: 0.7394 - val_acc: 0.8031\n",
            "Epoch 18/20\n",
            "5/5 [==============================] - 13s 3s/step - loss: 1.8175e-04 - acc: 1.0000 - val_loss: 0.7322 - val_acc: 0.7906\n",
            "Epoch 19/20\n",
            "5/5 [==============================] - 12s 2s/step - loss: 1.1897e-04 - acc: 1.0000 - val_loss: 0.7216 - val_acc: 0.8125\n",
            "Epoch 20/20\n",
            "5/5 [==============================] - 12s 2s/step - loss: 9.2437e-05 - acc: 1.0000 - val_loss: 0.7180 - val_acc: 0.8062\n"
          ]
        }
      ]
    },
    {
      "cell_type": "code",
      "source": [
        "%matplotlib inline\n",
        "import matplotlib.pyplot as plt\n",
        "\n",
        "def plot_results(history, metric):\n",
        "  plt.plot(history.history[metric], 'b', label='Training '+metric)\n",
        "  plt.plot(history.history['val_'+metric], 'r--', label='Validation '+metric)\n",
        "  plt.title('Training vs Validation '+metric)\n",
        "  plt.xlabel('Epochs')\n",
        "  plt.ylabel(metric)\n",
        "  plt.legend()\n",
        "  plt.show()\n",
        "\n",
        "plot_results(history, 'loss')\n",
        "\n",
        "# 테스트 셋으로 학습된 모형의 성능을 평가\n",
        "score = model.evaluate(X_test, y_test)\n",
        "print(f'#Test accuracy: {score[1]:.3f}')"
      ],
      "metadata": {
        "colab": {
          "base_uri": "https://localhost:8080/",
          "height": 331
        },
        "id": "K3NdSctIz4CM",
        "outputId": "c931e7f7-6edd-4549-e709-7e1947a20c4c"
      },
      "execution_count": 9,
      "outputs": [
        {
          "output_type": "display_data",
          "data": {
            "text/plain": [
              "<Figure size 432x288 with 1 Axes>"
            ],
            "image/png": "[encoded data removed]"
          },
          "metadata": {
            "needs_background": "light"
          }
        },
        {
          "output_type": "stream",
          "name": "stdout",
          "text": [
            "13/13 [==============================] - 2s 151ms/step - loss: 0.6988 - acc: 0.8150\n",
            "#Test accuracy: 0.815\n"
          ]
        }
      ]
    },
    {
      "cell_type": "code",
      "source": [],
      "metadata": {
        "id": "9n13WqZ94Ida"
      },
      "execution_count": null,
      "outputs": []
    }
  ]
}