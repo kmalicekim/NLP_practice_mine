{
  "nbformat": 4,
  "nbformat_minor": 0,
  "metadata": {
    "colab": {
      "provenance": [],
      "collapsed_sections": [],
      "authorship_tag": "ABX9TyNA60lWBnEYAEuUXHX2brUx",
      "include_colab_link": true
    },
    "kernelspec": {
      "name": "python3",
      "display_name": "Python 3"
    },
    "language_info": {
      "name": "python"
    }
  },
  "cells": [
    {
      "cell_type": "markdown",
      "metadata": {
        "id": "view-in-github",
        "colab_type": "text"
      },
      "source": [
        "<a href=\"https://colab.research.google.com/github/kmalicekim/NLP_practice_mine/blob/master/11.%20Word2Vec%2C%20ELMo%2C%20Doc2Vec.ipynb\" target=\"_parent\"><img src=\"https://colab.research.google.com/assets/colab-badge.svg\" alt=\"Open In Colab\"/></a>"
      ]
    },
    {
      "cell_type": "markdown",
      "source": [
        "## Chapter 11. Word2Vec, ELMo, Doc2Vec의 이해\n",
        "\n",
        "### 11.1.2 Word2Vec 활용 - 학습된 모형 가져오기"
      ],
      "metadata": {
        "id": "bl4BMboMLX8E"
      }
    },
    {
      "cell_type": "code",
      "execution_count": 1,
      "metadata": {
        "colab": {
          "base_uri": "https://localhost:8080/"
        },
        "id": "N7gv4EgqLQqA",
        "outputId": "6d3006a3-02ef-4b2f-dfa9-cb668915cf65"
      },
      "outputs": [
        {
          "output_type": "stream",
          "name": "stdout",
          "text": [
            "Looking in indexes: https://pypi.org/simple, https://us-python.pkg.dev/colab-wheels/public/simple/\n",
            "Requirement already satisfied: gensim in /usr/local/lib/python3.7/dist-packages (3.6.0)\n",
            "Collecting gensim\n",
            "  Downloading gensim-4.2.0-cp37-cp37m-manylinux_2_12_x86_64.manylinux2010_x86_64.whl (24.1 MB)\n",
            "\u001b[K     |████████████████████████████████| 24.1 MB 50.8 MB/s \n",
            "\u001b[?25hRequirement already satisfied: smart-open>=1.8.1 in /usr/local/lib/python3.7/dist-packages (from gensim) (5.2.1)\n",
            "Requirement already satisfied: scipy>=0.18.1 in /usr/local/lib/python3.7/dist-packages (from gensim) (1.7.3)\n",
            "Requirement already satisfied: numpy>=1.17.0 in /usr/local/lib/python3.7/dist-packages (from gensim) (1.21.6)\n",
            "Installing collected packages: gensim\n",
            "  Attempting uninstall: gensim\n",
            "    Found existing installation: gensim 3.6.0\n",
            "    Uninstalling gensim-3.6.0:\n",
            "      Successfully uninstalled gensim-3.6.0\n",
            "Successfully installed gensim-4.2.0\n"
          ]
        }
      ],
      "source": [
        "pip install --upgrade gensim"
      ]
    },
    {
      "cell_type": "code",
      "source": [
        "# 미리 학습된 gensim data 다운로드\n",
        "import gensim.downloader as api\n",
        "\n",
        "wv = api.load('glove-wiki-gigaword-50')"
      ],
      "metadata": {
        "colab": {
          "base_uri": "https://localhost:8080/"
        },
        "id": "PaewKVkKLn3J",
        "outputId": "f5cce831-c0f8-4d28-d702-1f9ef1d36ef0"
      },
      "execution_count": 2,
      "outputs": [
        {
          "output_type": "stream",
          "name": "stdout",
          "text": [
            "[==================================================] 100.0% 66.0/66.0MB downloaded\n"
          ]
        }
      ]
    },
    {
      "cell_type": "code",
      "source": [
        "type(wv)\n",
        "\n",
        "# gensim.model.keyedvectors.keyedVectors --> 단어와 그 단어의 임베딩 벡터 간의 매핑을 저장한 사전과 다양한 유사도 함수들로 구성된 객체"
      ],
      "metadata": {
        "colab": {
          "base_uri": "https://localhost:8080/"
        },
        "id": "d-6lO9AoLyoY",
        "outputId": "aa91b2f3-bb06-44aa-f4db-37a243cf7846"
      },
      "execution_count": 3,
      "outputs": [
        {
          "output_type": "execute_result",
          "data": {
            "text/plain": [
              "gensim.models.keyedvectors.KeyedVectors"
            ]
          },
          "metadata": {},
          "execution_count": 3
        }
      ]
    },
    {
      "cell_type": "code",
      "source": [
        "vec_king = wv['king']\n",
        "\n",
        "print('# Size of the vector:', len(vec_king))\n",
        "print('# Vector for king:', vec_king)"
      ],
      "metadata": {
        "colab": {
          "base_uri": "https://localhost:8080/"
        },
        "id": "eEd5jwQfL2T8",
        "outputId": "ffa1dd63-aa1c-4f3f-da84-8daaaa547de8"
      },
      "execution_count": 5,
      "outputs": [
        {
          "output_type": "stream",
          "name": "stdout",
          "text": [
            "# Size of the vector: 50\n",
            "# Vector for king: [ 0.50451   0.68607  -0.59517  -0.022801  0.60046  -0.13498  -0.08813\n",
            "  0.47377  -0.61798  -0.31012  -0.076666  1.493    -0.034189 -0.98173\n",
            "  0.68229   0.81722  -0.51874  -0.31503  -0.55809   0.66421   0.1961\n",
            " -0.13495  -0.11476  -0.30344   0.41177  -2.223    -1.0756   -1.0783\n",
            " -0.34354   0.33505   1.9927   -0.04234  -0.64319   0.71125   0.49159\n",
            "  0.16754   0.34344  -0.25663  -0.8523    0.1661    0.40102   1.1685\n",
            " -1.0137   -0.21585  -0.15155   0.78321  -0.91241  -1.6106   -0.64426\n",
            " -0.51042 ]\n"
          ]
        }
      ]
    },
    {
      "cell_type": "code",
      "source": [
        "print(wv.similarity('king', 'man'), 'vs', wv.similarity('king', 'woman'))\n",
        "print(wv.similarity('queen', 'man'), 'vs', wv.similarity('queen', 'woman'))\n",
        "print('미니밴에 가까운 차:', wv.most_similar(positive=['car', 'minivan'], topn=3))\n",
        "print('여성, 왕에는 가까우면서 남성과는 먼 단어:', wv.most_similar(positive=['woman', 'king'], negative=['man'], topn=2))\n",
        "print('breakfast, cereal, dinner, lunch 중에서 다른 단어들과의 거리가 가장 먼 단어:', wv.doesnt_match('breakfast cereal dinner lunch'.split()))"
      ],
      "metadata": {
        "colab": {
          "base_uri": "https://localhost:8080/"
        },
        "id": "Xm9ZIORjMMQK",
        "outputId": "85d83b82-749d-4513-8d55-785149fb9633"
      },
      "execution_count": 9,
      "outputs": [
        {
          "output_type": "stream",
          "name": "stdout",
          "text": [
            "0.53093773 vs 0.41133785\n",
            "0.53667 vs 0.60031056\n",
            "미니밴에 가까운 차: [('truck', 0.9100273251533508), ('suv', 0.904007613658905), ('jeep', 0.8619828820228577)]\n",
            "여성, 왕에는 가까우면서 남성과는 먼 단어: [('queen', 0.8523604273796082), ('throne', 0.7664334177970886)]\n",
            "breakfast, cereal, dinner, lunch 중에서 다른 단어들과의 거리가 가장 먼 단어: cereal\n"
          ]
        }
      ]
    },
    {
      "cell_type": "code",
      "source": [
        "# distance 메서드 : 유사도의 반대 개념인 거리를 반환\n",
        "# n_similarity 메서드 : 단어집합 간의 유사도를 계산\n",
        "\n",
        "print('distance between cat and dog: {:.2f}'.format(wv.distance('cat', 'dog')))\n",
        "print('{:.4f}'.format(wv.n_similarity(['bulgogi', 'shop'], ['japanese', 'restaurant'])))\n",
        "print('{:.4f}'.format(wv.n_similarity(['bulgogi', 'shop'], ['korean', 'restaurant'])))\n",
        "print('{:.4f}'.format(wv.n_similarity(['bulgogi', 'shop'], ['french', 'restaurant'])))\n",
        "\n",
        "# ==> 불고기 가게는 한국 식당에 가장 가까운 것을 볼 수 있음"
      ],
      "metadata": {
        "colab": {
          "base_uri": "https://localhost:8080/"
        },
        "id": "Gwh2ZQsjNWbi",
        "outputId": "f117e5c5-ff05-4df4-8a93-6de7d67a1d0c"
      },
      "execution_count": 10,
      "outputs": [
        {
          "output_type": "stream",
          "name": "stdout",
          "text": [
            "distance between cat and dog: 0.08\n",
            "0.5375\n",
            "0.5627\n",
            "0.4377\n"
          ]
        }
      ]
    }
  ]
}