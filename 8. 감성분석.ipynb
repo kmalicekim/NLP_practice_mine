{
  "nbformat": 4,
  "nbformat_minor": 0,
  "metadata": {
    "colab": {
      "provenance": [],
      "collapsed_sections": [],
      "authorship_tag": "ABX9TyPK+unbXp8hzyjWoGcRBvVd",
      "include_colab_link": true
    },
    "kernelspec": {
      "name": "python3",
      "display_name": "Python 3"
    },
    "language_info": {
      "name": "python"
    }
  },
  "cells": [
    {
      "cell_type": "markdown",
      "metadata": {
        "id": "view-in-github",
        "colab_type": "text"
      },
      "source": [
        "<a href=\"https://colab.research.google.com/github/kmalicekim/NLP_practice_mine/blob/master/8.%20%EA%B0%90%EC%84%B1%EB%B6%84%EC%84%9D.ipynb\" target=\"_parent\"><img src=\"https://colab.research.google.com/assets/colab-badge.svg\" alt=\"Open In Colab\"/></a>"
      ]
    },
    {
      "cell_type": "markdown",
      "source": [
        "## 8.2 감성 사전을 이용한 영화 리뷰 감성 분석\n",
        "\n",
        "### 8.2.1 NLTK 영화 리뷰 데이터 준비 "
      ],
      "metadata": {
        "id": "I_a2r7CF_EML"
      }
    },
    {
      "cell_type": "code",
      "execution_count": 1,
      "metadata": {
        "colab": {
          "base_uri": "https://localhost:8080/"
        },
        "id": "35eeifgrWzbv",
        "outputId": "83632c5c-389a-4cfb-d3a6-74b236e4a250"
      },
      "outputs": [
        {
          "output_type": "stream",
          "name": "stderr",
          "text": [
            "[nltk_data] Downloading package movie_reviews to /root/nltk_data...\n",
            "[nltk_data]   Unzipping corpora/movie_reviews.zip.\n"
          ]
        },
        {
          "output_type": "stream",
          "name": "stdout",
          "text": [
            "#review count: 2000\n",
            "#samples of file ids: ['neg/cv000_29416.txt', 'neg/cv001_19502.txt', 'neg/cv002_17424.txt', 'neg/cv003_12683.txt', 'neg/cv004_12641.txt', 'neg/cv005_29357.txt', 'neg/cv006_17022.txt', 'neg/cv007_4992.txt', 'neg/cv008_29326.txt', 'neg/cv009_29417.txt']\n",
            "#categories of reviews: ['neg', 'pos']\n",
            "#num of \"neg\" reviews: 1000\n",
            "#num of \"pos\" reviews: 1000\n",
            "#id of the first review: neg/cv000_29416.txt\n",
            "#part of the first review: plot : two teen couples go to a church party , drink and then drive . \n",
            "they get into an accident . \n",
            "one of the guys dies , but his girlfriend continues to see him in her life , and has nightmares . \n",
            "what's the deal ? \n",
            "watch the movie and \" sorta \" find out . . . \n",
            "critique : a mind-fuck movie for the teen generation that touches on a very cool idea , but presents it in a very bad package . \n",
            "which is what makes this review an even harder one to write , since i generally applaud films which attempt\n",
            "#sentiment of the first review: ['neg']\n"
          ]
        }
      ],
      "source": [
        "import nltk\n",
        "nltk.download('movie_reviews')\n",
        "\n",
        "from nltk.corpus import movie_reviews\n",
        "\n",
        "print('#review count:', len(movie_reviews.fileids()))  # 영화 리뷰 문서의 id를 반환\n",
        "print('#samples of file ids:', movie_reviews.fileids()[:10]) # id를 10개까지만 출력\n",
        "print('#categories of reviews:', movie_reviews.categories()) # label, 즉 긍정인지 부정인지에 대한 분류\n",
        "print('#num of \"neg\" reviews:', len(movie_reviews.fileids(categories='neg')))  # label이 부정인 문서들의 id 반환\n",
        "print('#num of \"pos\" reviews:', len(movie_reviews.fileids(categories='pos')))  # label이 긍정인 문서들의 id 반환\n",
        "\n",
        "fileid = movie_reviews.fileids()[0] # 첫번째 문서의 id를 반환 \n",
        "print(\"#id of the first review:\", fileid)\n",
        "print('#part of the first review:', movie_reviews.raw(fileid)[:500]) # 첫번째 문서의 내용을 500자까지만 출력\n",
        "print('#sentiment of the first review:', movie_reviews.categories(fileid)) # 첫번째 문서의 감성\n",
        "\n",
        "fileids = movie_reviews.fileids()  # movie_reviews data 에서 file id를 가져옴\n",
        "reviews = [movie_reviews.raw(fileid) for fileid in fileids] # file id를 이용해 raw text file를 가져옴\n",
        "categories = [movie_reviews.categories(fileid)[0] for fileid in fileids]\n"
      ]
    },
    {
      "cell_type": "markdown",
      "source": [
        "### 8.2.2 TextBlob을 이용한 감성 분석"
      ],
      "metadata": {
        "id": "D6HGAZE1-8JC"
      }
    },
    {
      "cell_type": "code",
      "source": [
        "!pip install -U textblob\n",
        "!python -m textblob.download_corpora"
      ],
      "metadata": {
        "colab": {
          "base_uri": "https://localhost:8080/"
        },
        "id": "VsIBdUPA-FLJ",
        "outputId": "6d4f4fcd-24bc-4698-c52c-03243472d7ef"
      },
      "execution_count": 2,
      "outputs": [
        {
          "output_type": "stream",
          "name": "stdout",
          "text": [
            "Looking in indexes: https://pypi.org/simple, https://us-python.pkg.dev/colab-wheels/public/simple/\n",
            "Requirement already satisfied: textblob in /usr/local/lib/python3.7/dist-packages (0.15.3)\n",
            "Collecting textblob\n",
            "  Downloading textblob-0.17.1-py2.py3-none-any.whl (636 kB)\n",
            "\u001b[K     |████████████████████████████████| 636 kB 15.8 MB/s \n",
            "\u001b[?25hRequirement already satisfied: nltk>=3.1 in /usr/local/lib/python3.7/dist-packages (from textblob) (3.7)\n",
            "Requirement already satisfied: joblib in /usr/local/lib/python3.7/dist-packages (from nltk>=3.1->textblob) (1.2.0)\n",
            "Requirement already satisfied: click in /usr/local/lib/python3.7/dist-packages (from nltk>=3.1->textblob) (7.1.2)\n",
            "Requirement already satisfied: regex>=2021.8.3 in /usr/local/lib/python3.7/dist-packages (from nltk>=3.1->textblob) (2022.6.2)\n",
            "Requirement already satisfied: tqdm in /usr/local/lib/python3.7/dist-packages (from nltk>=3.1->textblob) (4.64.1)\n",
            "Installing collected packages: textblob\n",
            "  Attempting uninstall: textblob\n",
            "    Found existing installation: textblob 0.15.3\n",
            "    Uninstalling textblob-0.15.3:\n",
            "      Successfully uninstalled textblob-0.15.3\n",
            "Successfully installed textblob-0.17.1\n",
            "[nltk_data] Downloading package brown to /root/nltk_data...\n",
            "[nltk_data]   Unzipping corpora/brown.zip.\n",
            "[nltk_data] Downloading package punkt to /root/nltk_data...\n",
            "[nltk_data]   Unzipping tokenizers/punkt.zip.\n",
            "[nltk_data] Downloading package wordnet to /root/nltk_data...\n",
            "[nltk_data] Downloading package averaged_perceptron_tagger to\n",
            "[nltk_data]     /root/nltk_data...\n",
            "[nltk_data]   Unzipping taggers/averaged_perceptron_tagger.zip.\n",
            "[nltk_data] Downloading package conll2000 to /root/nltk_data...\n",
            "[nltk_data]   Unzipping corpora/conll2000.zip.\n",
            "[nltk_data] Downloading package movie_reviews to /root/nltk_data...\n",
            "[nltk_data]   Package movie_reviews is already up-to-date!\n",
            "Finished.\n"
          ]
        }
      ]
    },
    {
      "cell_type": "code",
      "source": [
        "# ex\n",
        "print(reviews[0])\n",
        "print()\n",
        "print(reviews[1])"
      ],
      "metadata": {
        "colab": {
          "base_uri": "https://localhost:8080/"
        },
        "id": "YJvALR7zgH8D",
        "outputId": "f43d430d-379f-4b11-b8ea-969be6426750"
      },
      "execution_count": 9,
      "outputs": [
        {
          "output_type": "stream",
          "name": "stdout",
          "text": [
            "plot : two teen couples go to a church party , drink and then drive . \n",
            "they get into an accident . \n",
            "one of the guys dies , but his girlfriend continues to see him in her life , and has nightmares . \n",
            "what's the deal ? \n",
            "watch the movie and \" sorta \" find out . . . \n",
            "critique : a mind-fuck movie for the teen generation that touches on a very cool idea , but presents it in a very bad package . \n",
            "which is what makes this review an even harder one to write , since i generally applaud films which attempt to break the mold , mess with your head and such ( lost highway & memento ) , but there are good and bad ways of making all types of films , and these folks just didn't snag this one correctly . \n",
            "they seem to have taken this pretty neat concept , but executed it terribly . \n",
            "so what are the problems with the movie ? \n",
            "well , its main problem is that it's simply too jumbled . \n",
            "it starts off \" normal \" but then downshifts into this \" fantasy \" world in which you , as an audience member , have no idea what's going on . \n",
            "there are dreams , there are characters coming back from the dead , there are others who look like the dead , there are strange apparitions , there are disappearances , there are a looooot of chase scenes , there are tons of weird things that happen , and most of it is simply not explained . \n",
            "now i personally don't mind trying to unravel a film every now and then , but when all it does is give me the same clue over and over again , i get kind of fed up after a while , which is this film's biggest problem . \n",
            "it's obviously got this big secret to hide , but it seems to want to hide it completely until its final five minutes . \n",
            "and do they make things entertaining , thrilling or even engaging , in the meantime ? \n",
            "not really . \n",
            "the sad part is that the arrow and i both dig on flicks like this , so we actually figured most of it out by the half-way point , so all of the strangeness after that did start to make a little bit of sense , but it still didn't the make the film all that more entertaining . \n",
            "i guess the bottom line with movies like this is that you should always make sure that the audience is \" into it \" even before they are given the secret password to enter your world of understanding . \n",
            "i mean , showing melissa sagemiller running away from visions for about 20 minutes throughout the movie is just plain lazy ! ! \n",
            "okay , we get it . . . there \n",
            "are people chasing her and we don't know who they are . \n",
            "do we really need to see it over and over again ? \n",
            "how about giving us different scenes offering further insight into all of the strangeness going down in the movie ? \n",
            "apparently , the studio took this film away from its director and chopped it up themselves , and it shows . \n",
            "there might've been a pretty decent teen mind-fuck movie in here somewhere , but i guess \" the suits \" decided that turning it into a music video with little edge , would make more sense . \n",
            "the actors are pretty good for the most part , although wes bentley just seemed to be playing the exact same character that he did in american beauty , only in a new neighborhood . \n",
            "but my biggest kudos go out to sagemiller , who holds her own throughout the entire film , and actually has you feeling her character's unraveling . \n",
            "overall , the film doesn't stick because it doesn't entertain , it's confusing , it rarely excites and it feels pretty redundant for most of its runtime , despite a pretty cool ending and explanation to all of the craziness that came before it . \n",
            "oh , and by the way , this is not a horror or teen slasher flick . . . it's \n",
            "just packaged to look that way because someone is apparently assuming that the genre is still hot with the kids . \n",
            "it also wrapped production two years ago and has been sitting on the shelves ever since . \n",
            "whatever . . . skip \n",
            "it ! \n",
            "where's joblo coming from ? \n",
            "a nightmare of elm street 3 ( 7/10 ) - blair witch 2 ( 7/10 ) - the crow ( 9/10 ) - the crow : salvation ( 4/10 ) - lost highway ( 10/10 ) - memento ( 10/10 ) - the others ( 9/10 ) - stir of echoes ( 8/10 ) \n",
            "\n",
            "\n",
            "the happy bastard's quick movie review \n",
            "damn that y2k bug . \n",
            "it's got a head start in this movie starring jamie lee curtis and another baldwin brother ( william this time ) in a story regarding a crew of a tugboat that comes across a deserted russian tech ship that has a strangeness to it when they kick the power back on . \n",
            "little do they know the power within . . . \n",
            "going for the gore and bringing on a few action sequences here and there , virus still feels very empty , like a movie going for all flash and no substance . \n",
            "we don't know why the crew was really out in the middle of nowhere , we don't know the origin of what took over the ship ( just that a big pink flashy thing hit the mir ) , and , of course , we don't know why donald sutherland is stumbling around drunkenly throughout . \n",
            "here , it's just \" hey , let's chase these people around with some robots \" . \n",
            "the acting is below average , even from the likes of curtis . \n",
            "you're more likely to get a kick out of her work in halloween h20 . \n",
            "sutherland is wasted and baldwin , well , he's acting like a baldwin , of course . \n",
            "the real star here are stan winston's robot design , some schnazzy cgi , and the occasional good gore shot , like picking into someone's brain . \n",
            "so , if robots and body parts really turn you on , here's your movie . \n",
            "otherwise , it's pretty much a sunken ship of a movie . \n",
            "\n"
          ]
        }
      ]
    },
    {
      "cell_type": "code",
      "source": [
        "from textblob import TextBlob \n",
        "\n",
        "# 감성분석의 결과는 sentiment 속성으로 확인 가능 \n",
        "# sentiment는 polarity 와 subjectivity로 구성됨\n",
        "# polarity : 감성을 나타내는 극성. -1 과 1 사이의 실숫값\n",
        "# subjectivity : 0과 1 사이의 실수. 0에 가까울수록 객관적, 1에 가까울수록 주관적\n",
        "\n",
        "\n",
        "result = TextBlob(reviews[0])  # 첫째 리뷰에 대한 리뷰값\n",
        "print(result.sentiment)  # polarity 0.06--> 매우 약한 긍정"
      ],
      "metadata": {
        "id": "IYi0U_2n-Xve",
        "colab": {
          "base_uri": "https://localhost:8080/"
        },
        "outputId": "9fd24ddd-41a8-4f3a-a791-362af81b6898"
      },
      "execution_count": 10,
      "outputs": [
        {
          "output_type": "stream",
          "name": "stdout",
          "text": [
            "Sentiment(polarity=0.06479782948532947, subjectivity=0.5188408350908352)\n"
          ]
        }
      ]
    },
    {
      "cell_type": "code",
      "source": [
        "# 현재 데이터는 실수가 아닌 pos, neg로 극성을 표현하므로, \n",
        "# 텍스트 리스트를 받아서 polarity의 결과를 데이터에 맞게 반환하는 함수 작성\n",
        "\n",
        "def sentiment_TextBlob(docs):\n",
        "  results = []\n",
        "\n",
        "  for doc in docs:\n",
        "    testimonial = TextBlob(doc)\n",
        "    if testimonial.sentiment.polarity > 0:\n",
        "      results.append('pos')\n",
        "    else:\n",
        "      results.append('neg')\n",
        "  return results \n"
      ],
      "metadata": {
        "id": "oODOygh1gJFH"
      },
      "execution_count": 15,
      "outputs": []
    },
    {
      "cell_type": "code",
      "source": [
        "from sklearn.metrics import accuracy_score \n",
        "\n",
        "print('#TestBlob을 이용한 리뷰 감성분석의 정확도:', accuracy_score(categories, sentiment_TextBlob(reviews))) \n",
        "\n",
        "# 정확도 0.6 --> 정확도가 그리 좋지 않음. 감성 사전을 기반으로 하는 감성분석의 가장 큰 문제 : 정확도가 그리 높지 않음"
      ],
      "metadata": {
        "colab": {
          "base_uri": "https://localhost:8080/"
        },
        "id": "tbeGwww8jr8W",
        "outputId": "d0a26ad6-a35c-40a1-b437-3eff04b83a1a"
      },
      "execution_count": 16,
      "outputs": [
        {
          "output_type": "stream",
          "name": "stdout",
          "text": [
            "#TestBlob을 이용한 리뷰 감성분석의 정확도: 0.6\n"
          ]
        }
      ]
    },
    {
      "cell_type": "markdown",
      "source": [
        "### 8.2.3 AFINN을 이용한 감성 분석"
      ],
      "metadata": {
        "id": "1Mxl8wzWlKCg"
      }
    },
    {
      "cell_type": "code",
      "source": [
        "!pip install afinn"
      ],
      "metadata": {
        "colab": {
          "base_uri": "https://localhost:8080/"
        },
        "id": "QAntc8PHj9ah",
        "outputId": "ce1faf07-7f57-4de4-ae6b-f71f30349930"
      },
      "execution_count": 17,
      "outputs": [
        {
          "output_type": "stream",
          "name": "stdout",
          "text": [
            "Looking in indexes: https://pypi.org/simple, https://us-python.pkg.dev/colab-wheels/public/simple/\n",
            "Collecting afinn\n",
            "  Downloading afinn-0.1.tar.gz (52 kB)\n",
            "\u001b[K     |████████████████████████████████| 52 kB 1.1 MB/s \n",
            "\u001b[?25hBuilding wheels for collected packages: afinn\n",
            "  Building wheel for afinn (setup.py) ... \u001b[?25l\u001b[?25hdone\n",
            "  Created wheel for afinn: filename=afinn-0.1-py3-none-any.whl size=53447 sha256=db9e943e00070f09673e16fdc89c55bc9c8cbb072dc168e80fb95b07657d4c8b\n",
            "  Stored in directory: /root/.cache/pip/wheels/9d/16/3a/9f0953027434eab5dadf3f33ab3298fa95afa8292fcf7aba75\n",
            "Successfully built afinn\n",
            "Installing collected packages: afinn\n",
            "Successfully installed afinn-0.1\n"
          ]
        }
      ]
    },
    {
      "cell_type": "code",
      "source": [
        "# TextBlob과 마찬가지로 afinn은 극성을 수치로 반환하므로 'neg', 'pos'로 변환하는 함수 작성\n",
        "\n",
        "from afinn import Afinn \n",
        "\n",
        "def sentiment_Afinn(docs):\n",
        "  afn = Afinn(emoticons=True)  # 대상 텍스트에 이모티콘이 포함돼 있을 경우 emoticons=True로 설정\n",
        "  results = []\n",
        "\n",
        "  for doc in docs:\n",
        "    if afn.score(doc) > 0:\n",
        "      results.append('pos')\n",
        "    else:\n",
        "      results.append('neg')\n",
        "  return results\n",
        "\n",
        "print('#Afinn을 이용한 리뷰 감성분석의 정확도:', accuracy_score(categories, sentiment_Afinn(reviews)))   #TextBlob보다는 나아진 정확도이나 여전히 별로"
      ],
      "metadata": {
        "colab": {
          "base_uri": "https://localhost:8080/"
        },
        "id": "MbL195JQlO6-",
        "outputId": "084f9610-a140-4b4b-c458-9aff2973176d"
      },
      "execution_count": 19,
      "outputs": [
        {
          "output_type": "stream",
          "name": "stdout",
          "text": [
            "#Afinn을 이용한 리뷰 감성분석의 정확도: 0.664\n"
          ]
        }
      ]
    },
    {
      "cell_type": "markdown",
      "source": [
        "### 8.2.4 VADER를 이용한 감성 분석"
      ],
      "metadata": {
        "id": "VRhwqKoCoAIx"
      }
    },
    {
      "cell_type": "code",
      "source": [
        "# VADER : 규칙 기반의 감성 분석 알고리즘 사용. 소셜 미디어의 텍스트에서 좋은 성능이 나올 수 있도록 개발됨 \n",
        "# NLTK의 nltk.sentiment.vader에 포함되어 있음\n",
        "# 감성 사전인 vader_lexicon을 추가로 다운받은 후 NLTK에 있는 라이브러리 사용 \n",
        "\n",
        "import nltk\n",
        "nltk.download('vader_lexicon')"
      ],
      "metadata": {
        "colab": {
          "base_uri": "https://localhost:8080/"
        },
        "id": "bzHH1ugYllHl",
        "outputId": "6dd80b4e-30f9-40f8-871c-4c09e6dbdc37"
      },
      "execution_count": 20,
      "outputs": [
        {
          "output_type": "stream",
          "name": "stderr",
          "text": [
            "[nltk_data] Downloading package vader_lexicon to /root/nltk_data...\n"
          ]
        },
        {
          "output_type": "execute_result",
          "data": {
            "text/plain": [
              "True"
            ]
          },
          "metadata": {},
          "execution_count": 20
        }
      ]
    },
    {
      "cell_type": "code",
      "source": [
        "# vader의 SentimentIntensityAnalyzer는 4개의 극성값 제공 \n",
        "# 4째 극성값인 compound는 pos, neg, neu 세 값을 적절히 조합해 -1과 1 사이의 극성값 제공\n",
        "\n",
        "from nltk.sentiment.vader import SentimentIntensityAnalyzer\n",
        "\n",
        "def sentiment_vader(docs):\n",
        "  analyser = SentimentIntensityAnalyzer()\n",
        "  results = []\n",
        "\n",
        "  for doc in docs:\n",
        "    score = analyser.polarity_scores(doc)\n",
        "    if score['compound'] > 0:\n",
        "      results.append('pos')\n",
        "    else:\n",
        "      results.append('neg')\n",
        "  \n",
        "  return results\n",
        "\n",
        "print('#Vader을 이용한 리뷰 감성분석의 정확도:', accuracy_score(categories, sentiment_vader(reviews)))"
      ],
      "metadata": {
        "colab": {
          "base_uri": "https://localhost:8080/"
        },
        "id": "8iUUwQ-JoWu3",
        "outputId": "7c18300e-c3eb-46f9-d3fc-9768a4e2d2e7"
      },
      "execution_count": 21,
      "outputs": [
        {
          "output_type": "stream",
          "name": "stdout",
          "text": [
            "#Vader을 이용한 리뷰 감성분석의 정확도: 0.635\n"
          ]
        }
      ]
    },
    {
      "cell_type": "markdown",
      "source": [
        "---"
      ],
      "metadata": {
        "id": "ScJVTzYMrvCI"
      }
    },
    {
      "cell_type": "markdown",
      "source": [
        "## 8.3 학습을 통한 머신러닝 기반의 감성 분석\n",
        "\n",
        "### 8.3.1 NLTK 영화 리뷰에 대한 머신러닝 기반 감성 분석"
      ],
      "metadata": {
        "id": "vKgTg9Sor2rK"
      }
    },
    {
      "cell_type": "code",
      "source": [
        "from sklearn.model_selection import train_test_split   # sklearn에서 제공하는 split 함수 사용\n",
        "\n",
        "X_train, X_test, y_train, y_test = train_test_split(reviews, categories, test_size=0.2, random_state=7) \n",
        "\n",
        "print('Train set count:', len(X_train))\n",
        "print('Test set count:', len(X_test)) "
      ],
      "metadata": {
        "colab": {
          "base_uri": "https://localhost:8080/"
        },
        "id": "vkMJss3mrEx1",
        "outputId": "b9b11dd5-5dea-4056-e36c-3aa29be5a46e"
      },
      "execution_count": 22,
      "outputs": [
        {
          "output_type": "stream",
          "name": "stdout",
          "text": [
            "Train set count: 1600\n",
            "Test set count: 400\n"
          ]
        }
      ]
    },
    {
      "cell_type": "code",
      "source": [
        "from sklearn.feature_extraction.text import TfidfVectorizer \n",
        "from sklearn.naive_bayes import MultinomialNB   \n",
        "\n",
        "# TfidfVectorizer로 TFIDF 벡터로 변환 > MultinomialNB로 나이브 베이즈 모형으로 학습하고 성능 출력\n",
        "tfidf = TfidfVectorizer().fit(X_train) \n",
        "\n",
        "X_train_tfidf = tfidf.transform(X_train)  # train set 변환 \n",
        "print('#Train set dimension:', X_train_tfidf.shape)  # 실제로 몇개의 특성이 사용되었는지 확인 \n",
        "\n",
        "X_test_tfidf = tfidf.transform(X_test)  # test set 변환 \n",
        "print('#Test set dimension:', X_test_tfidf.shape) \n",
        "\n",
        "NB_clf = MultinomialNB(alpha=0.01)  # 분류기 선언\n",
        "NB_clf.fit(X_train_tfidf, y_train)  # train set을 이용하여 분류기(classifier)를 학습\n",
        "print('#Train set score: {:.3f}'.format(NB_clf.score(X_train_tfidf, y_train)))  # train set에 대한 예측정확도 확인\n",
        "print('#Test set score: {:.3f}'.format(NB_clf.score(X_test_tfidf, y_test)))     # test set에 대한 예측정확도 확인\n"
      ],
      "metadata": {
        "colab": {
          "base_uri": "https://localhost:8080/"
        },
        "id": "9KxtlOgvvPik",
        "outputId": "aa2bf2f9-50f5-4ac8-a63d-e6ba63261223"
      },
      "execution_count": 26,
      "outputs": [
        {
          "output_type": "stream",
          "name": "stdout",
          "text": [
            "#Train set dimension: (1600, 36189)\n",
            "#Test set dimension: (400, 36189)\n",
            "#Train set score: 0.998\n",
            "#Test set score: 0.797\n"
          ]
        }
      ]
    },
    {
      "cell_type": "markdown",
      "source": [
        "---\n",
        "### 해당 결과는 감성 사전을 이용한 감성 분석에 비해 성능이 월등히 뛰어남\n",
        "\n",
        "- 감성 사전을 이용할 경우 : 대상 말뭉치에 관계없이 일반적으로 적용\n",
        "\n",
        "- 학습에 의한 모형 : 특정 도메인에 한정되어 더 좋은 성능을 보임\n",
        "\n",
        "---"
      ],
      "metadata": {
        "id": "gA_joMyUy4J7"
      }
    },
    {
      "cell_type": "markdown",
      "source": [
        "### 8.3.2 다음 영화 리뷰에 대한 머신러닝 기반 감성분석"
      ],
      "metadata": {
        "id": "6PmDdVKQyVJA"
      }
    },
    {
      "cell_type": "code",
      "source": [
        "import pandas as pd\n",
        "\n",
        "df = pd.read_csv('/content/daum_movie_review.csv')\n",
        "df.head(10)"
      ],
      "metadata": {
        "colab": {
          "base_uri": "https://localhost:8080/",
          "height": 363
        },
        "id": "OzJyu7DKwJgy",
        "outputId": "dcdfb06c-631d-4d4d-8256-4a04d147998c"
      },
      "execution_count": 28,
      "outputs": [
        {
          "output_type": "execute_result",
          "data": {
            "text/plain": [
              "                                              review  rating        date  \\\n",
              "0                             돈 들인건 티가 나지만 보는 내내 하품만       1  2018.10.29   \n",
              "1       몰입할수밖에 없다. 어렵게 생각할 필요없다. 내가 전투에 참여한듯 손에 땀이남.      10  2018.10.26   \n",
              "2  이전 작품에 비해 더 화려하고 스케일도 커졌지만.... 전국 맛집의 음식들을 한데 ...       8  2018.10.24   \n",
              "3                                이 정도면 볼만하다고 할 수 있음!       8  2018.10.22   \n",
              "4                                               재미있다      10  2018.10.20   \n",
              "5                                           나는 재밌게 봄      10  2018.10.14   \n",
              "6                                      0.5점은 줄 수 없냐?       0  2018.10.10   \n",
              "7                     헐..다 죽었어....나중에 앤트맨 보다가도 깜놀...      10  2018.10.08   \n",
              "8                                              충격 결말       9  2018.10.06   \n",
              "9                                                응집력       8  2018.10.05   \n",
              "\n",
              "    title  \n",
              "0  인피니티 워  \n",
              "1  인피니티 워  \n",
              "2  인피니티 워  \n",
              "3  인피니티 워  \n",
              "4  인피니티 워  \n",
              "5  인피니티 워  \n",
              "6  인피니티 워  \n",
              "7  인피니티 워  \n",
              "8  인피니티 워  \n",
              "9  인피니티 워  "
            ],
            "text/html": [
              "\n",
              "  <div id=\"df-e39caf37-b495-4eb0-bbfa-c9c7677a99b0\">\n",
              "    <div class=\"colab-df-container\">\n",
              "      <div>\n",
              "<style scoped>\n",
              "    .dataframe tbody tr th:only-of-type {\n",
              "        vertical-align: middle;\n",
              "    }\n",
              "\n",
              "    .dataframe tbody tr th {\n",
              "        vertical-align: top;\n",
              "    }\n",
              "\n",
              "    .dataframe thead th {\n",
              "        text-align: right;\n",
              "    }\n",
              "</style>\n",
              "<table border=\"1\" class=\"dataframe\">\n",
              "  <thead>\n",
              "    <tr style=\"text-align: right;\">\n",
              "      <th></th>\n",
              "      <th>review</th>\n",
              "      <th>rating</th>\n",
              "      <th>date</th>\n",
              "      <th>title</th>\n",
              "    </tr>\n",
              "  </thead>\n",
              "  <tbody>\n",
              "    <tr>\n",
              "      <th>0</th>\n",
              "      <td>돈 들인건 티가 나지만 보는 내내 하품만</td>\n",
              "      <td>1</td>\n",
              "      <td>2018.10.29</td>\n",
              "      <td>인피니티 워</td>\n",
              "    </tr>\n",
              "    <tr>\n",
              "      <th>1</th>\n",
              "      <td>몰입할수밖에 없다. 어렵게 생각할 필요없다. 내가 전투에 참여한듯 손에 땀이남.</td>\n",
              "      <td>10</td>\n",
              "      <td>2018.10.26</td>\n",
              "      <td>인피니티 워</td>\n",
              "    </tr>\n",
              "    <tr>\n",
              "      <th>2</th>\n",
              "      <td>이전 작품에 비해 더 화려하고 스케일도 커졌지만.... 전국 맛집의 음식들을 한데 ...</td>\n",
              "      <td>8</td>\n",
              "      <td>2018.10.24</td>\n",
              "      <td>인피니티 워</td>\n",
              "    </tr>\n",
              "    <tr>\n",
              "      <th>3</th>\n",
              "      <td>이 정도면 볼만하다고 할 수 있음!</td>\n",
              "      <td>8</td>\n",
              "      <td>2018.10.22</td>\n",
              "      <td>인피니티 워</td>\n",
              "    </tr>\n",
              "    <tr>\n",
              "      <th>4</th>\n",
              "      <td>재미있다</td>\n",
              "      <td>10</td>\n",
              "      <td>2018.10.20</td>\n",
              "      <td>인피니티 워</td>\n",
              "    </tr>\n",
              "    <tr>\n",
              "      <th>5</th>\n",
              "      <td>나는 재밌게 봄</td>\n",
              "      <td>10</td>\n",
              "      <td>2018.10.14</td>\n",
              "      <td>인피니티 워</td>\n",
              "    </tr>\n",
              "    <tr>\n",
              "      <th>6</th>\n",
              "      <td>0.5점은 줄 수 없냐?</td>\n",
              "      <td>0</td>\n",
              "      <td>2018.10.10</td>\n",
              "      <td>인피니티 워</td>\n",
              "    </tr>\n",
              "    <tr>\n",
              "      <th>7</th>\n",
              "      <td>헐..다 죽었어....나중에 앤트맨 보다가도 깜놀...</td>\n",
              "      <td>10</td>\n",
              "      <td>2018.10.08</td>\n",
              "      <td>인피니티 워</td>\n",
              "    </tr>\n",
              "    <tr>\n",
              "      <th>8</th>\n",
              "      <td>충격 결말</td>\n",
              "      <td>9</td>\n",
              "      <td>2018.10.06</td>\n",
              "      <td>인피니티 워</td>\n",
              "    </tr>\n",
              "    <tr>\n",
              "      <th>9</th>\n",
              "      <td>응집력</td>\n",
              "      <td>8</td>\n",
              "      <td>2018.10.05</td>\n",
              "      <td>인피니티 워</td>\n",
              "    </tr>\n",
              "  </tbody>\n",
              "</table>\n",
              "</div>\n",
              "      <button class=\"colab-df-convert\" onclick=\"convertToInteractive('df-e39caf37-b495-4eb0-bbfa-c9c7677a99b0')\"\n",
              "              title=\"Convert this dataframe to an interactive table.\"\n",
              "              style=\"display:none;\">\n",
              "        \n",
              "  <svg xmlns=\"http://www.w3.org/2000/svg\" height=\"24px\"viewBox=\"0 0 24 24\"\n",
              "       width=\"24px\">\n",
              "    <path d=\"M0 0h24v24H0V0z\" fill=\"none\"/>\n",
              "    <path d=\"M18.56 5.44l.94 2.06.94-2.06 2.06-.94-2.06-.94-.94-2.06-.94 2.06-2.06.94zm-11 1L8.5 8.5l.94-2.06 2.06-.94-2.06-.94L8.5 2.5l-.94 2.06-2.06.94zm10 10l.94 2.06.94-2.06 2.06-.94-2.06-.94-.94-2.06-.94 2.06-2.06.94z\"/><path d=\"M17.41 7.96l-1.37-1.37c-.4-.4-.92-.59-1.43-.59-.52 0-1.04.2-1.43.59L10.3 9.45l-7.72 7.72c-.78.78-.78 2.05 0 2.83L4 21.41c.39.39.9.59 1.41.59.51 0 1.02-.2 1.41-.59l7.78-7.78 2.81-2.81c.8-.78.8-2.07 0-2.86zM5.41 20L4 18.59l7.72-7.72 1.47 1.35L5.41 20z\"/>\n",
              "  </svg>\n",
              "      </button>\n",
              "      \n",
              "  <style>\n",
              "    .colab-df-container {\n",
              "      display:flex;\n",
              "      flex-wrap:wrap;\n",
              "      gap: 12px;\n",
              "    }\n",
              "\n",
              "    .colab-df-convert {\n",
              "      background-color: #E8F0FE;\n",
              "      border: none;\n",
              "      border-radius: 50%;\n",
              "      cursor: pointer;\n",
              "      display: none;\n",
              "      fill: #1967D2;\n",
              "      height: 32px;\n",
              "      padding: 0 0 0 0;\n",
              "      width: 32px;\n",
              "    }\n",
              "\n",
              "    .colab-df-convert:hover {\n",
              "      background-color: #E2EBFA;\n",
              "      box-shadow: 0px 1px 2px rgba(60, 64, 67, 0.3), 0px 1px 3px 1px rgba(60, 64, 67, 0.15);\n",
              "      fill: #174EA6;\n",
              "    }\n",
              "\n",
              "    [theme=dark] .colab-df-convert {\n",
              "      background-color: #3B4455;\n",
              "      fill: #D2E3FC;\n",
              "    }\n",
              "\n",
              "    [theme=dark] .colab-df-convert:hover {\n",
              "      background-color: #434B5C;\n",
              "      box-shadow: 0px 1px 3px 1px rgba(0, 0, 0, 0.15);\n",
              "      filter: drop-shadow(0px 1px 2px rgba(0, 0, 0, 0.3));\n",
              "      fill: #FFFFFF;\n",
              "    }\n",
              "  </style>\n",
              "\n",
              "      <script>\n",
              "        const buttonEl =\n",
              "          document.querySelector('#df-e39caf37-b495-4eb0-bbfa-c9c7677a99b0 button.colab-df-convert');\n",
              "        buttonEl.style.display =\n",
              "          google.colab.kernel.accessAllowed ? 'block' : 'none';\n",
              "\n",
              "        async function convertToInteractive(key) {\n",
              "          const element = document.querySelector('#df-e39caf37-b495-4eb0-bbfa-c9c7677a99b0');\n",
              "          const dataTable =\n",
              "            await google.colab.kernel.invokeFunction('convertToInteractive',\n",
              "                                                     [key], {});\n",
              "          if (!dataTable) return;\n",
              "\n",
              "          const docLinkHtml = 'Like what you see? Visit the ' +\n",
              "            '<a target=\"_blank\" href=https://colab.research.google.com/notebooks/data_table.ipynb>data table notebook</a>'\n",
              "            + ' to learn more about interactive tables.';\n",
              "          element.innerHTML = '';\n",
              "          dataTable['output_type'] = 'display_data';\n",
              "          await google.colab.output.renderOutput(dataTable, element);\n",
              "          const docLink = document.createElement('div');\n",
              "          docLink.innerHTML = docLinkHtml;\n",
              "          element.appendChild(docLink);\n",
              "        }\n",
              "      </script>\n",
              "    </div>\n",
              "  </div>\n",
              "  "
            ]
          },
          "metadata": {},
          "execution_count": 28
        }
      ]
    },
    {
      "cell_type": "code",
      "source": [
        "import matplotlib.pyplot as plt\n",
        "%matplotlib inline \n",
        "\n",
        "df.rating.value_counts().sort_index().plot(kind='bar') \n",
        "plt.show()\n",
        "\n",
        "# 10점이 가장 많고, 5점을 중심으로 봤을 때 주로 더 큰 값에 많이 분포되어 있음\n",
        "# 클래스별로 고르게 분포하지 않는 경우 : 불균형 데이터셋 ---> 성능이 잘 나오기가 어렵고 모형의 성능을 정확도로 측정하기 어려움\n",
        "# 이와 같은 불균형 데이터에서의 성능 측정을 위해 사용하는 지표 : 정밀도 & 재현율\n",
        "# 정확도 : (TP+TN) / (P+N)\n",
        "# 정밀도 : TP / (TP+FN)\n",
        "# 재현율 : TP / (TP+FN)"
      ],
      "metadata": {
        "colab": {
          "base_uri": "https://localhost:8080/",
          "height": 268
        },
        "id": "kEab7vU4y0B6",
        "outputId": "53e49d2a-c6eb-4f9c-a051-5a6f021834b8"
      },
      "execution_count": 29,
      "outputs": [
        {
          "output_type": "display_data",
          "data": {
            "text/plain": [
              "<Figure size 432x288 with 1 Axes>"
            ],
            "image/png": "[encoded data removed]"
          },
          "metadata": {
            "needs_background": "light"
          }
        }
      ]
    },
    {
      "cell_type": "code",
      "source": [
        "df.rating.plot.hist(bins=10)"
      ],
      "metadata": {
        "colab": {
          "base_uri": "https://localhost:8080/",
          "height": 283
        },
        "id": "QbgvJaqTz5xk",
        "outputId": "7d2c66ad-6bec-4152-f46e-72a1613fa117"
      },
      "execution_count": 30,
      "outputs": [
        {
          "output_type": "execute_result",
          "data": {
            "text/plain": [
              "<matplotlib.axes._subplots.AxesSubplot at 0x7fd4e7085ed0>"
            ]
          },
          "metadata": {},
          "execution_count": 30
        },
        {
          "output_type": "display_data",
          "data": {
            "text/plain": [
              "<Figure size 432x288 with 1 Axes>"
            ],
            "image/png": "[encoded data removed]"
          },
          "metadata": {
            "needs_background": "light"
          }
        }
      ]
    },
    {
      "cell_type": "code",
      "source": [
        "# 학습 방법 1 : 평점을 예측하는 다중회귀분석\n",
        "# 평점을 라벨로 사용하여 학습하고 평점을 예측한 후, 마지막 과정에서 긍/부정 판별 \n",
        "\n",
        "from sklearn.model_selection import train_test_split \n",
        "\n",
        "X_train, X_test, y_train, y_test = train_test_split(df.review, df.rating, random_state=7) \n",
        "print('#Train set size:', len(X_train))\n",
        "print('#Test set size:', len(X_test)) \n",
        "\n",
        "!pip install konlpy\n",
        "from konlpy.tag import Okt \n",
        "okt = Okt()\n",
        "\n",
        "# 보통 극성을 가지는 단어는 명사, 동사, 형용사이므로 토큰화에서도 이 셋만 포함 \n",
        "def twit_tokenizer(text):   \n",
        "  target_tags = ['Noun', 'Verb', 'Adjective']\n",
        "  result = []\n",
        "  \n",
        "  for word, tag in okt.pos(text, norm=True, stem=True):\n",
        "    if tag in target_tags:\n",
        "      result.append(word) \n",
        "  return result \n",
        "\n",
        "\n",
        "tfidf = TfidfVectorizer(tokenizer=twit_tokenizer, max_features=2000, min_df=5, max_df=0.5)\n",
        "X_train_tfidf = tfidf.fit_transform(X_train) \n",
        "X_test_tfidf = tfidf.transform(X_test)\n"
      ],
      "metadata": {
        "colab": {
          "base_uri": "https://localhost:8080/"
        },
        "id": "iV1gwzBJz_14",
        "outputId": "f98540e7-1b3a-4c54-89c5-691d6f53ae50"
      },
      "execution_count": 34,
      "outputs": [
        {
          "output_type": "stream",
          "name": "stdout",
          "text": [
            "#Train set size: 11043\n",
            "#Test set size: 3682\n",
            "Looking in indexes: https://pypi.org/simple, https://us-python.pkg.dev/colab-wheels/public/simple/\n",
            "Requirement already satisfied: konlpy in /usr/local/lib/python3.7/dist-packages (0.6.0)\n",
            "Requirement already satisfied: JPype1>=0.7.0 in /usr/local/lib/python3.7/dist-packages (from konlpy) (1.4.0)\n",
            "Requirement already satisfied: lxml>=4.1.0 in /usr/local/lib/python3.7/dist-packages (from konlpy) (4.9.1)\n",
            "Requirement already satisfied: numpy>=1.6 in /usr/local/lib/python3.7/dist-packages (from konlpy) (1.21.6)\n",
            "Requirement already satisfied: typing-extensions in /usr/local/lib/python3.7/dist-packages (from JPype1>=0.7.0->konlpy) (4.1.1)\n"
          ]
        }
      ]
    },
    {
      "cell_type": "code",
      "source": [
        "# LinearRegression 모듈을 이용하여 다중회귀분석 실시 \n",
        "from sklearn.linear_model import LinearRegression \n",
        "\n",
        "lr = LinearRegression() # 객체 생성\n",
        "lr.fit(X_train_tfidf, y_train) \n",
        "\n",
        "print('#Regression Train set R2 score: {:.3f}'.format(lr.score(X_train_tfidf, y_train))) \n",
        "print('#Regression Test set R2 score: {:.3f}'.format(lr.score(X_test_tfidf, y_test))) "
      ],
      "metadata": {
        "colab": {
          "base_uri": "https://localhost:8080/"
        },
        "id": "6WzcM3NU4n0B",
        "outputId": "480cce64-45f7-4fc7-afca-2a12ac81eda7"
      },
      "execution_count": 35,
      "outputs": [
        {
          "output_type": "stream",
          "name": "stdout",
          "text": [
            "#Regression Train set R2 score: 0.605\n",
            "#Regression Test set R2 score: 0.395\n"
          ]
        }
      ]
    },
    {
      "cell_type": "code",
      "source": [
        "# LinearRegression이 제공하는 score는 R2값으로, 이 척도로는 감성 분석에 대한 정확도를 알기 어려움\n",
        "# 평점을 극성으로 바꿔주고 accuracy_score를 이용하여 정확도 측정 \n",
        "\n",
        "y_train_senti = (y_train > 5) \n",
        "y_test_senti = (y_test > 5) \n",
        "\n",
        "y_train_predict = (lr.predict(X_train_tfidf) > 5) \n",
        "y_test_predict = (lr.predict(X_test_tfidf) > 5) \n",
        "\n",
        "\n",
        "from sklearn.metrics import precision_score \n",
        "from sklearn.metrics import recall_score \n",
        "from sklearn.metrics import f1_score  # 정밀도(precision)와 재현율(recall)의 조화평균. F1 score값이 높으면 성능이 높다고 할 수 있음\n",
        "\n",
        "print('#Accuracy for train set: {:.3f}'.format(accuracy_score(y_train_senti, y_train_predict)))\n",
        "print('Precision for train set: {:.3f}'.format(precision_score(y_train_senti, y_train_predict))) \n",
        "print('Recall for train set:; {:.3f}'.format(recall_score(y_train_senti, y_train_predict)))\n",
        "print('#F1 for train set: {:.3f}'.format(f1_score(y_train_senti, y_train_predict))) \n",
        "\n",
        "print() \n",
        "\n",
        "print('#Accuracy for test set: {:.3f}'.format(accuracy_score(y_test_senti, y_test_predict)))\n",
        "print('Precision for test set: {:.3f}'.format(precision_score(y_test_senti, y_test_predict))) \n",
        "print('Recall for test set:; {:.3f}'.format(recall_score(y_test_senti, y_test_predict)))\n",
        "print('#F1 for test set: {:.3f}'.format(f1_score(y_test_senti, y_test_predict))) \n",
        "\n",
        "# 극성에 대해서는 꽤 좋은 정확도, 정밀도, 재현율을 보임\n"
      ],
      "metadata": {
        "colab": {
          "base_uri": "https://localhost:8080/"
        },
        "id": "Absyw5hp9PqU",
        "outputId": "18049606-9367-4572-d516-104f5ffdf6e3"
      },
      "execution_count": 37,
      "outputs": [
        {
          "output_type": "stream",
          "name": "stdout",
          "text": [
            "#Accuracy for train set: 0.888\n",
            "Precision for train set: 0.893\n",
            "Recall for train set:; 0.969\n",
            "#F1 for train set: 0.929\n",
            "\n",
            "#Accuracy for test set: 0.848\n",
            "Precision for test set: 0.868\n",
            "Recall for test set:; 0.946\n",
            "#F1 for test set: 0.905\n"
          ]
        }
      ]
    },
    {
      "cell_type": "code",
      "source": [
        "# 학습 방법 2 : 극성을 라벨로 한 로지스틱 회귀 분석 \n",
        "# 위에서 극성에 해당하는 y_train_senti, y_test_senti를 이미 구해 놓아서 이를 바로 라벨로 사용\n",
        "\n",
        "from sklearn.linear_model import LogisticRegression \n",
        "\n",
        "LR_clf = LogisticRegression() \n",
        "LR_clf.fit(X_train_tfidf, y_train_senti)  \n",
        "\n",
        "y_train_predict = LR_clf.predict(X_train_tfidf) \n",
        "y_test_predict = LR_clf.predict(X_test_tfidf) \n",
        "\n",
        "\n",
        "print('#Accuracy for train set: {:.3f}'.format(accuracy_score(y_train_senti, y_train_predict)))\n",
        "print('Precision for train set: {:.3f}'.format(precision_score(y_train_senti, y_train_predict))) \n",
        "print('Recall for train set:; {:.3f}'.format(recall_score(y_train_senti, y_train_predict)))\n",
        "print('#F1 for train set: {:.3f}'.format(f1_score(y_train_senti, y_train_predict))) \n",
        "\n",
        "print() \n",
        "\n",
        "print('#Accuracy for test set: {:.3f}'.format(accuracy_score(y_test_senti, y_test_predict)))\n",
        "print('Precision for test set: {:.3f}'.format(precision_score(y_test_senti, y_test_predict))) \n",
        "print('Recall for test set:; {:.3f}'.format(recall_score(y_test_senti, y_test_predict)))\n",
        "print('#F1 for test set: {:.3f}'.format(f1_score(y_test_senti, y_test_predict))) \n"
      ],
      "metadata": {
        "colab": {
          "base_uri": "https://localhost:8080/"
        },
        "id": "i-pLxzONChn-",
        "outputId": "60f4a2ea-e20f-42cc-d446-c6a018ad62b4"
      },
      "execution_count": 38,
      "outputs": [
        {
          "output_type": "stream",
          "name": "stdout",
          "text": [
            "#Accuracy for train set: 0.878\n",
            "Precision for train set: 0.878\n",
            "Recall for train set:; 0.973\n",
            "#F1 for train set: 0.923\n",
            "\n",
            "#Accuracy for test set: 0.855\n",
            "Precision for test set: 0.866\n",
            "Recall for test set:; 0.958\n",
            "#F1 for test set: 0.910\n"
          ]
        }
      ]
    }
  ]
}